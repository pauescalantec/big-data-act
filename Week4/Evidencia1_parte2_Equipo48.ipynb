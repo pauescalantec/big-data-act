{
 "cells": [
  {
   "cell_type": "code",
   "execution_count": 1,
   "id": "815ab9f0-6b99-478d-8037-03433f3584f3",
   "metadata": {},
   "outputs": [],
   "source": [
    "import logging\n",
    "logger = logging.getLogger()\n",
    "logger.setLevel(logging.CRITICAL)\n",
    "\n",
    "import findspark\n",
    "findspark.init()\n",
    "from pyspark import SparkContext, SparkConf, SQLContext\n",
    "from pyspark.sql import SparkSession\n",
    "from pyspark.sql.functions import count, sum, when, split, col, lit, max, min, expr\n",
    "from pyspark.sql.functions import to_date, var_samp, variance, var_pop, month, to_timestamp, dayofweek\n",
    "from pyspark.sql.types import NumericType, IntegerType, FloatType\n",
    "from pyspark.sql.functions import col, round, concat_ws, desc, when, concat\n",
    "from pyspark.sql import functions as F"
   ]
  },
  {
   "cell_type": "code",
   "execution_count": 2,
   "id": "f4e9097f",
   "metadata": {},
   "outputs": [
    {
     "name": "stderr",
     "output_type": "stream",
     "text": [
      "Setting default log level to \"WARN\".\n",
      "To adjust logging level use sc.setLogLevel(newLevel). For SparkR, use setLogLevel(newLevel).\n",
      "25/05/11 15:07:17 WARN NativeCodeLoader: Unable to load native-hadoop library for your platform... using builtin-java classes where applicable\n",
      "25/05/11 15:07:18 WARN Utils: Service 'SparkUI' could not bind on port 4040. Attempting port 4041.\n"
     ]
    },
    {
     "data": {
      "text/html": [
       "\n",
       "            <div>\n",
       "                <p><b>SparkSession - in-memory</b></p>\n",
       "                \n",
       "        <div>\n",
       "            <p><b>SparkContext</b></p>\n",
       "\n",
       "            <p><a href=\"http://192.168.1.158:4041\">Spark UI</a></p>\n",
       "\n",
       "            <dl>\n",
       "              <dt>Version</dt>\n",
       "                <dd><code>v3.5.4</code></dd>\n",
       "              <dt>Master</dt>\n",
       "                <dd><code>local[*]</code></dd>\n",
       "              <dt>AppName</dt>\n",
       "                <dd><code>Maestria_evidencia1</code></dd>\n",
       "            </dl>\n",
       "        </div>\n",
       "        \n",
       "            </div>\n",
       "        "
      ],
      "text/plain": [
       "<pyspark.sql.session.SparkSession at 0x1234cb200>"
      ]
     },
     "execution_count": 2,
     "metadata": {},
     "output_type": "execute_result"
    }
   ],
   "source": [
    "spark = SparkSession.builder \\\n",
    "    .appName(\"Maestria_evidencia1\") \\\n",
    "    .config(\"spark.driver.memory\", \"64g\") \\\n",
    "    .config(\"spark.executor.memory\", \"32g\") \\\n",
    "    .config(\"spark.sql.shuffle.partitions\", \"32\") \\\n",
    "    .config(\"spark.default.parallelism\", \"16\") \\\n",
    "    .config(\"spark.driver.maxResultSize\", \"16g\") \\\n",
    "    .config(\"spark.sql.execution.arrow.pyspark.enabled\", \"true\").getOrCreate()\n",
    "spark.conf.set(\"spark.sql.repl.eagerEval.enabled\", True) # Mejores tablas\n",
    "spark"
   ]
  },
  {
   "cell_type": "code",
   "execution_count": 3,
   "id": "2cbbad79",
   "metadata": {},
   "outputs": [
    {
     "name": "stderr",
     "output_type": "stream",
     "text": [
      "/opt/anaconda3/envs/env-pyspark/lib/python3.12/site-packages/tqdm/auto.py:21: TqdmWarning: IProgress not found. Please update jupyter and ipywidgets. See https://ipywidgets.readthedocs.io/en/stable/user_install.html\n",
      "  from .autonotebook import tqdm as notebook_tqdm\n",
      "25/05/11 15:07:33 WARN GarbageCollectionMetrics: To enable non-built-in garbage collector(s) List(G1 Concurrent GC), users should configure it(them) to spark.eventLog.gcMetrics.youngGenerationGarbageCollectors or spark.eventLog.gcMetrics.oldGenerationGarbageCollectors\n",
      "                                                                                "
     ]
    },
    {
     "data": {
      "text/plain": [
       "Row(event_time=datetime.date(2019, 11, 17), event_type='view', product_id=5300440, category_id=2053013563173241677, brand='vitek', price=17.76, user_id=513341639, user_session='d9544029-2739-4d16-9cac-79650460d9f0', event_time_ts=datetime.datetime(2019, 11, 17, 5, 35, 32), parent_category='None', subcategory='None', price_bucket='low', day_of_week=1, is_weekend=True)"
      ]
     },
     "execution_count": 3,
     "metadata": {},
     "output_type": "execute_result"
    }
   ],
   "source": [
    "import kagglehub\n",
    "from kagglehub import KaggleDatasetAdapter\n",
    "\n",
    "####\n",
    "#### La base de datos ha sido limpiada y modificada a este punto\n",
    "#### \n",
    "####\n",
    "file_path = \"/Users/pauescalante/Documents/Maestria/Trimestre 7/BigData/big-data-act/DataModified/expanded_database_ecommerce\"\n",
    "df = spark.read.csv(file_path, header=True, inferSchema=True)\n",
    "\n",
    "df.head()"
   ]
  },
  {
   "cell_type": "code",
   "execution_count": 4,
   "id": "dfbdae4c-4fd2-4bb3-b4d4-0c3173b6253c",
   "metadata": {},
   "outputs": [
    {
     "name": "stdout",
     "output_type": "stream",
     "text": [
      "root\n",
      " |-- event_time: timestamp (nullable = true)\n",
      " |-- event_type: string (nullable = true)\n",
      " |-- product_id: integer (nullable = true)\n",
      " |-- category_id: long (nullable = true)\n",
      " |-- brand: string (nullable = true)\n",
      " |-- price: float (nullable = true)\n",
      " |-- user_id: integer (nullable = true)\n",
      " |-- user_session: string (nullable = true)\n",
      " |-- parent_category: string (nullable = true)\n",
      " |-- subcategory: string (nullable = true)\n",
      " |-- price_bucket: string (nullable = true)\n",
      " |-- event_time_ts: timestamp (nullable = true)\n",
      " |-- day_of_week: integer (nullable = true)\n",
      " |-- is_weekend: boolean (nullable = true)\n",
      "\n"
     ]
    }
   ],
   "source": [
    "df = df.selectExpr(\n",
    "    'cast(event_time as timestamp) event_time',\n",
    "    'cast(event_type as string) event_type',\n",
    "    'cast(product_id as int) product_id',\n",
    "    'cast(category_id as long) category_id',\n",
    "    'cast(brand as string) brand',\n",
    "    'cast(price as float) price',\n",
    "    'cast(user_id as int) user_id',\n",
    "    'cast(user_session as string) user_session',\n",
    "    'cast(parent_category as string) parent_category',\n",
    "    'cast(subcategory as string) subcategory',\n",
    "    'cast(price_bucket as string) price_bucket',\n",
    "    'cast(event_time_ts as timestamp) event_time_ts',\n",
    "    'cast(day_of_week as int) day_of_week',\n",
    "    'cast(is_weekend as boolean) is_weekend',\n",
    ")\n",
    "\n",
    "df.printSchema()"
   ]
  },
  {
   "cell_type": "code",
   "execution_count": 5,
   "id": "8381df1f-dab1-48fe-91d4-e5d61fa65348",
   "metadata": {},
   "outputs": [],
   "source": [
    "# Crear el data frame de las variables de caracterización \n",
    "df_characterization = df.select(\"event_type\", \"price_bucket\")"
   ]
  },
  {
   "cell_type": "code",
   "execution_count": null,
   "id": "2b378d1e-1fbb-4549-8e78-596669dbf4e0",
   "metadata": {},
   "outputs": [],
   "source": []
  },
  {
   "cell_type": "code",
   "execution_count": 6,
   "id": "d643389a-96b0-46f6-a3e4-2a0e5ab62c53",
   "metadata": {},
   "outputs": [
    {
     "name": "stderr",
     "output_type": "stream",
     "text": [
      "                                                                                "
     ]
    },
    {
     "name": "stdout",
     "output_type": "stream",
     "text": [
      "109950731\n"
     ]
    }
   ],
   "source": [
    "total_count = df_characterization.count()\n",
    "print(total_count)"
   ]
  },
  {
   "cell_type": "code",
   "execution_count": 7,
   "id": "fa42f200-cf0a-439e-99bd-6b3555e6ea01",
   "metadata": {},
   "outputs": [
    {
     "name": "stderr",
     "output_type": "stream",
     "text": [
      "[Stage 7:====================================================>  (139 + 7) / 146]"
     ]
    },
    {
     "name": "stdout",
     "output_type": "stream",
     "text": [
      "+----------+---------+--------------------+\n",
      "|event_type|    count|        probabilidad|\n",
      "+----------+---------+--------------------+\n",
      "|      cart|  3955434|0.035974603934193036|\n",
      "|  purchase|  1659788|0.015095743201561799|\n",
      "|      view|104335509|  0.9489296528642451|\n",
      "+----------+---------+--------------------+\n",
      "\n"
     ]
    },
    {
     "name": "stderr",
     "output_type": "stream",
     "text": [
      "                                                                                "
     ]
    }
   ],
   "source": [
    "# Probabilidades de event_type\n",
    "event_type_probs = (\n",
    "    df_characterization.groupBy(\"event_type\")\n",
    "      .count()\n",
    "      .withColumn(\"probabilidad\", col(\"count\") / total_count)\n",
    ")\n",
    "\n",
    "event_type_probs.show()"
   ]
  },
  {
   "cell_type": "code",
   "execution_count": 8,
   "id": "92da5241-fc5d-415b-9f51-bdd8df82225c",
   "metadata": {},
   "outputs": [
    {
     "name": "stderr",
     "output_type": "stream",
     "text": [
      "[Stage 10:====================================================> (142 + 4) / 146]"
     ]
    },
    {
     "name": "stdout",
     "output_type": "stream",
     "text": [
      "+------------+--------+-------------------+\n",
      "|price_bucket|   count|       probabilidad|\n",
      "+------------+--------+-------------------+\n",
      "|         low|37649697| 0.3424233441431144|\n",
      "|      medium|39579818| 0.3599777613120189|\n",
      "|        high|32721216|0.29759889454486665|\n",
      "+------------+--------+-------------------+\n",
      "\n"
     ]
    },
    {
     "name": "stderr",
     "output_type": "stream",
     "text": [
      "                                                                                "
     ]
    }
   ],
   "source": [
    "price_bucket_probs = (\n",
    "    df_characterization.groupBy(\"price_bucket\")\n",
    "      .count()\n",
    "      .withColumn(\"probabilidad\", col(\"count\") / total_count)\n",
    ")\n",
    "\n",
    "price_bucket_probs.show()"
   ]
  },
  {
   "cell_type": "code",
   "execution_count": null,
   "id": "eecbe8bd-d09c-4b29-8ec6-9ea40edb1bc2",
   "metadata": {},
   "outputs": [],
   "source": []
  },
  {
   "cell_type": "code",
   "execution_count": 9,
   "id": "056f6595-01aa-4bcd-8e82-b82896be1dcf",
   "metadata": {},
   "outputs": [],
   "source": [
    "# Metodo alternativo de calcular las probabilidades conjuntas\n",
    "prob_df_characterization = df_characterization.groupBy(\"event_type\", \"price_bucket\").agg(\n",
    "    F.count(\"*\").alias(\"conteo\"),\n",
    "    (round(F.count(\"*\") / F.lit(total_count),4)).alias(\"probabilidad\")\n",
    ")"
   ]
  },
  {
   "cell_type": "code",
   "execution_count": 10,
   "id": "4dfa6659-8b7e-4c20-8702-49eb35726aa2",
   "metadata": {},
   "outputs": [
    {
     "name": "stderr",
     "output_type": "stream",
     "text": [
      "[Stage 13:====================================================> (142 + 4) / 146]"
     ]
    },
    {
     "name": "stdout",
     "output_type": "stream",
     "text": [
      "+----------+------------+--------+------------+\n",
      "|event_type|price_bucket|  conteo|probabilidad|\n",
      "+----------+------------+--------+------------+\n",
      "|      view|      medium|37219285|      0.3385|\n",
      "|      view|         low|36051044|      0.3279|\n",
      "|      view|        high|31065180|      0.2825|\n",
      "|  purchase|      medium|  688662|      0.0063|\n",
      "|  purchase|         low|  476250|      0.0043|\n",
      "|  purchase|        high|  494876|      0.0045|\n",
      "|      cart|         low| 1122403|      0.0102|\n",
      "|      cart|      medium| 1671871|      0.0152|\n",
      "|      cart|        high| 1161160|      0.0106|\n",
      "+----------+------------+--------+------------+\n",
      "\n"
     ]
    },
    {
     "name": "stderr",
     "output_type": "stream",
     "text": [
      "                                                                                "
     ]
    }
   ],
   "source": [
    "prob_df_characterization = prob_df_characterization.orderBy(desc(\"event_type\"))\n",
    "prob_df_characterization.show()"
   ]
  },
  {
   "cell_type": "code",
   "execution_count": 11,
   "id": "53836005-b762-453a-82d0-af494978aa02",
   "metadata": {},
   "outputs": [],
   "source": [
    "# Obtener los valores únicos de cada columna como listas\n",
    "df_characterization = df_characterization.withColumn(\"combined_col\", concat(df_characterization[\"event_type\"], lit(\",\"), df_characterization[\"price_bucket\"]))"
   ]
  },
  {
   "cell_type": "code",
   "execution_count": 12,
   "id": "003e5848-bed2-4c25-994f-c8b3ef34e331",
   "metadata": {},
   "outputs": [
    {
     "data": {
      "text/plain": [
       "[Row(event_type='view', price_bucket='low', combined_col='view,low'),\n",
       " Row(event_type='view', price_bucket='high', combined_col='view,high'),\n",
       " Row(event_type='view', price_bucket='high', combined_col='view,high')]"
      ]
     },
     "execution_count": 12,
     "metadata": {},
     "output_type": "execute_result"
    }
   ],
   "source": [
    "df_characterization.head(3)"
   ]
  },
  {
   "cell_type": "code",
   "execution_count": null,
   "id": "5aadfa4b-c0f1-4033-b299-655558e3602d",
   "metadata": {},
   "outputs": [],
   "source": []
  },
  {
   "cell_type": "code",
   "execution_count": 13,
   "id": "28670641-f6cd-4f5e-a575-c9f42521f9eb",
   "metadata": {},
   "outputs": [
    {
     "name": "stderr",
     "output_type": "stream",
     "text": [
      "[Stage 17:=================================================>   (136 + 10) / 146]"
     ]
    },
    {
     "name": "stdout",
     "output_type": "stream",
     "text": [
      "+---------------+\n",
      "|   combined_col|\n",
      "+---------------+\n",
      "|    view,medium|\n",
      "|       view,low|\n",
      "|      view,high|\n",
      "|purchase,medium|\n",
      "|   purchase,low|\n",
      "|  purchase,high|\n",
      "|    cart,medium|\n",
      "|       cart,low|\n",
      "|      cart,high|\n",
      "+---------------+\n",
      "\n"
     ]
    },
    {
     "name": "stderr",
     "output_type": "stream",
     "text": [
      "                                                                                "
     ]
    }
   ],
   "source": [
    "distinct_values = df_characterization.select(\"combined_col\").distinct().orderBy(desc(\"combined_col\"))\n",
    "print(distinct_values)"
   ]
  },
  {
   "cell_type": "code",
   "execution_count": null,
   "id": "82a0c349-cdca-40d4-b3ab-cf649db7c830",
   "metadata": {},
   "outputs": [],
   "source": []
  },
  {
   "cell_type": "code",
   "execution_count": 14,
   "id": "ad32dd0f-d895-46b2-9e60-d638e95311e4",
   "metadata": {},
   "outputs": [
    {
     "name": "stderr",
     "output_type": "stream",
     "text": [
      "[Stage 20:=============================================>       (125 + 12) / 146]"
     ]
    },
    {
     "name": "stdout",
     "output_type": "stream",
     "text": [
      "11161\n"
     ]
    },
    {
     "name": "stderr",
     "output_type": "stream",
     "text": [
      "                                                                                "
     ]
    }
   ],
   "source": [
    "# Probando usando el muestreo aleatorio simple (SRS)\n",
    "sample_df = df.sample(fraction=0.0001)\n",
    "total_count_sample = sample_df.count()\n",
    "print(total_count_sample)"
   ]
  },
  {
   "cell_type": "code",
   "execution_count": 15,
   "id": "e3cdf99c-e6a0-440e-b282-bce419b138a2",
   "metadata": {},
   "outputs": [],
   "source": [
    "# verificar las probabilidades del data set\n",
    "prob_df_sample = sample_df.groupBy(\"event_type\", \"price_bucket\").agg(\n",
    "    F.count(\"*\").alias(\"conteo\"),\n",
    "    (round(F.count(\"*\") / F.lit(total_count_sample),4)).alias(\"probabilidad\")\n",
    ")"
   ]
  },
  {
   "cell_type": "code",
   "execution_count": 16,
   "id": "6137126c-8d9e-491c-b886-e6d90bc8d1ef",
   "metadata": {},
   "outputs": [
    {
     "name": "stderr",
     "output_type": "stream",
     "text": [
      "[Stage 24:====================================================> (141 + 5) / 146]"
     ]
    },
    {
     "name": "stdout",
     "output_type": "stream",
     "text": [
      "+----------+------------+------+------------+-------------------------------+\n",
      "|event_type|price_bucket|conteo|probabilidad|previous_calculated_probability|\n",
      "+----------+------------+------+------------+-------------------------------+\n",
      "|      view|      medium|  3815|      0.3418|                         0.3385|\n",
      "|      view|         low|  3637|      0.3259|                         0.3279|\n",
      "|      view|        high|  3113|      0.2789|                         0.2825|\n",
      "|  purchase|      medium|    82|      0.0073|                         0.0063|\n",
      "|  purchase|         low|    47|      0.0042|                         0.0043|\n",
      "|  purchase|        high|    66|      0.0059|                         0.0045|\n",
      "|      cart|      medium|   165|      0.0148|                         0.0152|\n",
      "|      cart|        high|   130|      0.0116|                         0.0106|\n",
      "|      cart|         low|   106|      0.0095|                         0.0102|\n",
      "+----------+------------+------+------------+-------------------------------+\n",
      "\n"
     ]
    },
    {
     "name": "stderr",
     "output_type": "stream",
     "text": [
      "                                                                                "
     ]
    }
   ],
   "source": [
    "# agregar una columna de probabilidad del data set entero previamente calculado\n",
    "previous_probability = prob_df_characterization.withColumnRenamed(\"probabilidad\", \"previous_calculated_probability\")\n",
    "result_df = prob_df_sample.join(previous_probability.select(\"event_type\", \"price_bucket\", \"previous_calculated_probability\"), on=[\"event_type\", \"price_bucket\"], how=\"left\")\n",
    "\n",
    "result_df = result_df.orderBy(desc(\"event_type\"))\n",
    "result_df.show()"
   ]
  },
  {
   "cell_type": "code",
   "execution_count": 18,
   "id": "7141871c-e6c0-4be3-9b84-b17b9fa32492",
   "metadata": {},
   "outputs": [
    {
     "name": "stderr",
     "output_type": "stream",
     "text": [
      "[Stage 32:====================================================> (141 + 5) / 146]"
     ]
    },
    {
     "name": "stdout",
     "output_type": "stream",
     "text": [
      "+---------------+--------+\n",
      "|parent_category|count   |\n",
      "+---------------+--------+\n",
      "|electronics    |40141700|\n",
      "|None           |35413777|\n",
      "|appliances     |13457119|\n",
      "|computers      |6505575 |\n",
      "|apparel        |4554025 |\n",
      "+---------------+--------+\n",
      "only showing top 5 rows\n",
      "\n"
     ]
    },
    {
     "name": "stderr",
     "output_type": "stream",
     "text": [
      "                                                                                "
     ]
    }
   ],
   "source": [
    "# Checando los top 5 valores\n",
    "df.groupBy(\"parent_category\").count().orderBy(\"count\", ascending=False).show(5, truncate=False)"
   ]
  },
  {
   "cell_type": "code",
   "execution_count": 19,
   "id": "39bdf65e-fac8-4883-b9bb-b367d67d788c",
   "metadata": {},
   "outputs": [
    {
     "name": "stderr",
     "output_type": "stream",
     "text": [
      "[Stage 35:=====================================================>(144 + 2) / 146]"
     ]
    },
    {
     "name": "stdout",
     "output_type": "stream",
     "text": [
      "+-----------+--------+\n",
      "|subcategory|count   |\n",
      "+-----------+--------+\n",
      "|None       |35413777|\n",
      "|smartphone |27882227|\n",
      "|clocks     |3397998 |\n",
      "|video.tv   |3321794 |\n",
      "|notebook   |3318177 |\n",
      "+-----------+--------+\n",
      "only showing top 5 rows\n",
      "\n"
     ]
    },
    {
     "name": "stderr",
     "output_type": "stream",
     "text": [
      "                                                                                "
     ]
    }
   ],
   "source": [
    "df.groupBy(\"subcategory\").count().orderBy(\"count\", ascending=False).show(5, truncate=False)"
   ]
  },
  {
   "cell_type": "code",
   "execution_count": null,
   "id": "9c8f776e-9170-4a1a-8692-21f4598dd90e",
   "metadata": {},
   "outputs": [],
   "source": []
  }
 ],
 "metadata": {
  "kernelspec": {
   "display_name": "Python 3 (ipykernel)",
   "language": "python",
   "name": "python3"
  },
  "language_info": {
   "codemirror_mode": {
    "name": "ipython",
    "version": 3
   },
   "file_extension": ".py",
   "mimetype": "text/x-python",
   "name": "python",
   "nbconvert_exporter": "python",
   "pygments_lexer": "ipython3",
   "version": "3.12.9"
  }
 },
 "nbformat": 4,
 "nbformat_minor": 5
}
