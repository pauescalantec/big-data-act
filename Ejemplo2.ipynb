{
 "cells": [
  {
   "cell_type": "markdown",
   "id": "ZtMwBPYllOsO",
   "metadata": {
    "id": "ZtMwBPYllOsO"
   },
   "source": [
    "# Introducción a PySpark"
   ]
  },
  {
   "cell_type": "markdown",
   "id": "4sJd8dqFlZPJ",
   "metadata": {
    "id": "4sJd8dqFlZPJ"
   },
   "source": [
    "### Cargando el entorno de PySpark en Goolge Colab"
   ]
  },
  {
   "cell_type": "code",
   "execution_count": 121,
   "id": "rScao98Dw63J",
   "metadata": {
    "executionInfo": {
     "elapsed": 21669,
     "status": "ok",
     "timestamp": 1745537369634,
     "user": {
      "displayName": "Ivan Olmos Pineda",
      "userId": "08486411851354884128"
     },
     "user_tz": 360
    },
    "id": "rScao98Dw63J"
   },
   "outputs": [],
   "source": [
    "!apt-get install openjdk-8-jdk-headless -qq > /dev/null\n",
    "!wget -q http://archive.apache.org/dist/spark/spark-3.1.1/spark-3.1.1-bin-hadoop3.2.tgz\n",
    "!tar xf spark-3.1.1-bin-hadoop3.2.tgz\n",
    "!pip install -q findspark"
   ]
  },
  {
   "cell_type": "code",
   "execution_count": 122,
   "id": "NNrwXuwTw-Ai",
   "metadata": {
    "executionInfo": {
     "elapsed": 2,
     "status": "ok",
     "timestamp": 1745537482985,
     "user": {
      "displayName": "Ivan Olmos Pineda",
      "userId": "08486411851354884128"
     },
     "user_tz": 360
    },
    "id": "NNrwXuwTw-Ai"
   },
   "outputs": [],
   "source": [
    "import os\n",
    "os.environ[\"JAVA_HOME\"] = \"/usr/lib/jvm/java-8-openjdk-amd64\"\n",
    "os.environ[\"SPARK_HOME\"] = \"/content/spark-3.1.1-bin-hadoop3.2\""
   ]
  },
  {
   "cell_type": "code",
   "execution_count": 123,
   "id": "dLEuWf3ixBKy",
   "metadata": {
    "colab": {
     "base_uri": "https://localhost:8080/"
    },
    "executionInfo": {
     "elapsed": 114,
     "status": "ok",
     "timestamp": 1745537484241,
     "user": {
      "displayName": "Ivan Olmos Pineda",
      "userId": "08486411851354884128"
     },
     "user_tz": 360
    },
    "id": "dLEuWf3ixBKy",
    "outputId": "1e8666ea-33c1-49f7-c81c-3f116e498509"
   },
   "outputs": [
    {
     "name": "stdout",
     "output_type": "stream",
     "text": [
      "cars.csv    sample_data\t\t\t   spark-3.1.1-bin-hadoop3.2.tgz.1\n",
      "cars.csv.1  spark-3.1.1-bin-hadoop3.2\t   spark-3.1.1-bin-hadoop3.2.tgz.2\n",
      "cars.csv.2  spark-3.1.1-bin-hadoop3.2.tgz\n"
     ]
    }
   ],
   "source": [
    "!ls"
   ]
  },
  {
   "cell_type": "code",
   "execution_count": 124,
   "id": "nbPLgGPyxI57",
   "metadata": {
    "colab": {
     "base_uri": "https://localhost:8080/",
     "height": 219
    },
    "executionInfo": {
     "elapsed": 17,
     "status": "ok",
     "timestamp": 1745537545074,
     "user": {
      "displayName": "Ivan Olmos Pineda",
      "userId": "08486411851354884128"
     },
     "user_tz": 360
    },
    "id": "nbPLgGPyxI57",
    "outputId": "20ca2bff-d5a3-4ac2-cca3-e5d5641d9689"
   },
   "outputs": [
    {
     "data": {
      "text/html": [
       "\n",
       "            <div>\n",
       "                <p><b>SparkSession - in-memory</b></p>\n",
       "                \n",
       "        <div>\n",
       "            <p><b>SparkContext</b></p>\n",
       "\n",
       "            <p><a href=\"http://188847b96874:4040\">Spark UI</a></p>\n",
       "\n",
       "            <dl>\n",
       "              <dt>Version</dt>\n",
       "                <dd><code>v3.1.1</code></dd>\n",
       "              <dt>Master</dt>\n",
       "                <dd><code>local[*]</code></dd>\n",
       "              <dt>AppName</dt>\n",
       "                <dd><code>Ejemplo</code></dd>\n",
       "            </dl>\n",
       "        </div>\n",
       "        \n",
       "            </div>\n",
       "        "
      ],
      "text/plain": [
       "<pyspark.sql.session.SparkSession at 0x7cc1e4dc1510>"
      ]
     },
     "execution_count": 124,
     "metadata": {},
     "output_type": "execute_result"
    }
   ],
   "source": [
    "import findspark\n",
    "findspark.init()\n",
    "from pyspark import SparkContext, SparkConf, SQLContext\n",
    "from pyspark.sql import SparkSession\n",
    "#spark = SparkSession.builder.master(\"local[*]\").getOrCreate()\n",
    "spark = SparkSession.builder \\\n",
    "                    .master(\"local[*]\") \\\n",
    "                    .appName(\"Ejemplo\") \\\n",
    "                    .getOrCreate()\n",
    "spark.conf.set(\"spark.sql.repl.eagerEval.enabled\", True) # Property used to format output tables better\n",
    "spark"
   ]
  },
  {
   "cell_type": "markdown",
   "id": "8ykLAk6hlfGG",
   "metadata": {
    "id": "8ykLAk6hlfGG"
   },
   "source": [
    "### Importando una base de datos externa"
   ]
  },
  {
   "cell_type": "code",
   "execution_count": 125,
   "id": "eca288c1",
   "metadata": {
    "colab": {
     "base_uri": "https://localhost:8080/"
    },
    "executionInfo": {
     "elapsed": 312,
     "status": "ok",
     "timestamp": 1745537548435,
     "user": {
      "displayName": "Ivan Olmos Pineda",
      "userId": "08486411851354884128"
     },
     "user_tz": 360
    },
    "id": "eca288c1",
    "outputId": "f778b63f-e657-49b3-c8a8-7b93092b1b84"
   },
   "outputs": [
    {
     "name": "stdout",
     "output_type": "stream",
     "text": [
      "--2025-04-24 23:32:28--  https://jacobceles.github.io/knowledge_repo/colab_and_pyspark/cars.csv\n",
      "Resolving jacobceles.github.io (jacobceles.github.io)... 185.199.108.153, 185.199.109.153, 185.199.110.153, ...\n",
      "Connecting to jacobceles.github.io (jacobceles.github.io)|185.199.108.153|:443... connected.\n",
      "HTTP request sent, awaiting response... 301 Moved Permanently\n",
      "Location: https://jacobcelestine.com/knowledge_repo/colab_and_pyspark/cars.csv [following]\n",
      "--2025-04-24 23:32:28--  https://jacobcelestine.com/knowledge_repo/colab_and_pyspark/cars.csv\n",
      "Resolving jacobcelestine.com (jacobcelestine.com)... 185.199.108.153, 185.199.109.153, 185.199.110.153, ...\n",
      "Connecting to jacobcelestine.com (jacobcelestine.com)|185.199.108.153|:443... connected.\n",
      "HTTP request sent, awaiting response... 200 OK\n",
      "Length: 22608 (22K) [text/csv]\n",
      "Saving to: ‘cars.csv.3’\n",
      "\n",
      "cars.csv.3          100%[===================>]  22.08K  --.-KB/s    in 0.001s  \n",
      "\n",
      "2025-04-24 23:32:28 (19.1 MB/s) - ‘cars.csv.3’ saved [22608/22608]\n",
      "\n"
     ]
    }
   ],
   "source": [
    "!wget https://jacobceles.github.io/knowledge_repo/colab_and_pyspark/cars.csv"
   ]
  },
  {
   "cell_type": "markdown",
   "id": "vl6-kp07lEVa",
   "metadata": {
    "id": "vl6-kp07lEVa"
   },
   "source": [
    "## Creando un Dataframe a partir de un archivo \"csv\" de entrada"
   ]
  },
  {
   "cell_type": "code",
   "execution_count": 72,
   "id": "ECu_nwAPvdIj",
   "metadata": {
    "colab": {
     "base_uri": "https://localhost:8080/"
    },
    "executionInfo": {
     "elapsed": 450,
     "status": "ok",
     "timestamp": 1745521802222,
     "user": {
      "displayName": "Ivan Olmos Pineda",
      "userId": "08486411851354884128"
     },
     "user_tz": 360
    },
    "id": "ECu_nwAPvdIj",
    "outputId": "43be331b-1b6a-43a9-d3bd-084954397f06"
   },
   "outputs": [
    {
     "name": "stdout",
     "output_type": "stream",
     "text": [
      "+--------------------+----+---------+------------+----------+------+------------+-----+------+\n",
      "|                 Car| MPG|Cylinders|Displacement|Horsepower|Weight|Acceleration|Model|Origin|\n",
      "+--------------------+----+---------+------------+----------+------+------------+-----+------+\n",
      "|Chevrolet Chevell...|18.0|        8|       307.0|     130.0|  3504|        12.0|   70|    US|\n",
      "|   Buick Skylark 320|15.0|        8|       350.0|     165.0|  3693|        11.5|   70|    US|\n",
      "|  Plymouth Satellite|18.0|        8|       318.0|     150.0|  3436|        11.0|   70|    US|\n",
      "|       AMC Rebel SST|16.0|        8|       304.0|     150.0|  3433|        12.0|   70|    US|\n",
      "|         Ford Torino|17.0|        8|       302.0|     140.0|  3449|        10.5|   70|    US|\n",
      "|    Ford Galaxie 500|15.0|        8|       429.0|     198.0|  4341|        10.0|   70|    US|\n",
      "|    Chevrolet Impala|14.0|        8|       454.0|     220.0|  4354|         9.0|   70|    US|\n",
      "|   Plymouth Fury iii|14.0|        8|       440.0|     215.0|  4312|         8.5|   70|    US|\n",
      "|    Pontiac Catalina|14.0|        8|       455.0|     225.0|  4425|        10.0|   70|    US|\n",
      "|  AMC Ambassador DPL|15.0|        8|       390.0|     190.0|  3850|         8.5|   70|    US|\n",
      "+--------------------+----+---------+------------+----------+------+------------+-----+------+\n",
      "only showing top 10 rows\n",
      "\n"
     ]
    }
   ],
   "source": [
    "df = spark.read.csv('cars.csv', header=True, sep=\";\", inferSchema=True)\n",
    "df.show(10)"
   ]
  },
  {
   "cell_type": "code",
   "execution_count": 8,
   "id": "_MrsVfIavmle",
   "metadata": {
    "colab": {
     "base_uri": "https://localhost:8080/"
    },
    "executionInfo": {
     "elapsed": 831,
     "status": "ok",
     "timestamp": 1745511600272,
     "user": {
      "displayName": "Ivan Olmos Pineda",
      "userId": "08486411851354884128"
     },
     "user_tz": 360
    },
    "id": "_MrsVfIavmle",
    "outputId": "beb765d5-1dc2-4674-9c97-0bb0e595cdb5"
   },
   "outputs": [
    {
     "data": {
      "text/plain": [
       "406"
      ]
     },
     "execution_count": 8,
     "metadata": {},
     "output_type": "execute_result"
    }
   ],
   "source": [
    "# Imprimiendo en número de registros en el Dataframe\n",
    "df.count()"
   ]
  },
  {
   "cell_type": "code",
   "execution_count": 9,
   "id": "nZO9jUpqvpTg",
   "metadata": {
    "colab": {
     "base_uri": "https://localhost:8080/"
    },
    "executionInfo": {
     "elapsed": 79,
     "status": "ok",
     "timestamp": 1745511603329,
     "user": {
      "displayName": "Ivan Olmos Pineda",
      "userId": "08486411851354884128"
     },
     "user_tz": 360
    },
    "id": "nZO9jUpqvpTg",
    "outputId": "26759193-8acc-4fb8-ce14-8a1289590526"
   },
   "outputs": [
    {
     "name": "stdout",
     "output_type": "stream",
     "text": [
      "9\n"
     ]
    }
   ],
   "source": [
    "# Imprimiendo el número de columnas en el Dataframe\n",
    "print(len(df.columns))"
   ]
  },
  {
   "cell_type": "markdown",
   "id": "x5xHtmITmAjg",
   "metadata": {
    "id": "x5xHtmITmAjg"
   },
   "source": [
    "#### Imprimiendo información sobre el tipo de datos y esquema del Dataframe"
   ]
  },
  {
   "cell_type": "code",
   "execution_count": 26,
   "id": "oJ_Lt4N0mGvj",
   "metadata": {
    "colab": {
     "base_uri": "https://localhost:8080/"
    },
    "executionInfo": {
     "elapsed": 39,
     "status": "ok",
     "timestamp": 1745514194898,
     "user": {
      "displayName": "Ivan Olmos Pineda",
      "userId": "08486411851354884128"
     },
     "user_tz": 360
    },
    "id": "oJ_Lt4N0mGvj",
    "outputId": "53437e2a-3aa8-4b87-9a7b-cd38bbadd53b"
   },
   "outputs": [
    {
     "data": {
      "text/plain": [
       "[('Car', 'string'),\n",
       " ('MPG', 'double'),\n",
       " ('Cylinders', 'int'),\n",
       " ('Displacement', 'double'),\n",
       " ('Horsepower', 'double'),\n",
       " ('Weight', 'decimal(4,0)'),\n",
       " ('Acceleration', 'double'),\n",
       " ('Model', 'int'),\n",
       " ('Origin', 'string')]"
      ]
     },
     "execution_count": 26,
     "metadata": {},
     "output_type": "execute_result"
    }
   ],
   "source": [
    "# Imprimiendo los tipos de datos del Dataframe\n",
    "df.dtypes"
   ]
  },
  {
   "cell_type": "code",
   "execution_count": 27,
   "id": "hOJarRs-mX3s",
   "metadata": {
    "colab": {
     "base_uri": "https://localhost:8080/"
    },
    "executionInfo": {
     "elapsed": 6,
     "status": "ok",
     "timestamp": 1745514196198,
     "user": {
      "displayName": "Ivan Olmos Pineda",
      "userId": "08486411851354884128"
     },
     "user_tz": 360
    },
    "id": "hOJarRs-mX3s",
    "outputId": "f167ed4e-710d-4811-bcb6-b3dd9b9401a0"
   },
   "outputs": [
    {
     "name": "stdout",
     "output_type": "stream",
     "text": [
      "root\n",
      " |-- Car: string (nullable = true)\n",
      " |-- MPG: double (nullable = true)\n",
      " |-- Cylinders: integer (nullable = true)\n",
      " |-- Displacement: double (nullable = true)\n",
      " |-- Horsepower: double (nullable = true)\n",
      " |-- Weight: decimal(4,0) (nullable = true)\n",
      " |-- Acceleration: double (nullable = true)\n",
      " |-- Model: integer (nullable = true)\n",
      " |-- Origin: string (nullable = true)\n",
      "\n"
     ]
    }
   ],
   "source": [
    "# Imprimiendo el esquema del Dataframe\n",
    "df.printSchema()"
   ]
  },
  {
   "cell_type": "markdown",
   "id": "A_3lK9H1qzbh",
   "metadata": {
    "id": "A_3lK9H1qzbh"
   },
   "source": [
    "#### Cambiando el esquema del Dataframe"
   ]
  },
  {
   "cell_type": "code",
   "execution_count": 28,
   "id": "Bs5nbc9sms4s",
   "metadata": {
    "colab": {
     "base_uri": "https://localhost:8080/"
    },
    "executionInfo": {
     "elapsed": 26,
     "status": "ok",
     "timestamp": 1745514199694,
     "user": {
      "displayName": "Ivan Olmos Pineda",
      "userId": "08486411851354884128"
     },
     "user_tz": 360
    },
    "id": "Bs5nbc9sms4s",
    "outputId": "663e4913-876f-4e0b-b972-ba022d754202"
   },
   "outputs": [
    {
     "name": "stdout",
     "output_type": "stream",
     "text": [
      "root\n",
      " |-- Car: string (nullable = true)\n",
      " |-- MPG: float (nullable = true)\n",
      " |-- Cylinders: integer (nullable = true)\n",
      " |-- Displacement: double (nullable = true)\n",
      " |-- Horsepower: double (nullable = true)\n",
      " |-- Weight: decimal(4,0) (nullable = true)\n",
      " |-- Acceleration: double (nullable = true)\n",
      " |-- Model: integer (nullable = true)\n",
      " |-- Origin: string (nullable = true)\n",
      "\n"
     ]
    }
   ],
   "source": [
    "# Si se requiere cambiar el tipo de alguna columna, se puede usar withColumn\n",
    "from pyspark.sql.types import IntegerType, FloatType\n",
    "\n",
    "# Dos formas en las cuales se puede cambiar el formato de la columna MPG\n",
    "df = df.withColumn('MPG', df['MPG'].cast(FloatType()))\n",
    "#df = df.withColumn(\"MPG\", df[\"MPG\"].cast(\"float\"))\n",
    "\n",
    "df.printSchema()"
   ]
  },
  {
   "cell_type": "code",
   "execution_count": 29,
   "id": "JAjLW2kZoJ8t",
   "metadata": {
    "colab": {
     "base_uri": "https://localhost:8080/"
    },
    "executionInfo": {
     "elapsed": 51,
     "status": "ok",
     "timestamp": 1745514201724,
     "user": {
      "displayName": "Ivan Olmos Pineda",
      "userId": "08486411851354884128"
     },
     "user_tz": 360
    },
    "id": "JAjLW2kZoJ8t",
    "outputId": "4074b8c0-b867-47e7-a492-86d40266552c"
   },
   "outputs": [
    {
     "name": "stdout",
     "output_type": "stream",
     "text": [
      "root\n",
      " |-- Car: string (nullable = true)\n",
      " |-- MPG: float (nullable = true)\n",
      " |-- Cylinders: integer (nullable = true)\n",
      " |-- Displacement: integer (nullable = true)\n",
      " |-- Horsepower: integer (nullable = true)\n",
      " |-- Weight: integer (nullable = true)\n",
      " |-- Acceleration: float (nullable = true)\n",
      " |-- Model: integer (nullable = true)\n",
      " |-- Origin: string (nullable = true)\n",
      "\n"
     ]
    }
   ],
   "source": [
    "# Si fuera necesario, se puede cambiar el tipo a todas las columnas del Dataframe usando selectExpr\n",
    "\n",
    "df2 = df.selectExpr(\n",
    "    'cast(Car as string) Car',\n",
    "    'cast(MPG as float) MPG',\n",
    "    'cast(Cylinders as int) Cylinders',\n",
    "    'cast(Displacement as int) Displacement',\n",
    "    'cast(Horsepower as int) Horsepower',\n",
    "    'cast(Weight as int) Weight',\n",
    "    'cast(Acceleration as float) Acceleration',\n",
    "    'cast(Model as int) Model',\n",
    "    'cast(Origin as string) Origin'\n",
    ")\n",
    "\n",
    "df2.printSchema()"
   ]
  },
  {
   "cell_type": "code",
   "execution_count": 30,
   "id": "0IiANudhoxUJ",
   "metadata": {
    "colab": {
     "base_uri": "https://localhost:8080/"
    },
    "executionInfo": {
     "elapsed": 315,
     "status": "ok",
     "timestamp": 1745514204736,
     "user": {
      "displayName": "Ivan Olmos Pineda",
      "userId": "08486411851354884128"
     },
     "user_tz": 360
    },
    "id": "0IiANudhoxUJ",
    "outputId": "64a2a376-abb6-444e-a9aa-13c8b209faf8"
   },
   "outputs": [
    {
     "name": "stdout",
     "output_type": "stream",
     "text": [
      "+-------------------------+----+---------+------------+----------+------+------------+-----+------+\n",
      "|Car                      |MPG |Cylinders|Displacement|Horsepower|Weight|Acceleration|Model|Origin|\n",
      "+-------------------------+----+---------+------------+----------+------+------------+-----+------+\n",
      "|Chevrolet Chevelle Malibu|18.0|8        |307         |130       |3504  |12.0        |70   |US    |\n",
      "|Buick Skylark 320        |15.0|8        |350         |165       |3693  |11.5        |70   |US    |\n",
      "|Plymouth Satellite       |18.0|8        |318         |150       |3436  |11.0        |70   |US    |\n",
      "|AMC Rebel SST            |16.0|8        |304         |150       |3433  |12.0        |70   |US    |\n",
      "|Ford Torino              |17.0|8        |302         |140       |3449  |10.5        |70   |US    |\n",
      "|Ford Galaxie 500         |15.0|8        |429         |198       |4341  |10.0        |70   |US    |\n",
      "|Chevrolet Impala         |14.0|8        |454         |220       |4354  |9.0         |70   |US    |\n",
      "|Plymouth Fury iii        |14.0|8        |440         |215       |4312  |8.5         |70   |US    |\n",
      "|Pontiac Catalina         |14.0|8        |455         |225       |4425  |10.0        |70   |US    |\n",
      "|AMC Ambassador DPL       |15.0|8        |390         |190       |3850  |8.5         |70   |US    |\n",
      "+-------------------------+----+---------+------------+----------+------+------------+-----+------+\n",
      "only showing top 10 rows\n",
      "\n"
     ]
    }
   ],
   "source": [
    "df2.show(10, truncate=False)"
   ]
  },
  {
   "cell_type": "markdown",
   "id": "BYTg7eY_rF0_",
   "metadata": {
    "id": "BYTg7eY_rF0_"
   },
   "source": [
    "## Definiendo un esquema para un Dataframe"
   ]
  },
  {
   "cell_type": "code",
   "execution_count": 50,
   "id": "c-9627abrJGA",
   "metadata": {
    "colab": {
     "base_uri": "https://localhost:8080/"
    },
    "executionInfo": {
     "elapsed": 40,
     "status": "ok",
     "timestamp": 1745515543411,
     "user": {
      "displayName": "Ivan Olmos Pineda",
      "userId": "08486411851354884128"
     },
     "user_tz": 360
    },
    "id": "c-9627abrJGA",
    "outputId": "b05be1c0-c8ce-4666-cdd7-7521410039f7"
   },
   "outputs": [
    {
     "name": "stdout",
     "output_type": "stream",
     "text": [
      "root\n",
      " |-- Car: string (nullable = true)\n",
      " |-- MPG: float (nullable = true)\n",
      " |-- Cylinders: integer (nullable = true)\n",
      " |-- Displacement: float (nullable = true)\n",
      " |-- Horsepower: float (nullable = true)\n",
      " |-- Weight: float (nullable = true)\n",
      " |-- Acceleration: float (nullable = true)\n",
      " |-- Model: integer (nullable = true)\n",
      " |-- Origin: string (nullable = true)\n",
      "\n"
     ]
    }
   ],
   "source": [
    "# Se especifica un DDL\n",
    "ddl_schema = \"Car STRING, MPG FLOAT, Cylinders INT, Displacement FLOAT, Horsepower FLOAT, Weight FLOAT, Acceleration FLOAT, Model INT, Origin STRING\"\n",
    "\n",
    "df3 = spark.read.csv('cars.csv', header=True, sep=\";\", schema=ddl_schema)\n",
    "df3.printSchema()\n"
   ]
  },
  {
   "cell_type": "code",
   "execution_count": 51,
   "id": "cFWhv-EH1L7u",
   "metadata": {
    "colab": {
     "base_uri": "https://localhost:8080/"
    },
    "executionInfo": {
     "elapsed": 303,
     "status": "ok",
     "timestamp": 1745515544827,
     "user": {
      "displayName": "Ivan Olmos Pineda",
      "userId": "08486411851354884128"
     },
     "user_tz": 360
    },
    "id": "cFWhv-EH1L7u",
    "outputId": "62bc1a5b-d20b-4b8f-fe60-39be7e0d1db4"
   },
   "outputs": [
    {
     "name": "stdout",
     "output_type": "stream",
     "text": [
      "+-------------------------+----+---------+------------+----------+------+------------+-----+------+\n",
      "|Car                      |MPG |Cylinders|Displacement|Horsepower|Weight|Acceleration|Model|Origin|\n",
      "+-------------------------+----+---------+------------+----------+------+------------+-----+------+\n",
      "|Chevrolet Chevelle Malibu|18.0|8        |307.0       |130.0     |3504.0|12.0        |70   |US    |\n",
      "|Buick Skylark 320        |15.0|8        |350.0       |165.0     |3693.0|11.5        |70   |US    |\n",
      "|Plymouth Satellite       |18.0|8        |318.0       |150.0     |3436.0|11.0        |70   |US    |\n",
      "|AMC Rebel SST            |16.0|8        |304.0       |150.0     |3433.0|12.0        |70   |US    |\n",
      "|Ford Torino              |17.0|8        |302.0       |140.0     |3449.0|10.5        |70   |US    |\n",
      "|Ford Galaxie 500         |15.0|8        |429.0       |198.0     |4341.0|10.0        |70   |US    |\n",
      "|Chevrolet Impala         |14.0|8        |454.0       |220.0     |4354.0|9.0         |70   |US    |\n",
      "|Plymouth Fury iii        |14.0|8        |440.0       |215.0     |4312.0|8.5         |70   |US    |\n",
      "|Pontiac Catalina         |14.0|8        |455.0       |225.0     |4425.0|10.0        |70   |US    |\n",
      "|AMC Ambassador DPL       |15.0|8        |390.0       |190.0     |3850.0|8.5         |70   |US    |\n",
      "+-------------------------+----+---------+------------+----------+------+------------+-----+------+\n",
      "only showing top 10 rows\n",
      "\n"
     ]
    }
   ],
   "source": [
    "df3.show(10, truncate=False)"
   ]
  },
  {
   "cell_type": "code",
   "execution_count": 56,
   "id": "6Pnjn9Qu6fCc",
   "metadata": {
    "colab": {
     "base_uri": "https://localhost:8080/"
    },
    "executionInfo": {
     "elapsed": 470,
     "status": "ok",
     "timestamp": 1745516981242,
     "user": {
      "displayName": "Ivan Olmos Pineda",
      "userId": "08486411851354884128"
     },
     "user_tz": 360
    },
    "id": "6Pnjn9Qu6fCc",
    "outputId": "822984e7-6254-4cd5-80b9-6fd7b0f0142d"
   },
   "outputs": [
    {
     "name": "stdout",
     "output_type": "stream",
     "text": [
      "+-------------------------+----+---------+------------+----------+------+------------+-----+------+\n",
      "|Car                      |MPG |Cylinders|Displacement|Horsepower|Weight|Acceleration|Model|Origin|\n",
      "+-------------------------+----+---------+------------+----------+------+------------+-----+------+\n",
      "|Chevrolet Chevelle Malibu|null|8        |307.0       |130.0     |3504.0|12.0        |70   |US    |\n",
      "|Buick Skylark 320        |null|8        |350.0       |165.0     |3693.0|11.5        |70   |US    |\n",
      "|Plymouth Satellite       |null|8        |318.0       |150.0     |3436.0|11.0        |70   |US    |\n",
      "|AMC Rebel SST            |null|8        |304.0       |150.0     |3433.0|12.0        |70   |US    |\n",
      "|Ford Torino              |null|8        |302.0       |140.0     |3449.0|10.5        |70   |US    |\n",
      "|Ford Galaxie 500         |null|8        |429.0       |198.0     |4341.0|10.0        |70   |US    |\n",
      "|Chevrolet Impala         |null|8        |454.0       |220.0     |4354.0|9.0         |70   |US    |\n",
      "|Plymouth Fury iii        |null|8        |440.0       |215.0     |4312.0|8.5         |70   |US    |\n",
      "|Pontiac Catalina         |null|8        |455.0       |225.0     |4425.0|10.0        |70   |US    |\n",
      "|AMC Ambassador DPL       |null|8        |390.0       |190.0     |3850.0|8.5         |70   |US    |\n",
      "+-------------------------+----+---------+------------+----------+------+------------+-----+------+\n",
      "only showing top 10 rows\n",
      "\n"
     ]
    }
   ],
   "source": [
    "# Se se especifica un DDL que no coincide con el dataset, se pueden obtener lecturas nulas\n",
    "ddl_schema = \"Car STRING, MPG INT, Cylinders INT, Displacement FLOAT, Horsepower FLOAT, Weight FLOAT, Acceleration FLOAT, Model INT, Origin STRING\"\n",
    "\n",
    "df4 = spark.read.csv('cars.csv', header=True, sep=\";\", schema=ddl_schema)\n",
    "df4.show(10, truncate=False)\n"
   ]
  },
  {
   "cell_type": "markdown",
   "id": "Mk87i9t57OUB",
   "metadata": {
    "id": "Mk87i9t57OUB"
   },
   "source": [
    "## Transformaciones aplicables a columnas"
   ]
  },
  {
   "cell_type": "markdown",
   "id": "AZgxs6oa7W1H",
   "metadata": {
    "id": "AZgxs6oa7W1H"
   },
   "source": [
    "#### 1. Seleccion de columnas: select"
   ]
  },
  {
   "cell_type": "code",
   "execution_count": 73,
   "id": "qeIyVbhD7ble",
   "metadata": {
    "colab": {
     "base_uri": "https://localhost:8080/"
    },
    "executionInfo": {
     "elapsed": 502,
     "status": "ok",
     "timestamp": 1745521810968,
     "user": {
      "displayName": "Ivan Olmos Pineda",
      "userId": "08486411851354884128"
     },
     "user_tz": 360
    },
    "id": "qeIyVbhD7ble",
    "outputId": "f6fd6594-f7e0-4878-c4be-9a0ef328de68"
   },
   "outputs": [
    {
     "name": "stdout",
     "output_type": "stream",
     "text": [
      "Método 1\n",
      "+-------------------------+\n",
      "|Car                      |\n",
      "+-------------------------+\n",
      "|Chevrolet Chevelle Malibu|\n",
      "|Buick Skylark 320        |\n",
      "|Plymouth Satellite       |\n",
      "|AMC Rebel SST            |\n",
      "|Ford Torino              |\n",
      "|Ford Galaxie 500         |\n",
      "|Chevrolet Impala         |\n",
      "|Plymouth Fury iii        |\n",
      "|Pontiac Catalina         |\n",
      "|AMC Ambassador DPL       |\n",
      "+-------------------------+\n",
      "only showing top 10 rows\n",
      "\n",
      "Método 2\n",
      "+-------------------------+\n",
      "|Car                      |\n",
      "+-------------------------+\n",
      "|Chevrolet Chevelle Malibu|\n",
      "|Buick Skylark 320        |\n",
      "|Plymouth Satellite       |\n",
      "|AMC Rebel SST            |\n",
      "|Ford Torino              |\n",
      "|Ford Galaxie 500         |\n",
      "|Chevrolet Impala         |\n",
      "|Plymouth Fury iii        |\n",
      "|Pontiac Catalina         |\n",
      "|AMC Ambassador DPL       |\n",
      "+-------------------------+\n",
      "only showing top 10 rows\n",
      "\n",
      "Método 3\n",
      "+-------------------------+\n",
      "|Car                      |\n",
      "+-------------------------+\n",
      "|Chevrolet Chevelle Malibu|\n",
      "|Buick Skylark 320        |\n",
      "|Plymouth Satellite       |\n",
      "|AMC Rebel SST            |\n",
      "|Ford Torino              |\n",
      "|Ford Galaxie 500         |\n",
      "|Chevrolet Impala         |\n",
      "|Plymouth Fury iii        |\n",
      "|Pontiac Catalina         |\n",
      "|AMC Ambassador DPL       |\n",
      "+-------------------------+\n",
      "only showing top 10 rows\n",
      "\n"
     ]
    }
   ],
   "source": [
    "# Para la seleccion de columnas de un dataframe, se pueden usar variantes en la sintaxis\n",
    "print(\"Método 1\")\n",
    "df_car = df.select(df.Car)\n",
    "df_car.show(10, truncate=False)\n",
    "\n",
    "print(\"Método 2\")\n",
    "df_car = df.select(df['Car'])\n",
    "df_car.show(10, truncate=False)\n",
    "\n",
    "print(\"Método 3\")\n",
    "df_car = df.select('Car')\n",
    "df_car.show(10, truncate=False)\n"
   ]
  },
  {
   "cell_type": "code",
   "execution_count": 76,
   "id": "O4HfG88x-aBH",
   "metadata": {
    "colab": {
     "base_uri": "https://localhost:8080/"
    },
    "executionInfo": {
     "elapsed": 265,
     "status": "ok",
     "timestamp": 1745522302211,
     "user": {
      "displayName": "Ivan Olmos Pineda",
      "userId": "08486411851354884128"
     },
     "user_tz": 360
    },
    "id": "O4HfG88x-aBH",
    "outputId": "19a40e13-2f18-4252-d813-a475b3984918"
   },
   "outputs": [
    {
     "name": "stdout",
     "output_type": "stream",
     "text": [
      "Método 4\n",
      "+-------------------------+\n",
      "|car                      |\n",
      "+-------------------------+\n",
      "|Chevrolet Chevelle Malibu|\n",
      "|Buick Skylark 320        |\n",
      "|Plymouth Satellite       |\n",
      "|AMC Rebel SST            |\n",
      "|Ford Torino              |\n",
      "|Ford Galaxie 500         |\n",
      "|Chevrolet Impala         |\n",
      "|Plymouth Fury iii        |\n",
      "|Pontiac Catalina         |\n",
      "|AMC Ambassador DPL       |\n",
      "+-------------------------+\n",
      "only showing top 10 rows\n",
      "\n"
     ]
    }
   ],
   "source": [
    "# Existe otra forma de acceder a una columna, usando el módulo \"col\" de SQL\n",
    "from pyspark.sql.functions import col\n",
    "\n",
    "print(\"Método 4\")\n",
    "df.select(col('car')).show(10, truncate=False)"
   ]
  },
  {
   "cell_type": "code",
   "execution_count": 75,
   "id": "vGfOBLFmLo2W",
   "metadata": {
    "colab": {
     "base_uri": "https://localhost:8080/"
    },
    "executionInfo": {
     "elapsed": 337,
     "status": "ok",
     "timestamp": 1745521816774,
     "user": {
      "displayName": "Ivan Olmos Pineda",
      "userId": "08486411851354884128"
     },
     "user_tz": 360
    },
    "id": "vGfOBLFmLo2W",
    "outputId": "3a9a1a72-73b0-42b8-d08f-729374db5740"
   },
   "outputs": [
    {
     "name": "stdout",
     "output_type": "stream",
     "text": [
      "Método 1\n",
      "+-------------------------+----+\n",
      "|Car                      |MPG |\n",
      "+-------------------------+----+\n",
      "|Chevrolet Chevelle Malibu|18.0|\n",
      "|Buick Skylark 320        |15.0|\n",
      "|Plymouth Satellite       |18.0|\n",
      "|AMC Rebel SST            |16.0|\n",
      "|Ford Torino              |17.0|\n",
      "|Ford Galaxie 500         |15.0|\n",
      "|Chevrolet Impala         |14.0|\n",
      "|Plymouth Fury iii        |14.0|\n",
      "|Pontiac Catalina         |14.0|\n",
      "|AMC Ambassador DPL       |15.0|\n",
      "+-------------------------+----+\n",
      "only showing top 10 rows\n",
      "\n",
      "Método 2\n",
      "+-------------------------+----+\n",
      "|Car                      |MPG |\n",
      "+-------------------------+----+\n",
      "|Chevrolet Chevelle Malibu|18.0|\n",
      "|Buick Skylark 320        |15.0|\n",
      "|Plymouth Satellite       |18.0|\n",
      "|AMC Rebel SST            |16.0|\n",
      "|Ford Torino              |17.0|\n",
      "|Ford Galaxie 500         |15.0|\n",
      "|Chevrolet Impala         |14.0|\n",
      "|Plymouth Fury iii        |14.0|\n",
      "|Pontiac Catalina         |14.0|\n",
      "|AMC Ambassador DPL       |15.0|\n",
      "+-------------------------+----+\n",
      "only showing top 10 rows\n",
      "\n",
      "Método 3\n",
      "+-------------------------+----+\n",
      "|car                      |MPG |\n",
      "+-------------------------+----+\n",
      "|Chevrolet Chevelle Malibu|18.0|\n",
      "|Buick Skylark 320        |15.0|\n",
      "|Plymouth Satellite       |18.0|\n",
      "|AMC Rebel SST            |16.0|\n",
      "|Ford Torino              |17.0|\n",
      "|Ford Galaxie 500         |15.0|\n",
      "|Chevrolet Impala         |14.0|\n",
      "|Plymouth Fury iii        |14.0|\n",
      "|Pontiac Catalina         |14.0|\n",
      "|AMC Ambassador DPL       |15.0|\n",
      "+-------------------------+----+\n",
      "only showing top 10 rows\n",
      "\n"
     ]
    }
   ],
   "source": [
    "# Es posible seleccionar varias columnas en una sola transformación\n",
    "# Nota: se puede mezclar sintaxis\n",
    "\n",
    "# Seleccion de columna \"Car\" y \"MPG\"\n",
    "# Método 1\n",
    "print(\"Método 1\")\n",
    "df_Car_MPG = df.select(df.Car, df.MPG)\n",
    "df_Car_MPG.show(10,truncate=False)\n",
    "\n",
    "# Método 2\n",
    "print(\"Método 2\")\n",
    "df_Car_MPG = df.select(df['Car'], df.MPG)\n",
    "df_Car_MPG.show(10,truncate=False)\n",
    "\n",
    "# Método 3\n",
    "print(\"Método 3\")\n",
    "from pyspark.sql.functions import col\n",
    "df_Car_MPG = df.select(col('car'), col('MPG'))\n",
    "df_Car_MPG.show(10,truncate=False)"
   ]
  },
  {
   "cell_type": "markdown",
   "id": "QIRB5L9-M4_G",
   "metadata": {
    "id": "QIRB5L9-M4_G"
   },
   "source": [
    "#### 2. Añadiendo columnas: withColumn"
   ]
  },
  {
   "cell_type": "code",
   "execution_count": 77,
   "id": "R1smIxiCNWiW",
   "metadata": {
    "colab": {
     "base_uri": "https://localhost:8080/"
    },
    "executionInfo": {
     "elapsed": 307,
     "status": "ok",
     "timestamp": 1745523161559,
     "user": {
      "displayName": "Ivan Olmos Pineda",
      "userId": "08486411851354884128"
     },
     "user_tz": 360
    },
    "id": "R1smIxiCNWiW",
    "outputId": "ec8c2d31-208c-4a3d-e06b-f77cbaddee86"
   },
   "outputs": [
    {
     "name": "stdout",
     "output_type": "stream",
     "text": [
      "+-------------------------+----+---------+------------+----------+------+------------+-----+------+-----+-----+-----+\n",
      "|Car                      |MPG |Cylinders|Displacement|Horsepower|Weight|Acceleration|Model|Origin|col_1|col_2|col_3|\n",
      "+-------------------------+----+---------+------------+----------+------+------------+-----+------+-----+-----+-----+\n",
      "|Chevrolet Chevelle Malibu|18.0|8        |307.0       |130.0     |3504  |12.0        |70   |US    |1    |2    |c3   |\n",
      "|Buick Skylark 320        |15.0|8        |350.0       |165.0     |3693  |11.5        |70   |US    |1    |2    |c3   |\n",
      "|Plymouth Satellite       |18.0|8        |318.0       |150.0     |3436  |11.0        |70   |US    |1    |2    |c3   |\n",
      "|AMC Rebel SST            |16.0|8        |304.0       |150.0     |3433  |12.0        |70   |US    |1    |2    |c3   |\n",
      "|Ford Torino              |17.0|8        |302.0       |140.0     |3449  |10.5        |70   |US    |1    |2    |c3   |\n",
      "|Ford Galaxie 500         |15.0|8        |429.0       |198.0     |4341  |10.0        |70   |US    |1    |2    |c3   |\n",
      "|Chevrolet Impala         |14.0|8        |454.0       |220.0     |4354  |9.0         |70   |US    |1    |2    |c3   |\n",
      "|Plymouth Fury iii        |14.0|8        |440.0       |215.0     |4312  |8.5         |70   |US    |1    |2    |c3   |\n",
      "|Pontiac Catalina         |14.0|8        |455.0       |225.0     |4425  |10.0        |70   |US    |1    |2    |c3   |\n",
      "|AMC Ambassador DPL       |15.0|8        |390.0       |190.0     |3850  |8.5         |70   |US    |1    |2    |c3   |\n",
      "+-------------------------+----+---------+------------+----------+------+------------+-----+------+-----+-----+-----+\n",
      "only showing top 10 rows\n",
      "\n"
     ]
    }
   ],
   "source": [
    "# Caso 1: Añadiendo la columna \"col_1\"\n",
    "from pyspark.sql.functions import lit\n",
    "df_newCols = df.withColumn('col_1',lit(1))\n",
    "# lit se usa para especificar el valor a usar para llenar la columna creada\n",
    "\n",
    "# Caso 2: Añadiendo dos columnas\n",
    "df_newCols = df_newCols.withColumn('col_2', lit(2)) \\\n",
    "                  .withColumn('col_3', lit('c3'))\n",
    "df_newCols.show(10,truncate=False)"
   ]
  },
  {
   "cell_type": "code",
   "execution_count": 95,
   "id": "1uauT_ZnSXg1",
   "metadata": {
    "colab": {
     "base_uri": "https://localhost:8080/"
    },
    "executionInfo": {
     "elapsed": 347,
     "status": "ok",
     "timestamp": 1745524909489,
     "user": {
      "displayName": "Ivan Olmos Pineda",
      "userId": "08486411851354884128"
     },
     "user_tz": 360
    },
    "id": "1uauT_ZnSXg1",
    "outputId": "1683c901-59ca-4995-8380-6b6ad48e821b"
   },
   "outputs": [
    {
     "name": "stdout",
     "output_type": "stream",
     "text": [
      "+-------------------------+----+---------+------------+----------+------+------------+-----+------+-----+-----+-----+----------------------------+\n",
      "|Car                      |MPG |Cylinders|Displacement|Horsepower|Weight|Acceleration|Model|Origin|col_1|col_2|col_3|car_model                   |\n",
      "+-------------------------+----+---------+------------+----------+------+------------+-----+------+-----+-----+-----+----------------------------+\n",
      "|Chevrolet Chevelle Malibu|18.0|8        |307.0       |130.0     |3504  |12.0        |70   |US    |1    |2    |c3   |Chevrolet Chevelle Malibu 70|\n",
      "|Buick Skylark 320        |15.0|8        |350.0       |165.0     |3693  |11.5        |70   |US    |1    |2    |c3   |Buick Skylark 320 70        |\n",
      "|Plymouth Satellite       |18.0|8        |318.0       |150.0     |3436  |11.0        |70   |US    |1    |2    |c3   |Plymouth Satellite 70       |\n",
      "|AMC Rebel SST            |16.0|8        |304.0       |150.0     |3433  |12.0        |70   |US    |1    |2    |c3   |AMC Rebel SST 70            |\n",
      "|Ford Torino              |17.0|8        |302.0       |140.0     |3449  |10.5        |70   |US    |1    |2    |c3   |Ford Torino 70              |\n",
      "|Ford Galaxie 500         |15.0|8        |429.0       |198.0     |4341  |10.0        |70   |US    |1    |2    |c3   |Ford Galaxie 500 70         |\n",
      "|Chevrolet Impala         |14.0|8        |454.0       |220.0     |4354  |9.0         |70   |US    |1    |2    |c3   |Chevrolet Impala 70         |\n",
      "|Plymouth Fury iii        |14.0|8        |440.0       |215.0     |4312  |8.5         |70   |US    |1    |2    |c3   |Plymouth Fury iii 70        |\n",
      "|Pontiac Catalina         |14.0|8        |455.0       |225.0     |4425  |10.0        |70   |US    |1    |2    |c3   |Pontiac Catalina 70         |\n",
      "|AMC Ambassador DPL       |15.0|8        |390.0       |190.0     |3850  |8.5         |70   |US    |1    |2    |c3   |AMC Ambassador DPL 70       |\n",
      "+-------------------------+----+---------+------------+----------+------+------------+-----+------+-----+-----+-----+----------------------------+\n",
      "only showing top 10 rows\n",
      "\n",
      "# registros:  406\n"
     ]
    }
   ],
   "source": [
    "# Caso 3: Añadiendo una nueva columna a partir de una existente\n",
    "# La nueva columna se llamará 'car_model' generada a aprtir de las columnas Car y Model\n",
    "from pyspark.sql.functions import concat\n",
    "df_newCols = df_newCols.withColumn('car_model', concat(col(\"Car\"), lit(\" \"), col(\"Model\")))\n",
    "\n",
    "df_newCols.show(10,truncate=False)\n",
    "print(\"# registros: \", df_newCols.count())"
   ]
  },
  {
   "cell_type": "code",
   "execution_count": 96,
   "id": "XJ9lZ4REW7fr",
   "metadata": {
    "colab": {
     "base_uri": "https://localhost:8080/"
    },
    "executionInfo": {
     "elapsed": 12,
     "status": "ok",
     "timestamp": 1745524938675,
     "user": {
      "displayName": "Ivan Olmos Pineda",
      "userId": "08486411851354884128"
     },
     "user_tz": 360
    },
    "id": "XJ9lZ4REW7fr",
    "outputId": "2c9a86b4-4a32-4504-d58a-343f6ff5e030"
   },
   "outputs": [
    {
     "name": "stdout",
     "output_type": "stream",
     "text": [
      "root\n",
      " |-- Car: string (nullable = true)\n",
      " |-- MPG: double (nullable = true)\n",
      " |-- Cylinders: integer (nullable = true)\n",
      " |-- Displacement: double (nullable = true)\n",
      " |-- Horsepower: double (nullable = true)\n",
      " |-- Weight: decimal(4,0) (nullable = true)\n",
      " |-- Acceleration: double (nullable = true)\n",
      " |-- Model: integer (nullable = true)\n",
      " |-- Origin: string (nullable = true)\n",
      " |-- col_1: string (nullable = false)\n",
      " |-- col_2: integer (nullable = false)\n",
      " |-- col_3: string (nullable = false)\n",
      " |-- car_model: string (nullable = true)\n",
      "\n",
      "root\n",
      " |-- Car: string (nullable = true)\n",
      " |-- MPG: double (nullable = true)\n",
      " |-- Cylinders: integer (nullable = true)\n",
      " |-- Displacement: double (nullable = true)\n",
      " |-- Horsepower: double (nullable = true)\n",
      " |-- Weight: decimal(4,0) (nullable = true)\n",
      " |-- Acceleration: double (nullable = true)\n",
      " |-- Model: integer (nullable = true)\n",
      " |-- Origin: string (nullable = true)\n",
      " |-- col_1: string (nullable = false)\n",
      " |-- col_2: integer (nullable = false)\n",
      " |-- col_3: string (nullable = false)\n",
      " |-- car_model: string (nullable = true)\n",
      "\n"
     ]
    }
   ],
   "source": [
    "# Se debe recordar que withColumn también es posible cambiar el tipo de dato de una columna\n",
    "# Dos formas en las cuales se puede cambiar el formato de la columna MPG\n",
    "df_newCols.printSchema()\n",
    "\n",
    "df_newCols1 = df_newCols.withColumn('col_1', df_newCols['col_1'].cast('string'))\n",
    "\n",
    "df_newCols1.printSchema()"
   ]
  },
  {
   "cell_type": "code",
   "execution_count": 97,
   "id": "F1gENO70Y_34",
   "metadata": {
    "colab": {
     "base_uri": "https://localhost:8080/"
    },
    "executionInfo": {
     "elapsed": 23,
     "status": "ok",
     "timestamp": 1745524987081,
     "user": {
      "displayName": "Ivan Olmos Pineda",
      "userId": "08486411851354884128"
     },
     "user_tz": 360
    },
    "id": "F1gENO70Y_34",
    "outputId": "d8bfb0c1-f16d-4354-c190-40b0cf657af6"
   },
   "outputs": [
    {
     "name": "stdout",
     "output_type": "stream",
     "text": [
      "root\n",
      " |-- Car: string (nullable = true)\n",
      " |-- MPG: double (nullable = true)\n",
      " |-- Cylinders: integer (nullable = true)\n",
      " |-- Displacement: double (nullable = true)\n",
      " |-- Horsepower: double (nullable = true)\n",
      " |-- Weight: decimal(4,0) (nullable = true)\n",
      " |-- Acceleration: double (nullable = true)\n",
      " |-- Model: integer (nullable = true)\n",
      " |-- Origin: string (nullable = true)\n",
      " |-- col_1: string (nullable = false)\n",
      " |-- col_2: integer (nullable = false)\n",
      " |-- col_3: string (nullable = false)\n",
      " |-- car_model: string (nullable = true)\n",
      "\n",
      "root\n",
      " |-- Car: string (nullable = true)\n",
      " |-- MPG: double (nullable = true)\n",
      " |-- Cylinders: integer (nullable = true)\n",
      " |-- Displacement: double (nullable = true)\n",
      " |-- Horsepower: double (nullable = true)\n",
      " |-- Weight: decimal(4,0) (nullable = true)\n",
      " |-- Acceleration: double (nullable = true)\n",
      " |-- Model: integer (nullable = true)\n",
      " |-- Origin: string (nullable = true)\n",
      " |-- col_1: string (nullable = false)\n",
      " |-- col_2: integer (nullable = false)\n",
      " |-- col_3: string (nullable = false)\n",
      " |-- car_model: string (nullable = true)\n",
      "\n"
     ]
    }
   ],
   "source": [
    "# Se pueden usar tipos de datos de SQL\n",
    "from pyspark.sql.types import IntegerType, FloatType, StringType\n",
    "df_newCols.printSchema()\n",
    "df_newCols1 = df_newCols.withColumn('col_1', df_newCols['col_1'].cast(StringType()))\n",
    "df_newCols1.printSchema()"
   ]
  },
  {
   "cell_type": "markdown",
   "id": "JOTgDNgPZ7pe",
   "metadata": {
    "id": "JOTgDNgPZ7pe"
   },
   "source": [
    "#### 3. Renombrando columnas"
   ]
  },
  {
   "cell_type": "code",
   "execution_count": 98,
   "id": "fey3wgV_Z94T",
   "metadata": {
    "colab": {
     "base_uri": "https://localhost:8080/"
    },
    "executionInfo": {
     "elapsed": 155,
     "status": "ok",
     "timestamp": 1745525189280,
     "user": {
      "displayName": "Ivan Olmos Pineda",
      "userId": "08486411851354884128"
     },
     "user_tz": 360
    },
    "id": "fey3wgV_Z94T",
    "outputId": "de3e478d-fe16-4568-a2e0-fce5610b46f6"
   },
   "outputs": [
    {
     "name": "stdout",
     "output_type": "stream",
     "text": [
      "+-------------------------+----+---------+------------+----------+------+------------+-----+------+----+----+----+----------------------------+\n",
      "|Car                      |MPG |Cylinders|Displacement|Horsepower|Weight|Acceleration|Model|Origin|col1|col2|col3|car_model                   |\n",
      "+-------------------------+----+---------+------------+----------+------+------------+-----+------+----+----+----+----------------------------+\n",
      "|Chevrolet Chevelle Malibu|18.0|8        |307.0       |130.0     |3504  |12.0        |70   |US    |1   |2   |c3  |Chevrolet Chevelle Malibu 70|\n",
      "|Buick Skylark 320        |15.0|8        |350.0       |165.0     |3693  |11.5        |70   |US    |1   |2   |c3  |Buick Skylark 320 70        |\n",
      "|Plymouth Satellite       |18.0|8        |318.0       |150.0     |3436  |11.0        |70   |US    |1   |2   |c3  |Plymouth Satellite 70       |\n",
      "|AMC Rebel SST            |16.0|8        |304.0       |150.0     |3433  |12.0        |70   |US    |1   |2   |c3  |AMC Rebel SST 70            |\n",
      "|Ford Torino              |17.0|8        |302.0       |140.0     |3449  |10.5        |70   |US    |1   |2   |c3  |Ford Torino 70              |\n",
      "|Ford Galaxie 500         |15.0|8        |429.0       |198.0     |4341  |10.0        |70   |US    |1   |2   |c3  |Ford Galaxie 500 70         |\n",
      "|Chevrolet Impala         |14.0|8        |454.0       |220.0     |4354  |9.0         |70   |US    |1   |2   |c3  |Chevrolet Impala 70         |\n",
      "|Plymouth Fury iii        |14.0|8        |440.0       |215.0     |4312  |8.5         |70   |US    |1   |2   |c3  |Plymouth Fury iii 70        |\n",
      "|Pontiac Catalina         |14.0|8        |455.0       |225.0     |4425  |10.0        |70   |US    |1   |2   |c3  |Pontiac Catalina 70         |\n",
      "|AMC Ambassador DPL       |15.0|8        |390.0       |190.0     |3850  |8.5         |70   |US    |1   |2   |c3  |AMC Ambassador DPL 70       |\n",
      "+-------------------------+----+---------+------------+----------+------+------------+-----+------+----+----+----+----------------------------+\n",
      "only showing top 10 rows\n",
      "\n"
     ]
    }
   ],
   "source": [
    "df_newCols = df_newCols.withColumnRenamed('col_1', 'col1') \\\n",
    "       .withColumnRenamed('col_2', 'col2') \\\n",
    "       .withColumnRenamed('col_3', 'col3')\n",
    "df_newCols.show(10,truncate=False)"
   ]
  },
  {
   "cell_type": "markdown",
   "id": "_EA-RBnVaOE6",
   "metadata": {
    "id": "_EA-RBnVaOE6"
   },
   "source": [
    "#### 4. Agrupando valores de columnas"
   ]
  },
  {
   "cell_type": "code",
   "execution_count": 100,
   "id": "Npf2KRdiaQXu",
   "metadata": {
    "colab": {
     "base_uri": "https://localhost:8080/"
    },
    "executionInfo": {
     "elapsed": 2852,
     "status": "ok",
     "timestamp": 1745525873233,
     "user": {
      "displayName": "Ivan Olmos Pineda",
      "userId": "08486411851354884128"
     },
     "user_tz": 360
    },
    "id": "Npf2KRdiaQXu",
    "outputId": "28925727-808e-4376-d1ad-a94ef4428212"
   },
   "outputs": [
    {
     "name": "stdout",
     "output_type": "stream",
     "text": [
      "Agrupando a partir de una sola columna\n",
      "+------+-----+\n",
      "|Origin|count|\n",
      "+------+-----+\n",
      "|Europe|   73|\n",
      "|    US|  254|\n",
      "| Japan|   79|\n",
      "+------+-----+\n",
      "\n",
      "+------+-----+-----+\n",
      "|Origin|Model|count|\n",
      "+------+-----+-----+\n",
      "|Europe|   71|    5|\n",
      "|Europe|   80|    9|\n",
      "|Europe|   79|    4|\n",
      "| Japan|   75|    4|\n",
      "|    US|   72|   18|\n",
      "+------+-----+-----+\n",
      "only showing top 5 rows\n",
      "\n"
     ]
    }
   ],
   "source": [
    "# La funcion groupBy agrupa los valoes de una columna y se debe indicar\n",
    "# una función de agregación para saber que se va a realizar con dichos valores\n",
    "# Funciones de agregación: avg, count, max, min\n",
    "# Caso 1: agrupando valores a partir de una columna\n",
    "print(\"Agrupando a partir de una sola columna\")\n",
    "df_grouped = df.groupBy('Origin').count()\n",
    "df_grouped.show(5)\n",
    "\n",
    "# Caso 2: agrupando valores a partir de dos columnas\n",
    "df_grouped = df.groupBy('Origin', 'Model').count()\n",
    "df_grouped.show(5)"
   ]
  },
  {
   "cell_type": "code",
   "execution_count": 101,
   "id": "zM5tPJcgd92l",
   "metadata": {
    "colab": {
     "base_uri": "https://localhost:8080/"
    },
    "executionInfo": {
     "elapsed": 2242,
     "status": "ok",
     "timestamp": 1745526263456,
     "user": {
      "displayName": "Ivan Olmos Pineda",
      "userId": "08486411851354884128"
     },
     "user_tz": 360
    },
    "id": "zM5tPJcgd92l",
    "outputId": "ceb64ca9-3bf9-40be-babe-9cedbb5e49d3"
   },
   "outputs": [
    {
     "name": "stdout",
     "output_type": "stream",
     "text": [
      "+------+------------------+\n",
      "|Origin|          avg(MPG)|\n",
      "+------+------------------+\n",
      "|Europe|26.745205479452057|\n",
      "|    US|19.688188976377948|\n",
      "| Japan|30.450632911392397|\n",
      "+------+------------------+\n",
      "\n"
     ]
    }
   ],
   "source": [
    "# Se pueden aplicar agrupaciones para obtener valore estadísticos\n",
    "# Por ejemplo, ¿Cual es el promedio de consumo de los automóviles europeos, americanos y japoneses?\n",
    "df.groupBy('Origin').avg('MPG').show()"
   ]
  },
  {
   "cell_type": "markdown",
   "id": "GlTFROaUgC-Z",
   "metadata": {
    "id": "GlTFROaUgC-Z"
   },
   "source": [
    "#### 5. Eliminación de columnas: drop"
   ]
  },
  {
   "cell_type": "code",
   "execution_count": 105,
   "id": "O2IF6Az4gGPZ",
   "metadata": {
    "colab": {
     "base_uri": "https://localhost:8080/"
    },
    "executionInfo": {
     "elapsed": 306,
     "status": "ok",
     "timestamp": 1745527078729,
     "user": {
      "displayName": "Ivan Olmos Pineda",
      "userId": "08486411851354884128"
     },
     "user_tz": 360
    },
    "id": "O2IF6Az4gGPZ",
    "outputId": "c192744a-4795-403b-a326-3a980ed48a9b"
   },
   "outputs": [
    {
     "name": "stdout",
     "output_type": "stream",
     "text": [
      "+-------------------------+----+---------+------------+----------+------+------------+-----+------+----+----+----+----------------------------+\n",
      "|Car                      |MPG |Cylinders|Displacement|Horsepower|Weight|Acceleration|Model|Origin|col1|col2|col3|car_model                   |\n",
      "+-------------------------+----+---------+------------+----------+------+------------+-----+------+----+----+----+----------------------------+\n",
      "|Chevrolet Chevelle Malibu|18.0|8        |307.0       |130.0     |3504  |12.0        |70   |US    |1   |2   |c3  |Chevrolet Chevelle Malibu 70|\n",
      "|Buick Skylark 320        |15.0|8        |350.0       |165.0     |3693  |11.5        |70   |US    |1   |2   |c3  |Buick Skylark 320 70        |\n",
      "|Plymouth Satellite       |18.0|8        |318.0       |150.0     |3436  |11.0        |70   |US    |1   |2   |c3  |Plymouth Satellite 70       |\n",
      "|AMC Rebel SST            |16.0|8        |304.0       |150.0     |3433  |12.0        |70   |US    |1   |2   |c3  |AMC Rebel SST 70            |\n",
      "|Ford Torino              |17.0|8        |302.0       |140.0     |3449  |10.5        |70   |US    |1   |2   |c3  |Ford Torino 70              |\n",
      "|Ford Galaxie 500         |15.0|8        |429.0       |198.0     |4341  |10.0        |70   |US    |1   |2   |c3  |Ford Galaxie 500 70         |\n",
      "|Chevrolet Impala         |14.0|8        |454.0       |220.0     |4354  |9.0         |70   |US    |1   |2   |c3  |Chevrolet Impala 70         |\n",
      "|Plymouth Fury iii        |14.0|8        |440.0       |215.0     |4312  |8.5         |70   |US    |1   |2   |c3  |Plymouth Fury iii 70        |\n",
      "|Pontiac Catalina         |14.0|8        |455.0       |225.0     |4425  |10.0        |70   |US    |1   |2   |c3  |Pontiac Catalina 70         |\n",
      "|AMC Ambassador DPL       |15.0|8        |390.0       |190.0     |3850  |8.5         |70   |US    |1   |2   |c3  |AMC Ambassador DPL 70       |\n",
      "+-------------------------+----+---------+------------+----------+------+------------+-----+------+----+----+----+----------------------------+\n",
      "only showing top 10 rows\n",
      "\n",
      "+-------------------------+----+---------+------------+----------+------+------------+-----+------+----------------------------+\n",
      "|Car                      |MPG |Cylinders|Displacement|Horsepower|Weight|Acceleration|Model|Origin|car_model                   |\n",
      "+-------------------------+----+---------+------------+----------+------+------------+-----+------+----------------------------+\n",
      "|Chevrolet Chevelle Malibu|18.0|8        |307.0       |130.0     |3504  |12.0        |70   |US    |Chevrolet Chevelle Malibu 70|\n",
      "|Buick Skylark 320        |15.0|8        |350.0       |165.0     |3693  |11.5        |70   |US    |Buick Skylark 320 70        |\n",
      "|Plymouth Satellite       |18.0|8        |318.0       |150.0     |3436  |11.0        |70   |US    |Plymouth Satellite 70       |\n",
      "|AMC Rebel SST            |16.0|8        |304.0       |150.0     |3433  |12.0        |70   |US    |AMC Rebel SST 70            |\n",
      "|Ford Torino              |17.0|8        |302.0       |140.0     |3449  |10.5        |70   |US    |Ford Torino 70              |\n",
      "|Ford Galaxie 500         |15.0|8        |429.0       |198.0     |4341  |10.0        |70   |US    |Ford Galaxie 500 70         |\n",
      "|Chevrolet Impala         |14.0|8        |454.0       |220.0     |4354  |9.0         |70   |US    |Chevrolet Impala 70         |\n",
      "|Plymouth Fury iii        |14.0|8        |440.0       |215.0     |4312  |8.5         |70   |US    |Plymouth Fury iii 70        |\n",
      "|Pontiac Catalina         |14.0|8        |455.0       |225.0     |4425  |10.0        |70   |US    |Pontiac Catalina 70         |\n",
      "|AMC Ambassador DPL       |15.0|8        |390.0       |190.0     |3850  |8.5         |70   |US    |AMC Ambassador DPL 70       |\n",
      "+-------------------------+----+---------+------------+----------+------+------------+-----+------+----------------------------+\n",
      "only showing top 10 rows\n",
      "\n"
     ]
    }
   ],
   "source": [
    "# se eliminan las columnas del dataframe\n",
    "\n",
    "df_newCols.show(10,truncate=False)\n",
    "\n",
    "df_newCols1 = df_newCols.drop('col1').drop('col2').drop('col3')\n",
    "\n",
    "df_newCols1.show(10,truncate=False)"
   ]
  },
  {
   "cell_type": "markdown",
   "id": "qr0OzthFiisg",
   "metadata": {
    "id": "qr0OzthFiisg"
   },
   "source": [
    "## Transformaciones aplicables a renglones"
   ]
  },
  {
   "cell_type": "markdown",
   "id": "2_WPdj-7ik_z",
   "metadata": {
    "id": "2_WPdj-7ik_z"
   },
   "source": [
    "#### 1. Filtrando registros: filtered"
   ]
  },
  {
   "cell_type": "code",
   "execution_count": 109,
   "id": "O4jWQoHripbT",
   "metadata": {
    "colab": {
     "base_uri": "https://localhost:8080/"
    },
    "executionInfo": {
     "elapsed": 428,
     "status": "ok",
     "timestamp": 1745527591597,
     "user": {
      "displayName": "Ivan Olmos Pineda",
      "userId": "08486411851354884128"
     },
     "user_tz": 360
    },
    "id": "O4jWQoHripbT",
    "outputId": "cca156e2-ce2b-42ac-f420-bcb33dd46308"
   },
   "outputs": [
    {
     "name": "stdout",
     "output_type": "stream",
     "text": [
      "Total de registros origen Japones : 79\n",
      "+---------------------------+----+---------+------------+----------+------+------------+-----+------+\n",
      "|Car                        |MPG |Cylinders|Displacement|Horsepower|Weight|Acceleration|Model|Origin|\n",
      "+---------------------------+----+---------+------------+----------+------+------------+-----+------+\n",
      "|Toyota Corolla Mark ii     |24.0|4        |113.0       |95.0      |2372  |15.0        |70   |Japan |\n",
      "|Datsun PL510               |27.0|4        |97.0        |88.0      |2130  |14.5        |70   |Japan |\n",
      "|Datsun PL510               |27.0|4        |97.0        |88.0      |2130  |14.5        |71   |Japan |\n",
      "|Toyota Corolla             |25.0|4        |113.0       |95.0      |2228  |14.0        |71   |Japan |\n",
      "|Toyota Corolla 1200        |31.0|4        |71.0        |65.0      |1773  |19.0        |71   |Japan |\n",
      "|Datsun 1200                |35.0|4        |72.0        |69.0      |1613  |18.0        |71   |Japan |\n",
      "|Toyota Corolla Hardtop     |24.0|4        |113.0       |95.0      |2278  |15.5        |72   |Japan |\n",
      "|Mazda RX2 Coupe            |19.0|3        |70.0        |97.0      |2330  |13.5        |72   |Japan |\n",
      "|Datsun 510 (sw)            |28.0|4        |97.0        |92.0      |2288  |17.0        |72   |Japan |\n",
      "|Toyota Corolla Mark II (sw)|23.0|4        |120.0       |97.0      |2506  |14.5        |72   |Japan |\n",
      "+---------------------------+----+---------+------------+----------+------+------------+-----+------+\n",
      "only showing top 10 rows\n",
      "\n"
     ]
    }
   ],
   "source": [
    "# filtered() permite recuperar registros que cumplan con una condición especificada\n",
    "\n",
    "# Ejemplo 1: recuperar todos los automóviles hechos en Japon\n",
    "df_japan_filtered = df.filter(df['Origin']=='Japan')\n",
    "print(\"Total de registros origen Japones : \" + str(df_japan_filtered.count()))\n",
    "df_japan_filtered.show(10, truncate=False)"
   ]
  },
  {
   "cell_type": "code",
   "execution_count": 110,
   "id": "16I062SNj5ca",
   "metadata": {
    "colab": {
     "base_uri": "https://localhost:8080/"
    },
    "executionInfo": {
     "elapsed": 486,
     "status": "ok",
     "timestamp": 1745527748119,
     "user": {
      "displayName": "Ivan Olmos Pineda",
      "userId": "08486411851354884128"
     },
     "user_tz": 360
    },
    "id": "16I062SNj5ca",
    "outputId": "a4701079-abed-4c98-eab5-c814d15c282a"
   },
   "outputs": [
    {
     "name": "stdout",
     "output_type": "stream",
     "text": [
      "+---------------------------+----+---------+------------+----------+------+------------+-----+------+\n",
      "|Car                        |MPG |Cylinders|Displacement|Horsepower|Weight|Acceleration|Model|Origin|\n",
      "+---------------------------+----+---------+------------+----------+------+------------+-----+------+\n",
      "|Toyota Corolla Mark ii     |24.0|4        |113.0       |95.0      |2372  |15.0        |70   |Japan |\n",
      "|Datsun PL510               |27.0|4        |97.0        |88.0      |2130  |14.5        |70   |Japan |\n",
      "|Datsun PL510               |27.0|4        |97.0        |88.0      |2130  |14.5        |71   |Japan |\n",
      "|Toyota Corolla             |25.0|4        |113.0       |95.0      |2228  |14.0        |71   |Japan |\n",
      "|Toyota Corolla 1200        |31.0|4        |71.0        |65.0      |1773  |19.0        |71   |Japan |\n",
      "|Datsun 1200                |35.0|4        |72.0        |69.0      |1613  |18.0        |71   |Japan |\n",
      "|Toyota Corolla Hardtop     |24.0|4        |113.0       |95.0      |2278  |15.5        |72   |Japan |\n",
      "|Mazda RX2 Coupe            |19.0|3        |70.0        |97.0      |2330  |13.5        |72   |Japan |\n",
      "|Datsun 510 (sw)            |28.0|4        |97.0        |92.0      |2288  |17.0        |72   |Japan |\n",
      "|Toyota Corolla Mark II (sw)|23.0|4        |120.0       |97.0      |2506  |14.5        |72   |Japan |\n",
      "+---------------------------+----+---------+------------+----------+------+------------+-----+------+\n",
      "only showing top 10 rows\n",
      "\n",
      "+---------------------------+----+---------+------------+----------+------+------------+-----+------+\n",
      "|Car                        |MPG |Cylinders|Displacement|Horsepower|Weight|Acceleration|Model|Origin|\n",
      "+---------------------------+----+---------+------------+----------+------+------------+-----+------+\n",
      "|Toyota Corolla Mark ii     |24.0|4        |113.0       |95.0      |2372  |15.0        |70   |Japan |\n",
      "|Datsun PL510               |27.0|4        |97.0        |88.0      |2130  |14.5        |70   |Japan |\n",
      "|Datsun PL510               |27.0|4        |97.0        |88.0      |2130  |14.5        |71   |Japan |\n",
      "|Toyota Corolla             |25.0|4        |113.0       |95.0      |2228  |14.0        |71   |Japan |\n",
      "|Toyota Corolla 1200        |31.0|4        |71.0        |65.0      |1773  |19.0        |71   |Japan |\n",
      "|Datsun 1200                |35.0|4        |72.0        |69.0      |1613  |18.0        |71   |Japan |\n",
      "|Toyota Corolla Hardtop     |24.0|4        |113.0       |95.0      |2278  |15.5        |72   |Japan |\n",
      "|Mazda RX2 Coupe            |19.0|3        |70.0        |97.0      |2330  |13.5        |72   |Japan |\n",
      "|Datsun 510 (sw)            |28.0|4        |97.0        |92.0      |2288  |17.0        |72   |Japan |\n",
      "|Toyota Corolla Mark II (sw)|23.0|4        |120.0       |97.0      |2506  |14.5        |72   |Japan |\n",
      "+---------------------------+----+---------+------------+----------+------+------------+-----+------+\n",
      "only showing top 10 rows\n",
      "\n"
     ]
    }
   ],
   "source": [
    "# Ejemplo 2: variando la sintaxis sobre la especificación de los atributos\n",
    "\n",
    "# Se puede usar las diferentes sintaxis para seleccionar columnas\n",
    "df.filter(df.Origin=='Japan').show(10, truncate=False)\n",
    "df.filter(col('Origin')=='Japan').show(10, truncate=False)"
   ]
  },
  {
   "cell_type": "code",
   "execution_count": 111,
   "id": "eW2-E4WKkMG_",
   "metadata": {
    "colab": {
     "base_uri": "https://localhost:8080/"
    },
    "executionInfo": {
     "elapsed": 333,
     "status": "ok",
     "timestamp": 1745527890006,
     "user": {
      "displayName": "Ivan Olmos Pineda",
      "userId": "08486411851354884128"
     },
     "user_tz": 360
    },
    "id": "eW2-E4WKkMG_",
    "outputId": "0f6f51e7-8e93-4588-c1bf-a7b9b052fb47"
   },
   "outputs": [
    {
     "name": "stdout",
     "output_type": "stream",
     "text": [
      "Total de registros de carros Japones 4 cilindros: 69\n",
      "+---------------------------+----+---------+------------+----------+------+------------+-----+------+\n",
      "|Car                        |MPG |Cylinders|Displacement|Horsepower|Weight|Acceleration|Model|Origin|\n",
      "+---------------------------+----+---------+------------+----------+------+------------+-----+------+\n",
      "|Toyota Corolla Mark ii     |24.0|4        |113.0       |95.0      |2372  |15.0        |70   |Japan |\n",
      "|Datsun PL510               |27.0|4        |97.0        |88.0      |2130  |14.5        |70   |Japan |\n",
      "|Datsun PL510               |27.0|4        |97.0        |88.0      |2130  |14.5        |71   |Japan |\n",
      "|Toyota Corolla             |25.0|4        |113.0       |95.0      |2228  |14.0        |71   |Japan |\n",
      "|Toyota Corolla 1200        |31.0|4        |71.0        |65.0      |1773  |19.0        |71   |Japan |\n",
      "|Datsun 1200                |35.0|4        |72.0        |69.0      |1613  |18.0        |71   |Japan |\n",
      "|Toyota Corolla Hardtop     |24.0|4        |113.0       |95.0      |2278  |15.5        |72   |Japan |\n",
      "|Datsun 510 (sw)            |28.0|4        |97.0        |92.0      |2288  |17.0        |72   |Japan |\n",
      "|Toyota Corolla Mark II (sw)|23.0|4        |120.0       |97.0      |2506  |14.5        |72   |Japan |\n",
      "|Toyota Corolla 1600 (sw)   |27.0|4        |97.0        |88.0      |2100  |16.5        |72   |Japan |\n",
      "+---------------------------+----+---------+------------+----------+------+------------+-----+------+\n",
      "only showing top 10 rows\n",
      "\n"
     ]
    }
   ],
   "source": [
    "# Ejemplo 3: definiendo un operador a partir de una condición compuesta\n",
    "\n",
    "japan_4cil = df.filter((df.Origin == 'Japan') & (df.Cylinders == 4))\n",
    "print(\"Total de registros de carros Japones 4 cilindros: \" + str(japan_4cil.count()))\n",
    "japan_4cil.show(10,truncate=False)"
   ]
  },
  {
   "cell_type": "code",
   "execution_count": 112,
   "id": "KRXzwqHFk8nc",
   "metadata": {
    "colab": {
     "base_uri": "https://localhost:8080/"
    },
    "executionInfo": {
     "elapsed": 375,
     "status": "ok",
     "timestamp": 1745528291413,
     "user": {
      "displayName": "Ivan Olmos Pineda",
      "userId": "08486411851354884128"
     },
     "user_tz": 360
    },
    "id": "KRXzwqHFk8nc",
    "outputId": "4eebf20a-c89c-495d-f941-934d1bcfd879"
   },
   "outputs": [
    {
     "name": "stdout",
     "output_type": "stream",
     "text": [
      "Total de registros de carros Japoneses 4 cilindros a 6 cilindros: 75\n",
      "+---------------------------+----+---------+------------+----------+------+------------+-----+------+\n",
      "|Car                        |MPG |Cylinders|Displacement|Horsepower|Weight|Acceleration|Model|Origin|\n",
      "+---------------------------+----+---------+------------+----------+------+------------+-----+------+\n",
      "|Toyota Corolla Mark ii     |24.0|4        |113.0       |95.0      |2372  |15.0        |70   |Japan |\n",
      "|Datsun PL510               |27.0|4        |97.0        |88.0      |2130  |14.5        |70   |Japan |\n",
      "|Datsun PL510               |27.0|4        |97.0        |88.0      |2130  |14.5        |71   |Japan |\n",
      "|Toyota Corolla             |25.0|4        |113.0       |95.0      |2228  |14.0        |71   |Japan |\n",
      "|Toyota Corolla 1200        |31.0|4        |71.0        |65.0      |1773  |19.0        |71   |Japan |\n",
      "|Datsun 1200                |35.0|4        |72.0        |69.0      |1613  |18.0        |71   |Japan |\n",
      "|Toyota Corolla Hardtop     |24.0|4        |113.0       |95.0      |2278  |15.5        |72   |Japan |\n",
      "|Datsun 510 (sw)            |28.0|4        |97.0        |92.0      |2288  |17.0        |72   |Japan |\n",
      "|Toyota Corolla Mark II (sw)|23.0|4        |120.0       |97.0      |2506  |14.5        |72   |Japan |\n",
      "|Toyota Corolla 1600 (sw)   |27.0|4        |97.0        |88.0      |2100  |16.5        |72   |Japan |\n",
      "+---------------------------+----+---------+------------+----------+------+------------+-----+------+\n",
      "only showing top 10 rows\n",
      "\n"
     ]
    }
   ],
   "source": [
    "# Ejemplo 4\n",
    "df_japan_4_6_cil = df.filter((df.Origin == 'Japan') & ((4 <= df.Cylinders) & (df.Cylinders <= 6)))\n",
    "print(\"Total de registros de carros Japoneses 4 cilindros a 6 cilindros: \" + str(df_japan_4_6_cil.count()))\n",
    "df_japan_4_6_cil.show(10,truncate=False)"
   ]
  },
  {
   "cell_type": "markdown",
   "id": "MDZ-YG-8oHd7",
   "metadata": {
    "id": "MDZ-YG-8oHd7"
   },
   "source": [
    "#### Eliminando registros duplicados: distinct"
   ]
  },
  {
   "cell_type": "code",
   "execution_count": 113,
   "id": "1hC90XoAoL0b",
   "metadata": {
    "colab": {
     "base_uri": "https://localhost:8080/"
    },
    "executionInfo": {
     "elapsed": 3370,
     "status": "ok",
     "timestamp": 1745528884921,
     "user": {
      "displayName": "Ivan Olmos Pineda",
      "userId": "08486411851354884128"
     },
     "user_tz": 360
    },
    "id": "1hC90XoAoL0b",
    "outputId": "609df056-5b24-4c59-8e2a-f0f0e95ae769"
   },
   "outputs": [
    {
     "name": "stdout",
     "output_type": "stream",
     "text": [
      "Total de registros en Dataframe origin_model: 39\n",
      "+------+-----+\n",
      "|Origin|Model|\n",
      "+------+-----+\n",
      "|Europe|71   |\n",
      "|Europe|80   |\n",
      "|Europe|79   |\n",
      "|Japan |75   |\n",
      "|US    |72   |\n",
      "|US    |80   |\n",
      "|Europe|74   |\n",
      "|Japan |79   |\n",
      "|Europe|76   |\n",
      "|US    |75   |\n",
      "+------+-----+\n",
      "only showing top 10 rows\n",
      "\n",
      "Total de registros en Dataframe origin_model con duplicados: 406\n"
     ]
    }
   ],
   "source": [
    "# Eliminando registros duplicados\n",
    "\n",
    "df_origin_model = df.select(df.Origin, df.Model).distinct()\n",
    "print(\"Total de registros en Dataframe origin_model: \" + str(df_origin_model.count()))\n",
    "df_origin_model.show(10,truncate=False)\n",
    "# Si no se hubieran eliminado registros repetidos\n",
    "print(\"Total de registros en Dataframe origin_model con duplicados: \" + str(df.select(df.Origin, df.Model).count()))"
   ]
  },
  {
   "cell_type": "markdown",
   "id": "GXaeL33Po-pU",
   "metadata": {
    "id": "GXaeL33Po-pU"
   },
   "source": [
    "#### Ordenando registros: orderBy"
   ]
  },
  {
   "cell_type": "code",
   "execution_count": 114,
   "id": "mrCHDKZdpMc5",
   "metadata": {
    "colab": {
     "base_uri": "https://localhost:8080/"
    },
    "executionInfo": {
     "elapsed": 2088,
     "status": "ok",
     "timestamp": 1745529247855,
     "user": {
      "displayName": "Ivan Olmos Pineda",
      "userId": "08486411851354884128"
     },
     "user_tz": 360
    },
    "id": "mrCHDKZdpMc5",
    "outputId": "ce6bcc23-194f-4f51-c0e3-803b5c66e18a"
   },
   "outputs": [
    {
     "name": "stdout",
     "output_type": "stream",
     "text": [
      "+------+-----+\n",
      "|Origin|Model|\n",
      "+------+-----+\n",
      "|Europe|82   |\n",
      "|Japan |82   |\n",
      "|US    |82   |\n",
      "|Japan |81   |\n",
      "|US    |81   |\n",
      "|Europe|81   |\n",
      "|Japan |80   |\n",
      "|Europe|80   |\n",
      "|US    |80   |\n",
      "|Europe|79   |\n",
      "+------+-----+\n",
      "only showing top 10 rows\n",
      "\n"
     ]
    }
   ],
   "source": [
    "# Ejemplo donde se ordenan un conjunto de registros a partir de un atributo específico\n",
    "\n",
    "df_Origin_Model_sort = df.select(df.Origin, df.Model).distinct().orderBy('Model', ascending=False)\n",
    "df_Origin_Model_sort.show(10,truncate=False)"
   ]
  },
  {
   "cell_type": "code",
   "execution_count": 115,
   "id": "wpSEqf82p6JZ",
   "metadata": {
    "colab": {
     "base_uri": "https://localhost:8080/"
    },
    "executionInfo": {
     "elapsed": 1650,
     "status": "ok",
     "timestamp": 1745529438550,
     "user": {
      "displayName": "Ivan Olmos Pineda",
      "userId": "08486411851354884128"
     },
     "user_tz": 360
    },
    "id": "wpSEqf82p6JZ",
    "outputId": "5cc08eb4-8078-4dd5-e387-ee6fe1379302"
   },
   "outputs": [
    {
     "name": "stdout",
     "output_type": "stream",
     "text": [
      "+------+-----+\n",
      "|Origin|Model|\n",
      "+------+-----+\n",
      "|US    |82   |\n",
      "|Japan |82   |\n",
      "|Europe|82   |\n",
      "|US    |81   |\n",
      "|Japan |81   |\n",
      "|Europe|81   |\n",
      "|US    |80   |\n",
      "|Japan |80   |\n",
      "|Europe|80   |\n",
      "|US    |79   |\n",
      "+------+-----+\n",
      "only showing top 10 rows\n",
      "\n"
     ]
    }
   ],
   "source": [
    "# Se puede especificar el ordenamiento de registros a partir de dos o más columnas\n",
    "\n",
    "df_Origin_Model_sort = df.select(df.Origin, df.Model).distinct().orderBy(['Model', 'Origin'], ascending=[False, False])\n",
    "df_Origin_Model_sort.show(10,truncate=False)"
   ]
  },
  {
   "cell_type": "markdown",
   "id": "bsxOXKDmq_K2",
   "metadata": {
    "id": "bsxOXKDmq_K2"
   },
   "source": [
    "#### Uniendo Dataframes: union"
   ]
  },
  {
   "cell_type": "code",
   "execution_count": 116,
   "id": "fxni3RInrDbF",
   "metadata": {
    "colab": {
     "base_uri": "https://localhost:8080/"
    },
    "executionInfo": {
     "elapsed": 786,
     "status": "ok",
     "timestamp": 1745529648850,
     "user": {
      "displayName": "Ivan Olmos Pineda",
      "userId": "08486411851354884128"
     },
     "user_tz": 360
    },
    "id": "fxni3RInrDbF",
    "outputId": "4d30fcb2-009e-4102-b7c8-9081ca59a345"
   },
   "outputs": [
    {
     "name": "stdout",
     "output_type": "stream",
     "text": [
      "+---------------------------+----+---------+------------+----------+------+------------+-----+------+\n",
      "|Car                        |MPG |Cylinders|Displacement|Horsepower|Weight|Acceleration|Model|Origin|\n",
      "+---------------------------+----+---------+------------+----------+------+------------+-----+------+\n",
      "|Toyota Corolla Mark ii     |24.0|4        |113.0       |95.0      |2372  |15.0        |70   |Japan |\n",
      "|Datsun PL510               |27.0|4        |97.0        |88.0      |2130  |14.5        |70   |Japan |\n",
      "|Datsun PL510               |27.0|4        |97.0        |88.0      |2130  |14.5        |71   |Japan |\n",
      "|Toyota Corolla             |25.0|4        |113.0       |95.0      |2228  |14.0        |71   |Japan |\n",
      "|Toyota Corolla 1200        |31.0|4        |71.0        |65.0      |1773  |19.0        |71   |Japan |\n",
      "|Datsun 1200                |35.0|4        |72.0        |69.0      |1613  |18.0        |71   |Japan |\n",
      "|Toyota Corolla Hardtop     |24.0|4        |113.0       |95.0      |2278  |15.5        |72   |Japan |\n",
      "|Datsun 510 (sw)            |28.0|4        |97.0        |92.0      |2288  |17.0        |72   |Japan |\n",
      "|Toyota Corolla Mark II (sw)|23.0|4        |120.0       |97.0      |2506  |14.5        |72   |Japan |\n",
      "|Toyota Corolla 1600 (sw)   |27.0|4        |97.0        |88.0      |2100  |16.5        |72   |Japan |\n",
      "+---------------------------+----+---------+------------+----------+------+------------+-----+------+\n",
      "only showing top 10 rows\n",
      "\n"
     ]
    },
    {
     "data": {
      "text/plain": [
       "75"
      ]
     },
     "execution_count": 116,
     "metadata": {},
     "output_type": "execute_result"
    }
   ],
   "source": [
    "# se crean dos dataframes diferentes con igual esquema\n",
    "df_japan_4cil = df.filter((df.Origin == 'Japan') & (df.Cylinders == 4))\n",
    "df_japan_6cil = df.filter((df.Origin == 'Japan') & (df.Cylinders == 6))\n",
    "# Se unen los dataframes\n",
    "df_japan_4cil_6cil = df_japan_4cil.union(df_japan_6cil)\n",
    "df_japan_4cil_6cil.show(10,truncate = False)\n",
    "df_japan_4cil_6cil.count()"
   ]
  },
  {
   "cell_type": "markdown",
   "id": "1rZVaLu3wJ0p",
   "metadata": {
    "id": "1rZVaLu3wJ0p"
   },
   "source": [
    "## SQL en Spark"
   ]
  },
  {
   "cell_type": "code",
   "execution_count": 117,
   "id": "gB9_i0tuwISk",
   "metadata": {
    "colab": {
     "base_uri": "https://localhost:8080/"
    },
    "executionInfo": {
     "elapsed": 754,
     "status": "ok",
     "timestamp": 1745531028365,
     "user": {
      "displayName": "Ivan Olmos Pineda",
      "userId": "08486411851354884128"
     },
     "user_tz": 360
    },
    "id": "gB9_i0tuwISk",
    "outputId": "e130134e-3989-420d-e87f-a33b33d99a33"
   },
   "outputs": [
    {
     "name": "stdout",
     "output_type": "stream",
     "text": [
      "+--------------------+----+---------+------------+----------+------+------------+-----+------+\n",
      "|                 Car| MPG|Cylinders|Displacement|Horsepower|Weight|Acceleration|Model|Origin|\n",
      "+--------------------+----+---------+------------+----------+------+------------+-----+------+\n",
      "|Chevrolet Chevell...|18.0|        8|       307.0|     130.0|  3504|        12.0|   70|    US|\n",
      "|   Buick Skylark 320|15.0|        8|       350.0|     165.0|  3693|        11.5|   70|    US|\n",
      "|  Plymouth Satellite|18.0|        8|       318.0|     150.0|  3436|        11.0|   70|    US|\n",
      "|       AMC Rebel SST|16.0|        8|       304.0|     150.0|  3433|        12.0|   70|    US|\n",
      "|         Ford Torino|17.0|        8|       302.0|     140.0|  3449|        10.5|   70|    US|\n",
      "+--------------------+----+---------+------------+----------+------+------------+-----+------+\n",
      "\n",
      "+-----------+\n",
      "|total_count|\n",
      "+-----------+\n",
      "|        406|\n",
      "+-----------+\n",
      "\n"
     ]
    }
   ],
   "source": [
    "# Se registra temporalmente la tabla con el nombre \"temp\"\n",
    "df.createOrReplaceTempView(\"temp\")\n",
    "# Se imprimen los 5 primeros registros\n",
    "spark.sql(\"select * from temp limit 5\").show()\n",
    "# Se calcula el total de registros de la tabla\n",
    "spark.sql(\"select count(*) as total_count from temp\").show()"
   ]
  },
  {
   "cell_type": "code",
   "execution_count": 118,
   "id": "3rpLSiwiwgZn",
   "metadata": {
    "colab": {
     "base_uri": "https://localhost:8080/"
    },
    "executionInfo": {
     "elapsed": 147,
     "status": "ok",
     "timestamp": 1745531048134,
     "user": {
      "displayName": "Ivan Olmos Pineda",
      "userId": "08486411851354884128"
     },
     "user_tz": 360
    },
    "id": "3rpLSiwiwgZn",
    "outputId": "adcf8cd4-dea3-4b44-a462-9adecc1da09a"
   },
   "outputs": [
    {
     "name": "stdout",
     "output_type": "stream",
     "text": [
      "+------+-----+\n",
      "|Origin|Model|\n",
      "+------+-----+\n",
      "|    US|   70|\n",
      "|    US|   70|\n",
      "|    US|   70|\n",
      "|    US|   70|\n",
      "|    US|   70|\n",
      "|    US|   70|\n",
      "|    US|   70|\n",
      "|    US|   70|\n",
      "|    US|   70|\n",
      "|    US|   70|\n",
      "|    US|   70|\n",
      "|    US|   70|\n",
      "|    US|   70|\n",
      "|    US|   70|\n",
      "|    US|   70|\n",
      "|    US|   70|\n",
      "|    US|   70|\n",
      "|    US|   70|\n",
      "|    US|   70|\n",
      "|    US|   70|\n",
      "+------+-----+\n",
      "only showing top 20 rows\n",
      "\n"
     ]
    }
   ],
   "source": [
    "# Ejemplo de una consulta con una condición\n",
    "df_origin_model = spark.sql(\"select Origin,Model from temp where Origin=='US'\")\n",
    "df_origin_model.show()"
   ]
  },
  {
   "cell_type": "code",
   "execution_count": 119,
   "id": "nvh11hZ-wpUV",
   "metadata": {
    "colab": {
     "base_uri": "https://localhost:8080/"
    },
    "executionInfo": {
     "elapsed": 367,
     "status": "ok",
     "timestamp": 1745531177785,
     "user": {
      "displayName": "Ivan Olmos Pineda",
      "userId": "08486411851354884128"
     },
     "user_tz": 360
    },
    "id": "nvh11hZ-wpUV",
    "outputId": "ead7550c-f538-4e8f-e7e5-f668eabe07be"
   },
   "outputs": [
    {
     "name": "stdout",
     "output_type": "stream",
     "text": [
      "Numero de registros: 75\n",
      "+------+-----+\n",
      "|Origin|Model|\n",
      "+------+-----+\n",
      "|Japan |70   |\n",
      "|Japan |70   |\n",
      "|Japan |71   |\n",
      "|Japan |71   |\n",
      "|Japan |71   |\n",
      "|Japan |71   |\n",
      "|Japan |72   |\n",
      "|Japan |72   |\n",
      "|Japan |72   |\n",
      "|Japan |72   |\n",
      "+------+-----+\n",
      "only showing top 10 rows\n",
      "\n"
     ]
    }
   ],
   "source": [
    "# Ejemplo de una consulta con una condicional estructurada\n",
    "df_japan_4cil_6cil = spark.sql(\"select Origin, Model from temp where (Origin=='Japan' and (Cylinders==4 or Cylinders==6))\")\n",
    "print(\"Numero de registros: \" + str(df_japan_4cil_6cil.count()))\n",
    "df_japan_4cil_6cil.show(10, truncate = False)"
   ]
  },
  {
   "cell_type": "code",
   "execution_count": 120,
   "id": "_RgIoVb3xHI1",
   "metadata": {
    "colab": {
     "base_uri": "https://localhost:8080/"
    },
    "executionInfo": {
     "elapsed": 247,
     "status": "ok",
     "timestamp": 1745531267910,
     "user": {
      "displayName": "Ivan Olmos Pineda",
      "userId": "08486411851354884128"
     },
     "user_tz": 360
    },
    "id": "_RgIoVb3xHI1",
    "outputId": "7976b8b1-89f2-43af-f377-ba8cd9ff8f64"
   },
   "outputs": [
    {
     "name": "stdout",
     "output_type": "stream",
     "text": [
      "Numero de registros: 75\n",
      "+------+-----+\n",
      "|Origin|Model|\n",
      "+------+-----+\n",
      "|Japan |70   |\n",
      "|Japan |70   |\n",
      "|Japan |71   |\n",
      "|Japan |71   |\n",
      "|Japan |71   |\n",
      "|Japan |71   |\n",
      "|Japan |72   |\n",
      "|Japan |72   |\n",
      "|Japan |72   |\n",
      "|Japan |72   |\n",
      "+------+-----+\n",
      "only showing top 10 rows\n",
      "\n"
     ]
    }
   ],
   "source": [
    "# Otro ejemplo de query estructurado\n",
    "# Ejemplo en el cual se genera una cadena donde se define la consulta\n",
    "query = \"\"\"select Origin, Model from temp where (Origin=='Japan' and (Cylinders==4 or Cylinders==6))\"\"\"\n",
    "df_japan_4cil_6cil = spark.sql(query)\n",
    "print(\"Numero de registros: \" + str(df_japan_4cil_6cil.count()))\n",
    "df_japan_4cil_6cil.show(10, truncate = False)"
   ]
  }
 ],
 "metadata": {
  "colab": {
   "provenance": []
  },
  "kernelspec": {
   "display_name": "env-pyspark",
   "language": "python",
   "name": "env-pyspark"
  },
  "language_info": {
   "codemirror_mode": {
    "name": "ipython",
    "version": 3
   },
   "file_extension": ".py",
   "mimetype": "text/x-python",
   "name": "python",
   "nbconvert_exporter": "python",
   "pygments_lexer": "ipython3",
   "version": "3.12.9"
  }
 },
 "nbformat": 4,
 "nbformat_minor": 5
}
