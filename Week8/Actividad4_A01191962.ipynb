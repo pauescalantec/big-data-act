{
 "cells": [
  {
   "cell_type": "markdown",
   "id": "dd1dc28d-4e92-4571-8622-d9bac54ca7e8",
   "metadata": {},
   "source": [
    "<img src=\"https://global.utsa.edu/tec-partnership/images/logos/logotipo-horizontal-azul-transparente.png\"  width=\"600\">"
   ]
  },
  {
   "cell_type": "markdown",
   "id": "ade4f6e1-f302-4b51-9c25-81b4c3c5408b",
   "metadata": {},
   "source": [
    "## **Actividad 4 | Métricas de calidad de resultados**\n",
    "### **Análisis de grandes volúmenes de datos (Gpo 10)**\n",
    "#### Tecnológico de Monterrey\n",
    "---\n",
    "*   NOMBRE: Paulina Escalante Campbell\n",
    "*   MATRÍCULA: A01191962\n",
    "---\n",
    "### **Objetivo**\n",
    "Identificar métricas para la medición de la calidad de resultados derivados de la aplicación de modelos de aprendizaje, ya sea supervisado o no supervisado, orientado al procesamiento de grandes volúmenes de datos, que permitan la selección de los modelos que mejor se ajusten a la tarea de aprendizaje a resolver."
   ]
  },
  {
   "cell_type": "markdown",
   "id": "bd792de0-251b-49ad-8da2-6e400013c66a",
   "metadata": {},
   "source": [
    "#### **Imports**\n"
   ]
  },
  {
   "cell_type": "code",
   "execution_count": 73,
   "id": "815ab9f0-6b99-478d-8037-03433f3584f3",
   "metadata": {},
   "outputs": [],
   "source": [
    "import logging\n",
    "logger = logging.getLogger()\n",
    "logger.setLevel(logging.CRITICAL)\n",
    "\n",
    "import warnings\n",
    "warnings.filterwarnings('ignore')\n",
    "\n",
    "import findspark\n",
    "findspark.init()\n",
    "from pyspark import SparkContext, SparkConf, SQLContext\n",
    "from pyspark.sql import SparkSession\n",
    "from pyspark.sql.functions import count, sum, when, split, col, lit, max, min, expr\n",
    "from pyspark.sql.functions import to_date, var_samp, variance, var_pop, month, to_timestamp, dayofweek\n",
    "from pyspark.sql.functions import hour, month\n",
    "from pyspark.sql.types import NumericType, IntegerType, FloatType\n",
    "from pyspark.sql.functions import col, round, concat_ws, desc, when, concat\n",
    "from pyspark.sql import functions as F\n",
    "\n",
    "from pyspark.ml.classification import LogisticRegression\n",
    "from pyspark.ml.clustering import KMeans\n",
    "from pyspark.ml.feature import VectorAssembler, StringIndexer, StandardScaler\n",
    "from pyspark.ml.evaluation import BinaryClassificationEvaluator, MulticlassClassificationEvaluator\n",
    "from pyspark.ml import Pipeline\n",
    "\n",
    "from datetime import datetime\n",
    "\n",
    "# Imports adicionales necesarios\n",
    "from pyspark.ml.tuning import CrossValidator, ParamGridBuilder\n",
    "from pyspark.ml.evaluation import BinaryClassificationEvaluator, MulticlassClassificationEvaluator\n",
    "from pyspark.sql.functions import col, when, count as spark_count\n",
    "import numpy as np"
   ]
  },
  {
   "cell_type": "markdown",
   "id": "d4a54271-e1dc-4cc9-8c31-814bc73a46ba",
   "metadata": {},
   "source": [
    "### **1. Construcción de la muestra M**"
   ]
  },
  {
   "cell_type": "markdown",
   "id": "5d42191c-b31e-4dd4-ad7a-20070b5c2026",
   "metadata": {},
   "source": [
    "Construir una muestra M que sea representativa de la población P (a partir del dataset que recolectaste desde el inicio del curso). Tomando como base el conocimiento adquirido en la Actividad 3 del Módulo 4, generarás particiones Mi de M, donde cada Mi cumple con los criterios definidos por las variables de caracterización que identificaste previamente (M será igual a la unión de todos los Mi). Para esta actividad, y a diferencia del paso previo, se deberá de tener especial cuidado para determinar el número de instancias que deberá contender cada partición Mi a generar, de tal forma que no se inyecte ningún tipo de sesgo que pueda alterar la calidad de los resultados."
   ]
  },
  {
   "cell_type": "code",
   "execution_count": 2,
   "id": "f4e9097f",
   "metadata": {},
   "outputs": [
    {
     "name": "stderr",
     "output_type": "stream",
     "text": [
      "Setting default log level to \"WARN\".\n",
      "To adjust logging level use sc.setLogLevel(newLevel). For SparkR, use setLogLevel(newLevel).\n",
      "25/06/08 21:17:36 WARN NativeCodeLoader: Unable to load native-hadoop library for your platform... using builtin-java classes where applicable\n"
     ]
    }
   ],
   "source": [
    "spark = SparkSession.builder \\\n",
    "    .appName(\"Maestria_evidencia1\") \\\n",
    "    .config(\"spark.driver.memory\", \"64g\") \\\n",
    "    .config(\"spark.executor.memory\", \"32g\") \\\n",
    "    .config(\"spark.sql.shuffle.partitions\", \"32\") \\\n",
    "    .config(\"spark.default.parallelism\", \"16\") \\\n",
    "    .config(\"spark.driver.maxResultSize\", \"16g\") \\\n",
    "    .config(\"spark.sql.execution.arrow.pyspark.enabled\", \"true\").getOrCreate()\n",
    "spark.conf.set(\"spark.sql.repl.eagerEval.enabled\", True) # Mejores tablas\n",
    "#spark, comentando el comando del environment para reducir el ruido del notebook"
   ]
  },
  {
   "cell_type": "code",
   "execution_count": 45,
   "id": "2cbbad79",
   "metadata": {},
   "outputs": [
    {
     "name": "stderr",
     "output_type": "stream",
     "text": [
      "[Stage 159:================================================>   (135 + 11) / 146]"
     ]
    },
    {
     "name": "stdout",
     "output_type": "stream",
     "text": [
      "Número total de registros: 109950731\n"
     ]
    },
    {
     "name": "stderr",
     "output_type": "stream",
     "text": [
      "                                                                                "
     ]
    }
   ],
   "source": [
    "import kagglehub\n",
    "from kagglehub import KaggleDatasetAdapter\n",
    "\n",
    "####\n",
    "#### La base de datos ha sido limpiada y modificada a este punto\n",
    "#### \n",
    "####\n",
    "file_path = \"/Users/pauescalante/Documents/Maestria/Trimestre 7/BigData/big-data-act/DataModified/expanded_database_ecommerce\"\n",
    "df = spark.read.csv(file_path, header=True, inferSchema=True)\n",
    "\n",
    "# Mostrar cuantos registros se tienen inicialmete para en el futuro reducir a una dimensión contenida\n",
    "initial_total_count = df.count()\n",
    "print(f\"Número total de registros: {initial_total_count}\")"
   ]
  },
  {
   "cell_type": "code",
   "execution_count": 46,
   "id": "dfbdae4c-4fd2-4bb3-b4d4-0c3173b6253c",
   "metadata": {},
   "outputs": [
    {
     "name": "stdout",
     "output_type": "stream",
     "text": [
      "root\n",
      " |-- event_time: date (nullable = true)\n",
      " |-- event_type: string (nullable = true)\n",
      " |-- product_id: integer (nullable = true)\n",
      " |-- category_id: long (nullable = true)\n",
      " |-- brand: string (nullable = true)\n",
      " |-- price: double (nullable = true)\n",
      " |-- user_id: integer (nullable = true)\n",
      " |-- user_session: string (nullable = true)\n",
      " |-- event_time_ts: timestamp (nullable = true)\n",
      " |-- parent_category: string (nullable = true)\n",
      " |-- subcategory: string (nullable = true)\n",
      " |-- price_bucket: string (nullable = true)\n",
      " |-- day_of_week: integer (nullable = true)\n",
      " |-- is_weekend: boolean (nullable = true)\n",
      "\n"
     ]
    }
   ],
   "source": [
    "# Imprimiendo el esquema del Dataframe\n",
    "df.printSchema()"
   ]
  },
  {
   "cell_type": "code",
   "execution_count": 47,
   "id": "ef24d0a1-0b83-44af-96f3-034dd4aca558",
   "metadata": {},
   "outputs": [
    {
     "name": "stdout",
     "output_type": "stream",
     "text": [
      "-RECORD 0-----------------------------------------------\n",
      " event_time      | 2019-11-17                           \n",
      " event_type      | view                                 \n",
      " product_id      | 5300440                              \n",
      " category_id     | 2053013563173241677                  \n",
      " brand           | vitek                                \n",
      " price           | 17.76                                \n",
      " user_id         | 513341639                            \n",
      " user_session    | d9544029-2739-4d16-9cac-79650460d9f0 \n",
      " event_time_ts   | 2019-11-17 05:35:32                  \n",
      " parent_category | None                                 \n",
      " subcategory     | None                                 \n",
      " price_bucket    | low                                  \n",
      " day_of_week     | 1                                    \n",
      " is_weekend      | true                                 \n",
      "only showing top 1 row\n",
      "\n"
     ]
    }
   ],
   "source": [
    "# Mostrar el primer registro de ejemplo para visualizar las columnas\n",
    "df.show(n=1,truncate=False, vertical=True)"
   ]
  },
  {
   "cell_type": "code",
   "execution_count": 48,
   "id": "9a122615-1979-474d-a1d0-396fac970bc6",
   "metadata": {},
   "outputs": [],
   "source": [
    "# En este punto en actividades previas se limpiaron los datos\n",
    "# Pero haremos una última limpieza para verificar\n",
    "\n",
    "#Se eliminan registros con valores nulos\n",
    "df_clean = df.dropna()\n",
    "\n",
    "#Se eliminan columnas con valores nulos\n",
    "df_clean = df_clean.na.drop()\n",
    "\n",
    "#Se eliminan registros duplicados\n",
    "df_clean = df_clean.dropDuplicates()"
   ]
  },
  {
   "cell_type": "code",
   "execution_count": 49,
   "id": "a48eb2e2-8bda-4d9e-bcd6-1c5fc4c6aa12",
   "metadata": {},
   "outputs": [
    {
     "name": "stdout",
     "output_type": "stream",
     "text": [
      "\n",
      "--- SRS sampling: ---\n"
     ]
    },
    {
     "name": "stderr",
     "output_type": "stream",
     "text": [
      "[Stage 163:=================================================>   (137 + 9) / 146]"
     ]
    },
    {
     "name": "stdout",
     "output_type": "stream",
     "text": [
      "New sample size: 10773)\n"
     ]
    },
    {
     "name": "stderr",
     "output_type": "stream",
     "text": [
      "                                                                                "
     ]
    }
   ],
   "source": [
    "# Calcular muestras M pre-procesada, en la actividad anterior definimos que SRS (Simple Random Sampling) era buena opción\n",
    "# Ya que tenemos una poblacion muy grande (approx. 109950731, podemos usar un 0.01% de muestra y tener un número significativo de datos)\n",
    "print(\"\\n--- SRS sampling: ---\")\n",
    "sample_df = df.sample(fraction=0.0001)\n",
    "total_count_sample = sample_df.count()\n",
    "print(f\"New sample size: {total_count_sample})\")\n",
    "\n",
    "# Variables de Caracterización Seleccionadas\n",
    "#event_type: Representa el funnel de conversión (view → cart → purchase)\n",
    "#price_bucket: Segmenta productos por rango de precio (low/medium/high)"
   ]
  },
  {
   "cell_type": "code",
   "execution_count": 50,
   "id": "cfb26f1c-cbe5-4744-ac82-250ccbfaffc5",
   "metadata": {},
   "outputs": [
    {
     "name": "stdout",
     "output_type": "stream",
     "text": [
      "-RECORD 0-----------------------------------------------\n",
      " event_time      | 2019-11-17                           \n",
      " event_type      | view                                 \n",
      " product_id      | 1004838                              \n",
      " category_id     | 2053013555631882655                  \n",
      " brand           | oppo                                 \n",
      " price           | 154.42                               \n",
      " user_id         | 544940181                            \n",
      " user_session    | c6b07b4d-6e11-4207-914b-37ab0e693b42 \n",
      " event_time_ts   | 2019-11-17 05:37:42                  \n",
      " parent_category | electronics                          \n",
      " subcategory     | smartphone                           \n",
      " price_bucket    | medium                               \n",
      " day_of_week     | 1                                    \n",
      " is_weekend      | true                                 \n",
      " stratum         | view_medium                          \n",
      "only showing top 1 row\n",
      "\n"
     ]
    }
   ],
   "source": [
    "# Se añade una nueva columna que combina los valores de los atributos event_type y event_type\n",
    "# Las variables de caracterización serán usadas para un multistep muestro para representar la población\n",
    "from pyspark.sql.functions import concat, lit\n",
    "preparedDF_a_srs = sample_df.withColumn(\"stratum\", concat(sample_df[\"event_type\"], lit(\"_\"), sample_df[\"price_bucket\"]))\n",
    "preparedDF_a_srs.show(n=1,truncate=False, vertical=True)"
   ]
  },
  {
   "cell_type": "code",
   "execution_count": 51,
   "id": "daf88e80-c65e-4b70-8e9b-40ad00918366",
   "metadata": {},
   "outputs": [
    {
     "name": "stderr",
     "output_type": "stream",
     "text": [
      "[Stage 176:====================================================>(144 + 2) / 146]"
     ]
    },
    {
     "name": "stdout",
     "output_type": "stream",
     "text": [
      "[Row(event_type='purchase', count=166), Row(event_type='view', count=10229), Row(event_type='cart', count=378)]\n",
      "\n",
      "\n",
      "[Row(price_bucket='low', count=3679), Row(price_bucket='high', count=3239), Row(price_bucket='medium', count=3855)]\n",
      "\n",
      "\n",
      "[Row(event_type='cart', price_bucket='high', count=133), Row(event_type='view', price_bucket='medium', count=3632), Row(event_type='view', price_bucket='low', count=3535), Row(event_type='cart', price_bucket='medium', count=150), Row(event_type='purchase', price_bucket='medium', count=73), Row(event_type='purchase', price_bucket='low', count=49), Row(event_type='view', price_bucket='high', count=3062), Row(event_type='cart', price_bucket='low', count=95), Row(event_type='purchase', price_bucket='high', count=44)]\n",
      "\n",
      "\n",
      "[Row(stratum='cart_low', count=95), Row(stratum='cart_high', count=133), Row(stratum='view_low', count=3535), Row(stratum='purchase_medium', count=73), Row(stratum='purchase_low', count=49), Row(stratum='view_high', count=3062), Row(stratum='view_medium', count=3632), Row(stratum='cart_medium', count=150), Row(stratum='purchase_high', count=44)]\n"
     ]
    },
    {
     "name": "stderr",
     "output_type": "stream",
     "text": [
      "                                                                                "
     ]
    }
   ],
   "source": [
    "# Se calcula la cantidad de instancias por cada valor diferente de las variables event_type, price_bucket y combinada\n",
    "srs_counts_event_type = preparedDF_a_srs.groupBy(\"event_type\").count().collect()\n",
    "srs_counts_price_bucket = preparedDF_a_srs.groupBy(\"price_bucket\").count().collect()\n",
    "srs_counts_combined_a = preparedDF_a_srs.groupBy(\"event_type\", \"price_bucket\").count().collect()\n",
    "srs_counts_combined = preparedDF_a_srs.groupBy(\"stratum\").count().collect()\n",
    "\n",
    "print(srs_counts_event_type)\n",
    "print(\"\\n\")\n",
    "print(srs_counts_price_bucket)\n",
    "print(\"\\n\")\n",
    "print(srs_counts_combined_a)\n",
    "print(\"\\n\")\n",
    "print(srs_counts_combined)"
   ]
  },
  {
   "cell_type": "code",
   "execution_count": 58,
   "id": "f0cc9f0e-5421-4db6-a0e6-84fbe981d44f",
   "metadata": {},
   "outputs": [
    {
     "name": "stderr",
     "output_type": "stream",
     "text": [
      "Exception in thread \"serve-DataFrame\" java.net.SocketTimeoutException: Accept timed out\n",
      "\tat java.base/sun.nio.ch.NioSocketImpl.timedAccept(NioSocketImpl.java:701)\n",
      "\tat java.base/sun.nio.ch.NioSocketImpl.accept(NioSocketImpl.java:745)\n",
      "\tat java.base/java.net.ServerSocket.implAccept(ServerSocket.java:698)\n",
      "\tat java.base/java.net.ServerSocket.platformImplAccept(ServerSocket.java:663)\n",
      "\tat java.base/java.net.ServerSocket.implAccept(ServerSocket.java:639)\n",
      "\tat java.base/java.net.ServerSocket.implAccept(ServerSocket.java:585)\n",
      "\tat java.base/java.net.ServerSocket.accept(ServerSocket.java:543)\n",
      "\tat org.apache.spark.security.SocketAuthServer$$anon$1.run(SocketAuthServer.scala:65)\n",
      "[Stage 212:===============================================>    (134 + 12) / 146]"
     ]
    },
    {
     "name": "stdout",
     "output_type": "stream",
     "text": [
      "Fracciones de muestreo por estrato:\n",
      "cart_low: 0.4641\n",
      "cart_high: 0.4641\n",
      "view_low: 0.4641\n",
      "purchase_medium: 0.4641\n",
      "purchase_low: 0.4641\n",
      "view_high: 0.4641\n",
      "view_medium: 0.4641\n",
      "cart_medium: 0.4641\n",
      "purchase_high: 0.4641\n"
     ]
    },
    {
     "name": "stderr",
     "output_type": "stream",
     "text": [
      "Exception in thread \"serve-DataFrame\" java.net.SocketTimeoutException: Accept timed out\n",
      "\tat java.base/sun.nio.ch.NioSocketImpl.timedAccept(NioSocketImpl.java:701)\n",
      "\tat java.base/sun.nio.ch.NioSocketImpl.accept(NioSocketImpl.java:745)\n",
      "\tat java.base/java.net.ServerSocket.implAccept(ServerSocket.java:698)\n",
      "\tat java.base/java.net.ServerSocket.platformImplAccept(ServerSocket.java:663)\n",
      "\tat java.base/java.net.ServerSocket.implAccept(ServerSocket.java:639)\n",
      "\tat java.base/java.net.ServerSocket.implAccept(ServerSocket.java:585)\n",
      "\tat java.base/java.net.ServerSocket.accept(ServerSocket.java:543)\n",
      "\tat org.apache.spark.security.SocketAuthServer$$anon$1.run(SocketAuthServer.scala:65)\n"
     ]
    }
   ],
   "source": [
    "# 2. Obtener los conteos por estrato\n",
    "strata_counts = preparedDF_a_srs.groupBy(\"stratum\").count().collect()\n",
    "total_count = preparedDF_a_srs.count()  # 10,000\n",
    "\n",
    "# 3. Calcular las fracciones manteniendo las proporciones\n",
    "fractions = {}\n",
    "for row in strata_counts:\n",
    "    stratum = row[\"stratum\"]\n",
    "    count = row[\"count\"]\n",
    "    \n",
    "    # Proporción de este estrato en la población total\n",
    "    proportion = count / total_count\n",
    "    \n",
    "    # Tamaño objetivo para este estrato\n",
    "    target_stratum_size = target_sample_size * proportion\n",
    "    \n",
    "    # Fracción de muestreo (no puede ser mayor a 1.0)\n",
    "    sampling_fraction = target_stratum_size / count\n",
    "    fractions[stratum] = sampling_fraction if sampling_fraction <= 1.0 else 1.0\n",
    "\n",
    "print(\"Fracciones de muestreo por estrato:\")\n",
    "for stratum, fraction in fractions.items():\n",
    "    print(f\"{stratum}: {fraction:.4f}\")"
   ]
  },
  {
   "cell_type": "code",
   "execution_count": 59,
   "id": "d9d2fdb4-0adc-4438-9210-7cc154128df8",
   "metadata": {},
   "outputs": [
    {
     "name": "stderr",
     "output_type": "stream",
     "text": [
      "                                                                                "
     ]
    },
    {
     "name": "stdout",
     "output_type": "stream",
     "text": [
      "Existen 5011 instancias en el conjunto\n",
      "-RECORD 0-----------------------------------------------\n",
      " event_time      | 2019-11-17                           \n",
      " event_type      | view                                 \n",
      " product_id      | 1004982                              \n",
      " category_id     | 2053013555631882655                  \n",
      " brand           | samsung                              \n",
      " price           | 1029.34                              \n",
      " user_id         | 515122138                            \n",
      " user_session    | afb4820f-664e-4e7e-b242-0de69ad979f9 \n",
      " event_time_ts   | 2019-11-17 05:42:31                  \n",
      " parent_category | electronics                          \n",
      " subcategory     | smartphone                           \n",
      " price_bucket    | high                                 \n",
      " day_of_week     | 1                                    \n",
      " is_weekend      | true                                 \n",
      " stratum         | view_high                            \n",
      "only showing top 1 row\n",
      "\n"
     ]
    }
   ],
   "source": [
    "# Se generan los conjuntos a partir de muestreo estratificado\n",
    "df_multistep_srs_stratum = preparedDF_a_srs.sampleBy(\"stratum\", fractions=fractions, seed=42)\n",
    "\n",
    "print(f\"\"\"Existen {df_multistep_srs_stratum.count()} instancias en el conjunto\"\"\")\n",
    "df_multistep_srs_stratum.show(n=1, truncate=False, vertical=True)"
   ]
  },
  {
   "cell_type": "code",
   "execution_count": 61,
   "id": "874c7792-220b-476a-819f-566ebdc70936",
   "metadata": {},
   "outputs": [
    {
     "name": "stderr",
     "output_type": "stream",
     "text": [
      "[Stage 222:====================================================>(144 + 2) / 146]"
     ]
    },
    {
     "name": "stdout",
     "output_type": "stream",
     "text": [
      "New sample size: 5011)\n"
     ]
    },
    {
     "name": "stderr",
     "output_type": "stream",
     "text": [
      "                                                                                "
     ]
    }
   ],
   "source": [
    "# sample_df tiene la muestra de la población del data set original\n",
    "# Ahora usamos el stratified set\n",
    "sample_df_verify = df_multistep_srs_stratum\n",
    "total_count_sample = sample_df_verify.count()\n",
    "print(f\"New sample size: {total_count_sample})\")"
   ]
  },
  {
   "cell_type": "code",
   "execution_count": 62,
   "id": "0cf6eae8-6db2-43c3-b435-a82b8e41f1e3",
   "metadata": {},
   "outputs": [
    {
     "name": "stdout",
     "output_type": "stream",
     "text": [
      "\n",
      "--- Distribución del sample price_bucket: ---\n"
     ]
    },
    {
     "name": "stderr",
     "output_type": "stream",
     "text": [
      "                                                                                "
     ]
    },
    {
     "name": "stdout",
     "output_type": "stream",
     "text": [
      "+------------+-----+----------+\n",
      "|price_bucket|count|percentage|\n",
      "+------------+-----+----------+\n",
      "|        high| 1519|     30.31|\n",
      "|         low| 1684|     33.61|\n",
      "|      medium| 1808|     36.08|\n",
      "+------------+-----+----------+\n",
      "\n",
      "\n",
      "--- Distribución del sample event_type: ---\n"
     ]
    },
    {
     "name": "stderr",
     "output_type": "stream",
     "text": [
      "[Stage 228:==================================================>  (140 + 6) / 146]"
     ]
    },
    {
     "name": "stdout",
     "output_type": "stream",
     "text": [
      "+----------+-----+----------+\n",
      "|event_type|count|percentage|\n",
      "+----------+-----+----------+\n",
      "|      cart|  197|      3.93|\n",
      "|  purchase|   79|      1.58|\n",
      "|      view| 4735|     94.49|\n",
      "+----------+-----+----------+\n",
      "\n"
     ]
    },
    {
     "name": "stderr",
     "output_type": "stream",
     "text": [
      "                                                                                "
     ]
    }
   ],
   "source": [
    "# Calcular distribuciónes nuevamente del sample\n",
    "sample_price_bucket_distribution = (\n",
    "    sample_df_verify.groupBy(\"price_bucket\")\n",
    "    .count()\n",
    "    .withColumn(\"total\", lit(total_count_sample))\n",
    "    .withColumn(\"percentage\", round((col(\"count\") / col(\"total\")) * 100, 2))\n",
    "    .select(\"price_bucket\", \"count\", \"percentage\")\n",
    "    .orderBy(\"price_bucket\")\n",
    ")\n",
    "\n",
    "sample_event_type_distribution = (\n",
    "    sample_df_verify.groupBy(\"event_type\")\n",
    "    .count()\n",
    "    .withColumn(\"total\", lit(total_count_sample))\n",
    "    .withColumn(\"percentage\", round((col(\"count\") / col(\"total\")) * 100, 2))\n",
    "    .select(\"event_type\", \"count\", \"percentage\")\n",
    "    .orderBy(\"event_type\")\n",
    ")\n",
    "\n",
    "# Se puede observar que el sample tiene distribuciónes similares a la poblacion\n",
    "# Los nuevos valores son sample_df y total_count_sample de ahora en adelante\n",
    "print(\"\\n--- Distribución del sample price_bucket: ---\")\n",
    "sample_price_bucket_distribution.show()\n",
    "\n",
    "print(\"\\n--- Distribución del sample event_type: ---\")\n",
    "sample_event_type_distribution.show()"
   ]
  },
  {
   "cell_type": "markdown",
   "id": "32aa9e6c-96ba-490c-a8ef-77e809599c32",
   "metadata": {},
   "source": [
    "### **2. Construcción Train – Test**"
   ]
  },
  {
   "cell_type": "markdown",
   "id": "86686301-b0b6-4a13-b383-7f6c06ffbc23",
   "metadata": {},
   "source": [
    "Construcción del conjunto de entrenamiento y prueba. Para este paso se asume que M = {Mi: Mi es una partición derivada de las variables de caracterización de la población} generada en el paso anterior. Para construir el conjunto de entrenamiento y prueba, se debe de calcular el porcentaje de división a usar, de tal forma que al dividir cada Mi en un conjunto de entrenamiento (Tri) y prueba (Tsi), no se inyecten sesgos que desvíen la probabilidad de ocurrencia de los patrones en cada nueva partición. Para ello, deberás de retomar la estrategia de muestreo propuesta en el paso 4 de la Actividad 3 del módulo 4. Se debe de cuidar que Tri Ç Tsi = Æ, además de que la unión de todas las particiones es igual a M."
   ]
  },
  {
   "cell_type": "code",
   "execution_count": 63,
   "id": "46265fd1-050d-4408-9622-a4156362ae32",
   "metadata": {},
   "outputs": [
    {
     "name": "stdout",
     "output_type": "stream",
     "text": [
      "\n",
      "-- Entrenamiento/Prueba ---\n"
     ]
    },
    {
     "name": "stderr",
     "output_type": "stream",
     "text": [
      "[Stage 234:====================================================>(144 + 2) / 146]"
     ]
    },
    {
     "name": "stdout",
     "output_type": "stream",
     "text": [
      "Existen 4000 instancias en el conjunto train, y 1011 en el conjunto test\n"
     ]
    },
    {
     "name": "stderr",
     "output_type": "stream",
     "text": [
      "                                                                                "
     ]
    }
   ],
   "source": [
    "sample_df = sample_df_verify\n",
    "# Para separar la muestra entre sets de entrenamiento y prueba se usa un 80:20\n",
    "# Es el estándar en ML y un buen balance\n",
    "print(\"\\n-- Entrenamiento/Prueba ---\")\n",
    "train_ratio = 0.8\n",
    "test_ratio = 0.2\n",
    "random_seed = 42\n",
    "\n",
    "# Establece el número de particiones que se usarán al hacer operaciones como shuffle (por ejemplo, en joins, agregaciones o splits).\n",
    "# Un número mayor puede mejorar la distribución de los datos en clústeres grandes, pero también aumentar el uso de recursos.\n",
    "spark.conf.set(\"spark.sql.shuffle.partitions\", \"200\") # puede alterar los resultados, empezamos con un número mayor\n",
    "\n",
    "# Divide aleatoriamente el DataFrame `sample_df` en dos subconjuntos: uno para entrenamiento y otro para prueba.\n",
    "train_data,test_data = sample_df.randomSplit([train_ratio,test_ratio], seed = random_seed)\n",
    "\n",
    "# Imprime cuántas instancias hay en el conjunto de entrenamiento y cuántas en el conjunto de prueba.\n",
    "print(f\"\"\"Existen {train_data.count()} instancias en el conjunto train, y {test_data.count()} en el conjunto test\"\"\")"
   ]
  },
  {
   "cell_type": "code",
   "execution_count": 64,
   "id": "34a5884b-29c0-45bb-a3ba-1c77e9b05bef",
   "metadata": {},
   "outputs": [
    {
     "name": "stdout",
     "output_type": "stream",
     "text": [
      "\n",
      "--- Verificación de proporciones event_type: ---\n"
     ]
    },
    {
     "name": "stderr",
     "output_type": "stream",
     "text": [
      "[Stage 238:===================================================> (142 + 4) / 146]"
     ]
    },
    {
     "name": "stdout",
     "output_type": "stream",
     "text": [
      "+----------+-----------+----------+\n",
      "|event_type|train_count|test_count|\n",
      "+----------+-----------+----------+\n",
      "|      view|       3780|       955|\n",
      "|      cart|        155|        42|\n",
      "|  purchase|         65|        14|\n",
      "+----------+-----------+----------+\n",
      "\n"
     ]
    },
    {
     "name": "stderr",
     "output_type": "stream",
     "text": [
      "                                                                                "
     ]
    }
   ],
   "source": [
    "# Verificar proporciones de los sets de training y de test con event_type, ya que esta columna tiene una distribución esperada\n",
    "train_dist = train_data.groupBy(\"event_type\").count().withColumnRenamed(\"count\", \"train_count\")\n",
    "test_dist = test_data.groupBy(\"event_type\").count().withColumnRenamed(\"count\", \"test_count\")\n",
    "verification = train_dist.join(test_dist, \"event_type\")\n",
    "\n",
    "# Las distribuciones son esperadas, con view > cart > purchase0\n",
    "print(\"\\n--- Verificación de proporciones event_type: ---\")\n",
    "verification.show()"
   ]
  },
  {
   "cell_type": "code",
   "execution_count": 65,
   "id": "a0746999-64fd-43fd-abe7-80c8850e962c",
   "metadata": {},
   "outputs": [
    {
     "name": "stdout",
     "output_type": "stream",
     "text": [
      "\n",
      "--- Verificación de proporciones price_bucket: ---\n"
     ]
    },
    {
     "name": "stderr",
     "output_type": "stream",
     "text": [
      "[Stage 244:===================================================> (142 + 4) / 146]"
     ]
    },
    {
     "name": "stdout",
     "output_type": "stream",
     "text": [
      "+------------+-----------+----------+\n",
      "|price_bucket|train_count|test_count|\n",
      "+------------+-----------+----------+\n",
      "|         low|       1340|       344|\n",
      "|        high|       1202|       317|\n",
      "|      medium|       1458|       350|\n",
      "+------------+-----------+----------+\n",
      "\n"
     ]
    },
    {
     "name": "stderr",
     "output_type": "stream",
     "text": [
      "                                                                                "
     ]
    }
   ],
   "source": [
    "# Verificar proporciones de los sets de training y de test con event_type, ya que esta columna tiene una distribución normal\n",
    "train_dist_2 = train_data.groupBy(\"price_bucket\").count().withColumnRenamed(\"count\", \"train_count\")\n",
    "test_dist_2 = test_data.groupBy(\"price_bucket\").count().withColumnRenamed(\"count\", \"test_count\")\n",
    "verification_2 = train_dist_2.join(test_dist_2, \"price_bucket\")\n",
    "\n",
    "# Las distribuciones son esperadas, con un 33% aproximado en cada categoría \n",
    "print(\"\\n--- Verificación de proporciones price_bucket: ---\")\n",
    "verification_2.show()"
   ]
  },
  {
   "cell_type": "markdown",
   "id": "0b75a495-49d0-4bfc-9913-d2bb9c56617c",
   "metadata": {},
   "source": [
    "### **3. Selección de métricas para medir calidad de resultados**"
   ]
  },
  {
   "cell_type": "markdown",
   "id": "3f90681b-23a0-4995-8169-bc383e5d8617",
   "metadata": {},
   "source": [
    "Con la finalidad de medir la calidad de resultados que se obtienen, se debe de seleccionar previamente métricas para su medición. Se recomienda que se analice a profundidad que métricas se pueden aplicar, considerando que se trabaja con grandes volúmenes de datos."
   ]
  },
  {
   "cell_type": "markdown",
   "id": "1576efc5-b067-4279-bf2b-cd92b1055339",
   "metadata": {},
   "source": [
    "Dado que nuestro dataset presenta un alto desbalance de clases con únicamente 1.5% de casos positivos (compras), la selección de métricas de evaluación debe considerar cuidadosamente las limitaciones que esto conlleva. La métrica de **accuracy** (exactitud), aunque es ampliamente utilizada en problemas de clasificación binaria, resulta inadecuada para este contexto ya que un modelo trivial que prediga siempre \"no compra\" obtendría una exactitud del 98.5%, enmascarando su incapacidad total para identificar las compras reales.\n",
    "\n",
    "Por esta razón, implementaremos un conjunto complementario de métricas usando **BinaryClassificationEvaluator** de Spark MLlib. El **Area Under ROC Curve (AUC-ROC)** será nuestra métrica principal, ya que evalúa la capacidad del modelo para discriminar entre clases independientemente del umbral de decisión y es menos sensible al desbalance que accuracy. Adicionalmente, utilizaremos **precision** (precisión) para medir qué porcentaje de las predicciones positivas son correctas, minimizando falsos positivos que impactarían negativamente las campañas de marketing dirigidas. El **recall** (sensibilidad) será crucial para capturar la mayor cantidad posible de compradores potenciales, evitando la pérdida de oportunidades de venta.\n",
    "\n",
    "La métrica **F1-score** proporcionará un balance entre precision y recall, especialmente valiosa cuando necesitamos optimizar ambos aspectos simultáneamente. Para datasets desbalanceados como el nuestro, también consideraremos el Area Under Precision-Recall Curve (AUC-PRC), que ofrece una perspectiva más informativa que AUC-ROC cuando la clase positiva es minoritaria. Finalmente, implementaremos una matriz de confusión para analizar detalladamente los tipos de errores y calcular métricas específicas como la especificidad, permitiendo una evaluación integral del comportamiento del modelo en ambas clases y facilitando la toma de decisiones sobre umbrales óptimos de clasificación según el contexto de negocio."
   ]
  },
  {
   "cell_type": "markdown",
   "id": "fb599b41-cdd5-48bf-bd67-89894552b36d",
   "metadata": {},
   "source": [
    "### **4. Entrenamiento de Modelos de Aprendizaje**"
   ]
  },
  {
   "cell_type": "markdown",
   "id": "ea5034b5-6dcb-4eda-8d72-7462b89e5a55",
   "metadata": {},
   "source": [
    "Construcción de modelos de aprendizaje. Para esta etapa y partiendo de la elección de algoritmos de aprendizaje (supervisado, no supervisado), aplicarás un proceso de entrenamiento que te permita construir modelos de aprendizaje que ayude a identificar los patrones de interés existentes en los datos. Se deberá de tener en claro la estrategia de entrenamiento a implementar, desde la forma en la cual se procesarán los datos hasta el ajuste de hiper – parámetros a emplear, además de los ajustes y técnicas adicionales que impidan que los modelos generados estén sobre- ajustados."
   ]
  },
  {
   "cell_type": "markdown",
   "id": "24df58a9-bd1e-4b3b-b7d4-8d8a33c56466",
   "metadata": {},
   "source": [
    "#### 5.1 Aprendizaje Supervisado\n",
    "\n",
    "Para el problema de aprendizaje supervisado haremos un análisis binario de predicción: compra o no compra\n",
    "\n",
    "- Variable objetivo: label (1 = purchase, 0 = no purchase)\n",
    "- Desafío: Dataset altamente desbalanceado (1.5% positivos)"
   ]
  },
  {
   "cell_type": "code",
   "execution_count": 66,
   "id": "1c768e8e-1f20-4dca-89ef-23076ce82426",
   "metadata": {},
   "outputs": [
    {
     "name": "stdout",
     "output_type": "stream",
     "text": [
      "Variable objetivo: label (1=purchase, 0=no purchase)\n",
      "Características numéricas: ['price', 'day_of_week']\n",
      "Características categóricas: ['brand', 'parent_category', 'price_bucket']\n",
      "+----------+-----------+\n",
      "|event_time|day_of_week|\n",
      "+----------+-----------+\n",
      "|2019-11-17|          1|\n",
      "|2019-11-17|          1|\n",
      "|2019-11-17|          1|\n",
      "|2019-11-17|          1|\n",
      "|2019-11-17|          1|\n",
      "+----------+-----------+\n",
      "only showing top 5 rows\n",
      "\n"
     ]
    }
   ],
   "source": [
    "# Preparar la variable objetivo \"label\" que identifica si es compra o no\n",
    "supervised_df = train_data.withColumn(\"label\", \n",
    "                                   when(col(\"event_type\") == \"purchase\", 1.0)\n",
    "                                   .otherwise(0.0))\n",
    "\n",
    "print(\"Variable objetivo: label (1=purchase, 0=no purchase)\")\n",
    "\n",
    "# Seleccionar características, en este caso tenemos variables numéricas y categóricas\n",
    "feature_cols = [\"price\", \"day_of_week\"]\n",
    "categorical_cols = [\"brand\", \"parent_category\", \"price_bucket\"]\n",
    "\n",
    "print(f\"Características numéricas: {feature_cols}\")\n",
    "print(f\"Características categóricas: {categorical_cols}\")\n",
    "\n",
    "# Revisar resultado\n",
    "sample_df.select(\"event_time\", \"day_of_week\").show(5)"
   ]
  },
  {
   "cell_type": "code",
   "execution_count": 67,
   "id": "306c8e06-0fe8-4d57-bfd4-5443cf317181",
   "metadata": {},
   "outputs": [],
   "source": [
    "# Preparación del dataframe para ser procesado con algoritmos de ML en PySpark\n",
    "# Se usa VectorAssembler para generar una o más columnas en la cual, se \"encapsulan\" en un vector único\n",
    "# los valores de los descriptores a usar en el proceso de aprendizaje.\n",
    "\n",
    "# Indexar las variables categóricas (String → Numérico).\n",
    "# Se crea una lista de transformadores StringIndexer, uno por cada columna categórica.\n",
    "# `handleInvalid=\"skip\"` evita errores si hay valores nulos o inesperados.\n",
    "indexers = [StringIndexer(inputCol=col, outputCol=f\"{col}_indexed\", handleInvalid=\"skip\") \n",
    "            for col in categorical_cols]\n",
    "\n",
    "# Ensamblar todas las variables numéricas y categóricas indexadas en una sola columna de características.\n",
    "# Esto es necesario porque PySpark ML requiere una sola columna de entrada (`features`) de tipo vector.\n",
    "feature_cols_final = feature_cols + [f\"{col}_indexed\" for col in categorical_cols]\n",
    "assembler = VectorAssembler(inputCols=feature_cols_final, outputCol=\"features\")\n",
    "\n",
    "# Escalar las características para normalizar los valores.\n",
    "# Esto mejora el rendimiento de muchos algoritmos de ML\n",
    "scaler = StandardScaler(inputCol=\"features\", outputCol=\"scaledFeatures\")"
   ]
  },
  {
   "cell_type": "code",
   "execution_count": 68,
   "id": "70542e10-31ae-4956-9a42-06a3a3de5eb3",
   "metadata": {},
   "outputs": [
    {
     "name": "stdout",
     "output_type": "stream",
     "text": [
      "\n",
      "--- Modelo 1: Regresión Logística ---\n",
      "Entrenando Regresión Logística...\n"
     ]
    },
    {
     "name": "stderr",
     "output_type": "stream",
     "text": [
      "25/06/08 22:27:56 WARN InstanceBuilder: Failed to load implementation from:dev.ludovic.netlib.blas.JNIBLAS\n",
      "25/06/08 22:27:56 WARN InstanceBuilder: Failed to load implementation from:dev.ludovic.netlib.blas.VectorBLAS\n",
      "                                                                                "
     ]
    },
    {
     "name": "stdout",
     "output_type": "stream",
     "text": [
      "Modelo entrenado...\n"
     ]
    }
   ],
   "source": [
    "# MODELO 1: Regresión Logística\n",
    "# Baseline estándar para clasificación binaria\n",
    "print(\"\\n--- Modelo 1: Regresión Logística ---\")\n",
    "\n",
    "# Se especifican las columnas de entrada (`scaledFeatures`) y etiqueta (`label`), y el número máximo de iteraciones.\n",
    "lr = LogisticRegression(featuresCol=\"scaledFeatures\", labelCol=\"label\", maxIter=10)\n",
    "\n",
    "# Se construye un pipeline que incluye:\n",
    "# 1. Indexado de columnas categóricas\n",
    "# 2. Ensamblado de características\n",
    "# 3. Escalado de variables\n",
    "# 4. El modelo de regresión logística\n",
    "lr_pipeline = Pipeline(stages=indexers + [assembler, scaler, lr])\n",
    "\n",
    "print(\"Entrenando Regresión Logística...\")\n",
    "\n",
    "# Se entrena el pipeline completo con el DataFrame `supervised_df`.\n",
    "lr_model = lr_pipeline.fit(supervised_df)\n",
    "print(\"Modelo entrenado...\")"
   ]
  },
  {
   "cell_type": "code",
   "execution_count": 69,
   "id": "fa436620-d081-465f-8329-f49b1fb881b3",
   "metadata": {},
   "outputs": [
    {
     "name": "stdout",
     "output_type": "stream",
     "text": [
      "The coefficient of the model is : [-0.15831008835593044,-0.036537781631237616,-0.41141013085275546,-0.477641022535829,-0.12300920482648102]\n",
      "The intercept of the model is : -3.3491732075074663\n"
     ]
    }
   ],
   "source": [
    "# Se Imprimen los valores de los coeficientes\n",
    "lr_stage = lr_model.stages[-1]  # Última etapa es LogisticRegression\n",
    "print(\"The coefficient of the model is :\", lr_stage.coefficients)\n",
    "print(\"The intercept of the model is :\", lr_stage.intercept)"
   ]
  },
  {
   "cell_type": "code",
   "execution_count": 70,
   "id": "193065bb-bcf2-4663-b8b9-67fa860aba7d",
   "metadata": {},
   "outputs": [
    {
     "name": "stdout",
     "output_type": "stream",
     "text": [
      "\n",
      "--- Evaluación de modelos ---\n"
     ]
    },
    {
     "name": "stderr",
     "output_type": "stream",
     "text": [
      "[Stage 299:====================================================>(144 + 2) / 146]"
     ]
    },
    {
     "name": "stdout",
     "output_type": "stream",
     "text": [
      "\n",
      "Resultados:\n",
      "Regresión Logística - AUC: 0.6971, Accuracy: 0.9861\n"
     ]
    },
    {
     "name": "stderr",
     "output_type": "stream",
     "text": [
      "                                                                                "
     ]
    }
   ],
   "source": [
    "print(\"\\n--- Evaluación de modelos ---\")\n",
    "# Preparar datos de prueba con la variable label\n",
    "test_supervised = test_data.withColumn(\"label\", \n",
    "                                    when(col(\"event_type\") == \"purchase\", 1.0)\n",
    "                                    .otherwise(0.0))\n",
    "\n",
    "# Generar predicciones con el modelo de regresión logística previamente entrenado.\n",
    "lr_predictions = lr_model.transform(test_supervised)\n",
    "\n",
    "# Crear un evaluador para clasificación binaria.\n",
    "# Se usará el área bajo la curva ROC (AUC) como métrica principal para evaluar qué tan bien distingue entre 0 y 1.\n",
    "binary_evaluator = BinaryClassificationEvaluator(labelCol=\"label\",rawPredictionCol=\"rawPrediction\", metricName=\"areaUnderROC\")\n",
    "\n",
    "# Crear un evaluador adicional para calcular la precisión general (accuracy).\n",
    "accuracy_evaluator = MulticlassClassificationEvaluator(labelCol=\"label\", \n",
    "                                                      predictionCol=\"prediction\", \n",
    "                                                      metricName=\"accuracy\")\n",
    "\n",
    "# Métricas para evaluar\n",
    "lr_auc = binary_evaluator.evaluate(lr_predictions)\n",
    "lr_accuracy = accuracy_evaluator.evaluate(lr_predictions)\n",
    "\n",
    "print(f\"\\nResultados:\")\n",
    "print(f\"Regresión Logística - AUC: {lr_auc:.4f}, Accuracy: {lr_accuracy:.4f}\")"
   ]
  },
  {
   "cell_type": "code",
   "execution_count": 71,
   "id": "ca705c2b-b934-4b5f-9d58-3f9c5f867706",
   "metadata": {},
   "outputs": [
    {
     "name": "stdout",
     "output_type": "stream",
     "text": [
      "\n",
      "Matriz de confusión:\n"
     ]
    },
    {
     "name": "stderr",
     "output_type": "stream",
     "text": [
      "[Stage 301:====================================================>(144 + 2) / 146]"
     ]
    },
    {
     "name": "stdout",
     "output_type": "stream",
     "text": [
      "+-----+----------+-----+\n",
      "|label|prediction|count|\n",
      "+-----+----------+-----+\n",
      "|  0.0|       0.0|  921|\n",
      "|  1.0|       0.0|   13|\n",
      "+-----+----------+-----+\n",
      "\n"
     ]
    },
    {
     "name": "stderr",
     "output_type": "stream",
     "text": [
      "                                                                                "
     ]
    }
   ],
   "source": [
    "# Matriz de confusión\n",
    "print(\"\\nMatriz de confusión:\")\n",
    "confusion_matrix = lr_predictions.groupBy(\"label\", \"prediction\").count()\n",
    "confusion_matrix.show()"
   ]
  },
  {
   "cell_type": "code",
   "execution_count": 74,
   "id": "bf57360a-19b8-4eb2-8cd7-077e050240af",
   "metadata": {},
   "outputs": [
    {
     "name": "stdout",
     "output_type": "stream",
     "text": [
      "\n",
      "--- Búsqueda de Hiperparámetros con Grid Search ---\n",
      "Evaluando 27 combinaciones de hiperparámetros...\n",
      "Iniciando búsqueda de hiperparámetros...\n"
     ]
    },
    {
     "name": "stderr",
     "output_type": "stream",
     "text": [
      "                                                                                "
     ]
    },
    {
     "name": "stdout",
     "output_type": "stream",
     "text": [
      "Búsqueda completada. Mejor modelo seleccionado.\n",
      "\n",
      "Mejores hiperparámetros encontrados:\n",
      "regParam: 0.01\n",
      "elasticNetParam: 0.0\n",
      "maxIter: 10\n"
     ]
    }
   ],
   "source": [
    "# Agregando a los resultados de la actividad pasada podemoste usar hiperparametros para mejorar el modelo\n",
    "print(\"\\n--- Búsqueda de Hiperparámetros con Grid Search ---\")\n",
    "\n",
    "# Crear el pipeline base sin el modelo final\n",
    "base_pipeline = Pipeline(stages=indexers + [assembler, scaler])\n",
    "\n",
    "# Crear un nuevo modelo de regresión logística\n",
    "lr_grid = LogisticRegression(featuresCol=\"scaledFeatures\", labelCol=\"label\")\n",
    "\n",
    "# Pipeline completo con el modelo\n",
    "lr_pipeline_grid = Pipeline(stages=indexers + [assembler, scaler, lr_grid])\n",
    "\n",
    "# Construir la grilla de parámetros para buscar\n",
    "param_grid = ParamGridBuilder() \\\n",
    "    .addGrid(lr_grid.regParam, [0.01, 0.1, 1.0]) \\\n",
    "    .addGrid(lr_grid.elasticNetParam, [0.0, 0.5, 1.0]) \\\n",
    "    .addGrid(lr_grid.maxIter, [10, 50, 100]) \\\n",
    "    .build()\n",
    "\n",
    "print(f\"Evaluando {len(param_grid)} combinaciones de hiperparámetros...\")\n",
    "\n",
    "# Configurar evaluador para cross-validation (usamos AUC-ROC)\n",
    "cv_evaluator = BinaryClassificationEvaluator(\n",
    "    labelCol=\"label\", \n",
    "    rawPredictionCol=\"rawPrediction\", \n",
    "    metricName=\"areaUnderROC\"\n",
    ")\n",
    "\n",
    "# Configurar cross-validation con 3 folds\n",
    "crossval = CrossValidator(\n",
    "    estimator=lr_pipeline_grid,\n",
    "    estimatorParamMaps=param_grid,\n",
    "    evaluator=cv_evaluator,\n",
    "    numFolds=3,\n",
    "    seed=42\n",
    ")\n",
    "\n",
    "print(\"Iniciando búsqueda de hiperparámetros...\")\n",
    "# Entrenar con cross-validation\n",
    "cv_model = crossval.fit(supervised_df)\n",
    "\n",
    "print(\"Búsqueda completada. Mejor modelo seleccionado.\")\n",
    "\n",
    "# Obtener el mejor modelo\n",
    "best_lr_model = cv_model.bestModel\n",
    "\n",
    "# Obtener los mejores parámetros\n",
    "best_lr_stage = best_lr_model.stages[-1]\n",
    "print(f\"\\nMejores hiperparámetros encontrados:\")\n",
    "print(f\"regParam: {best_lr_stage.getRegParam()}\")\n",
    "print(f\"elasticNetParam: {best_lr_stage.getElasticNetParam()}\")\n",
    "print(f\"maxIter: {best_lr_stage.getMaxIter()}\")"
   ]
  },
  {
   "cell_type": "code",
   "execution_count": 75,
   "id": "93dbc948-4d24-4504-b97a-0a283fc9bc8e",
   "metadata": {},
   "outputs": [
    {
     "name": "stdout",
     "output_type": "stream",
     "text": [
      "\n",
      "--- Evaluación Completa de Métricas ---\n"
     ]
    }
   ],
   "source": [
    "print(\"\\n--- Evaluación Completa de Métricas ---\")\n",
    "\n",
    "# Generar predicciones con el mejor modelo\n",
    "best_predictions = best_lr_model.transform(test_supervised)"
   ]
  },
  {
   "cell_type": "code",
   "execution_count": 77,
   "id": "917aaab6-deed-4935-8da3-09411540339f",
   "metadata": {},
   "outputs": [
    {
     "name": "stderr",
     "output_type": "stream",
     "text": [
      "[Stage 3181:===================================================>(144 + 2) / 146]"
     ]
    },
    {
     "name": "stdout",
     "output_type": "stream",
     "text": [
      "\n",
      "=== MÉTRICAS PRINCIPALES ===\n",
      "AUC-ROC: 0.6806\n",
      "AUC-PRC: 0.0399\n",
      "Accuracy: 0.9861\n"
     ]
    },
    {
     "name": "stderr",
     "output_type": "stream",
     "text": [
      "                                                                                "
     ]
    }
   ],
   "source": [
    "# AUC-ROC\n",
    "auc_roc_evaluator = BinaryClassificationEvaluator(\n",
    "    labelCol=\"label\", \n",
    "    rawPredictionCol=\"rawPrediction\", \n",
    "    metricName=\"areaUnderROC\"\n",
    ")\n",
    "\n",
    "# AUC-PRC (Precision-Recall Curve) - CRÍTICA para datasets desbalanceados\n",
    "auc_prc_evaluator = BinaryClassificationEvaluator(\n",
    "    labelCol=\"label\", \n",
    "    rawPredictionCol=\"rawPrediction\", \n",
    "    metricName=\"areaUnderPR\"\n",
    ")\n",
    "\n",
    "# Accuracy\n",
    "accuracy_evaluator = MulticlassClassificationEvaluator(\n",
    "    labelCol=\"label\", \n",
    "    predictionCol=\"prediction\", \n",
    "    metricName=\"accuracy\"\n",
    ")\n",
    "\n",
    "# Calcular métricas principales\n",
    "auc_roc = auc_roc_evaluator.evaluate(best_predictions)\n",
    "auc_prc = auc_prc_evaluator.evaluate(best_predictions)\n",
    "accuracy = accuracy_evaluator.evaluate(best_predictions)\n",
    "\n",
    "print(f\"\\n=== MÉTRICAS PRINCIPALES ===\")\n",
    "print(f\"AUC-ROC: {auc_roc:.4f}\")\n",
    "print(f\"AUC-PRC: {auc_prc:.4f}\")\n",
    "print(f\"Accuracy: {accuracy:.4f}\")"
   ]
  },
  {
   "cell_type": "code",
   "execution_count": 78,
   "id": "a8759201-e017-4eef-9986-f394a9941995",
   "metadata": {},
   "outputs": [
    {
     "name": "stdout",
     "output_type": "stream",
     "text": [
      "\n",
      "=== MATRIZ DE CONFUSIÓN ===\n"
     ]
    },
    {
     "name": "stderr",
     "output_type": "stream",
     "text": [
      "[Stage 3183:===================================================>(144 + 2) / 146]"
     ]
    },
    {
     "name": "stdout",
     "output_type": "stream",
     "text": [
      "True Negatives (TN): 921\n",
      "False Positives (FP): 0\n",
      "False Negatives (FN): 13\n",
      "True Positives (TP): 0\n"
     ]
    },
    {
     "name": "stderr",
     "output_type": "stream",
     "text": [
      "                                                                                "
     ]
    }
   ],
   "source": [
    "print(f\"\\n=== MATRIZ DE CONFUSIÓN ===\")\n",
    "confusion_matrix = best_predictions.groupBy(\"label\", \"prediction\").count().collect()\n",
    "\n",
    "# Organizar resultados de la matriz de confusión\n",
    "tn = tp = fn = fp = 0\n",
    "for row in confusion_matrix:\n",
    "    actual = row[\"label\"]\n",
    "    predicted = row[\"prediction\"]\n",
    "    count = row[\"count\"]\n",
    "    \n",
    "    if actual == 0.0 and predicted == 0.0:\n",
    "        tn = count  # True Negatives\n",
    "    elif actual == 1.0 and predicted == 1.0:\n",
    "        tp = count  # True Positives\n",
    "    elif actual == 1.0 and predicted == 0.0:\n",
    "        fn = count  # False Negatives\n",
    "    elif actual == 0.0 and predicted == 1.0:\n",
    "        fp = count  # False Positives\n",
    "\n",
    "print(f\"True Negatives (TN): {tn}\")\n",
    "print(f\"False Positives (FP): {fp}\")\n",
    "print(f\"False Negatives (FN): {fn}\")\n",
    "print(f\"True Positives (TP): {tp}\")"
   ]
  },
  {
   "cell_type": "code",
   "execution_count": 93,
   "id": "a9eebd3e-e515-4388-99c5-e7b74cc7c645",
   "metadata": {},
   "outputs": [
    {
     "name": "stdout",
     "output_type": "stream",
     "text": [
      "Extrayendo curva ROC sin Arrow...\n"
     ]
    },
    {
     "data": {
      "image/png": "[encoded data removed]",
      "text/plain": [
       "<Figure size 640x480 with 1 Axes>"
      ]
     },
     "metadata": {},
     "output_type": "display_data"
    },
    {
     "name": "stdout",
     "output_type": "stream",
     "text": [
      "Training set areaUnderROC: 0.634137425471606\n"
     ]
    }
   ],
   "source": [
    "# Imprimiendo la curva ROC del mejor modelo\n",
    "import matplotlib.pyplot as plt\n",
    "# Desactivar Arrow globalmente en Spark\n",
    "spark.conf.set(\"spark.sql.execution.arrow.pyspark.enabled\", \"false\")\n",
    "\n",
    "# Alternativa para extraer datos de ROC sin toPandas()\n",
    "print(\"Extrayendo curva ROC sin Arrow...\")\n",
    "\n",
    "trainingSummary = best_lr_stage.summary\n",
    "lrROC = trainingSummary.roc.toPandas()\n",
    "\n",
    "plt.plot(lrROC['FPR'],lrROC['TPR'])\n",
    "plt.ylabel('False Positive Rate')\n",
    "plt.xlabel('True Positive Rate')\n",
    "plt.title('ROC Curve')\n",
    "plt.show()\n",
    "\n",
    "print('Training set areaUnderROC: ' + str(trainingSummary.areaUnderROC))"
   ]
  },
  {
   "cell_type": "code",
   "execution_count": 94,
   "id": "75fe78f8-d699-482f-a746-0fbc66278305",
   "metadata": {},
   "outputs": [
    {
     "data": {
      "image/png": "[encoded data removed]",
      "text/plain": [
       "<Figure size 640x480 with 1 Axes>"
      ]
     },
     "metadata": {},
     "output_type": "display_data"
    }
   ],
   "source": [
    "# Imprimiendo la curva entre Precision y Recall\n",
    "pr = trainingSummary.pr.toPandas()\n",
    "plt.plot(pr['recall'],pr['precision'])\n",
    "plt.ylabel('Precision')\n",
    "plt.xlabel('Recall')\n",
    "plt.show()"
   ]
  },
  {
   "cell_type": "code",
   "execution_count": 95,
   "id": "314dc4ae-3fdf-46e3-9e7a-90d359456495",
   "metadata": {},
   "outputs": [
    {
     "data": {
      "image/png": "[encoded data removed]",
      "text/plain": [
       "<Figure size 640x480 with 1 Axes>"
      ]
     },
     "metadata": {},
     "output_type": "display_data"
    },
    {
     "name": "stdout",
     "output_type": "stream",
     "text": [
      "Training set areaUnderROC: 0.6376365946632785\n"
     ]
    }
   ],
   "source": [
    "# ROC del primero modelo sin hiperparametros\n",
    "lr_stage = lr_model.stages[-1]\n",
    "trainingSummary = lr_stage.summary\n",
    "lrROC = trainingSummary.roc.toPandas()\n",
    "\n",
    "plt.plot(lrROC['FPR'],lrROC['TPR'])\n",
    "plt.ylabel('False Positive Rate')\n",
    "plt.xlabel('True Positive Rate')\n",
    "plt.title('ROC Curve')\n",
    "plt.show()\n",
    "\n",
    "print('Training set areaUnderROC: ' + str(trainingSummary.areaUnderROC))"
   ]
  },
  {
   "cell_type": "code",
   "execution_count": 96,
   "id": "50bbb584-5d1e-4569-9674-e04454714786",
   "metadata": {},
   "outputs": [
    {
     "data": {
      "image/png": "[encoded data removed]",
      "text/plain": [
       "<Figure size 640x480 with 1 Axes>"
      ]
     },
     "metadata": {},
     "output_type": "display_data"
    }
   ],
   "source": [
    "# Imprimiendo la curva entre Precision y Recall\n",
    "pr = trainingSummary.pr.toPandas()\n",
    "plt.plot(pr['recall'],pr['precision'])\n",
    "plt.ylabel('Precision')\n",
    "plt.xlabel('Recall')\n",
    "plt.show()"
   ]
  },
  {
   "cell_type": "code",
   "execution_count": 97,
   "id": "0723dc80-0f2b-4ece-b6b1-c05a9471c52f",
   "metadata": {},
   "outputs": [
    {
     "name": "stdout",
     "output_type": "stream",
     "text": [
      "Modelo LR guardado en: /Users/pauescalante/Documents/Maestria/Trimestre 7/BigData/big-data-act/Models//logistic_regression_model_20250608_225506\n"
     ]
    }
   ],
   "source": [
    "# Guardar los modelos\n",
    "base_path = \"/Users/pauescalante/Documents/Maestria/Trimestre 7/BigData/big-data-act/Models/\"\n",
    "timestamp = datetime.now().strftime(\"%Y%m%d_%H%M%S\")\n",
    "\n",
    "lr_model_path = f\"{base_path}/logistic_regression_model_{timestamp}\"\n",
    "try:\n",
    "    lr_model.write().overwrite().save(lr_model_path)\n",
    "    print(f\"Modelo LR guardado en: {lr_model_path}\")\n",
    "except Exception as e:\n",
    "    print(f\"Error guardando LR: {e}\")"
   ]
  },
  {
   "cell_type": "markdown",
   "id": "42dcdec2-402d-449e-86fd-a43ccf60d9d1",
   "metadata": {},
   "source": [
    "### **5. Análisis de resultados**\n",
    "\n"
   ]
  },
  {
   "cell_type": "markdown",
   "id": "ea4fe136-525b-475a-9cc3-03dfcccc0752",
   "metadata": {},
   "source": [
    "El presente análisis de resultados constituye la etapa final y más crítica del proceso de desarrollo de nuestro modelo de predicción de comportamiento de compra en e-commerce. Tras haber implementado un pipeline completo de machine learning que incluye muestreo estratificado representativo, optimización de hiperparámetros mediante Grid Search con validación cruzada, y evaluación exhaustiva utilizando métricas específicamente diseñadas para datasets desbalanceados, es fundamental examinar de manera rigurosa y objetiva los resultados obtenidos.\n",
    "\n",
    "Este análisis trasciende la mera interpretación de métricas numéricas para adentrarse en una evaluación integral que considera tanto las fortalezas técnicas del modelo desarrollado como sus limitaciones prácticas en el contexto real de un negocio de comercio electrónico. Dado que trabajamos con un dataset severamente desbalanceado donde únicamente el 1.58% de las interacciones resultan en compras, el análisis debe contemplar no solo la precisión estadística del modelo, sino también su viabilidad comercial y capacidad para generar valor de negocio tangible.\n",
    "\n",
    "A través de esta evaluación detallada, identificaremos las áreas donde el modelo demuestra competencia, las limitaciones críticas que comprometen su aplicabilidad práctica, y las oportunidades de mejora que podrían transformar el sistema en una herramienta verdaderamente efectiva para la toma de decisiones comerciales. Este enfoque holístico nos permitirá extraer lecciones valiosas tanto de los éxitos como de las deficiencias observadas, estableciendo las bases para futuras iteraciones y refinamientos del modelo predictivo."
   ]
  },
  {
   "cell_type": "code",
   "execution_count": null,
   "id": "8b735623-2177-44a5-a87d-49c41900e7bb",
   "metadata": {},
   "outputs": [],
   "source": []
  }
 ],
 "metadata": {
  "kernelspec": {
   "display_name": "Python 3 (ipykernel)",
   "language": "python",
   "name": "python3"
  },
  "language_info": {
   "codemirror_mode": {
    "name": "ipython",
    "version": 3
   },
   "file_extension": ".py",
   "mimetype": "text/x-python",
   "name": "python",
   "nbconvert_exporter": "python",
   "pygments_lexer": "ipython3",
   "version": "3.12.9"
  }
 },
 "nbformat": 4,
 "nbformat_minor": 5
}
