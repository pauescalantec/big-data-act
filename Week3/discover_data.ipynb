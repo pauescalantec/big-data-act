{
 "cells": [
  {
   "cell_type": "code",
   "execution_count": 13,
   "id": "f4e9097f",
   "metadata": {},
   "outputs": [],
   "source": [
    "from pyspark.sql import SparkSession\n",
    "from pyspark.sql.functions import count, sum, when, col, lit\n",
    "\n",
    "spark = SparkSession.builder \\\n",
    "    .appName(\"Maestria_tarea3\") \\\n",
    "    .config(\"spark.driver.memory\", \"64g\") \\\n",
    "    .config(\"spark.executor.memory\", \"32g\") \\\n",
    "    .config(\"spark.sql.shuffle.partitions\", \"32\") \\\n",
    "    .config(\"spark.default.parallelism\", \"16\") \\\n",
    "    .config(\"spark.driver.maxResultSize\", \"16g\") \\\n",
    "    .config(\"spark.sql.execution.arrow.pyspark.enabled\", \"true\").getOrCreate()"
   ]
  },
  {
   "cell_type": "code",
   "execution_count": 17,
   "id": "2cbbad79",
   "metadata": {},
   "outputs": [
    {
     "name": "stderr",
     "output_type": "stream",
     "text": [
      "                                                                                "
     ]
    },
    {
     "data": {
      "text/plain": [
       "Row(event_time=datetime.datetime(2019, 11, 1, 9, 0), event_type='view', product_id=1003461, category_id=2053013555631882655, category_code='electronics.smartphone', brand='xiaomi', price=489.07, user_id=520088904, user_session='4d3b30da-a5e4-49df-b1a8-ba5943f1dd33')"
      ]
     },
     "execution_count": 17,
     "metadata": {},
     "output_type": "execute_result"
    }
   ],
   "source": [
    "import kagglehub\n",
    "from kagglehub import KaggleDatasetAdapter\n",
    "\n",
    "####\n",
    "#### Opcion 1 para conseguir datos\n",
    "#### Bajar el archivo de Kaggle\n",
    "####\n",
    "####\n",
    "file_path = \"/Users/pauescalante8/Documents/BigData/Datos/2019-Nov.csv\"\n",
    "df_pandas = spark.read.csv(file_path, header=True, inferSchema=True)\n",
    "spark_df = df_pandas[['event_type', 'user_id', 'product_id', 'category_id', 'price']]\n",
    "\n",
    "####\n",
    "####\n",
    "\n",
    "####\n",
    "#### Opcion 2 para conseguir datos\n",
    "#### Bajar el archivo de Kaggle\n",
    "####\n",
    "####\n",
    "\n",
    "#file_path = \"2019-Nov.csv\"\n",
    "\n",
    "#df_pandas = kagglehub.load_dataset(\n",
    "#    KaggleDatasetAdapter.PANDAS,\n",
    "#    \"mkechinov/ecommerce-behavior-data-from-multi-category-store\",\n",
    "#    file_path\n",
    "#)\n",
    "\n",
    "#spark_df = spark.createDataFrame(\n",
    "#    df_pandas[['event_type', 'user_id', 'product_id', 'category_id', 'price']]\n",
    "#)\n",
    "\n",
    "####\n",
    "####\n",
    "\n",
    "df_pandas.head()"
   ]
  },
  {
   "cell_type": "code",
   "execution_count": 18,
   "id": "9105b9cc",
   "metadata": {},
   "outputs": [],
   "source": [
    "spark_df.createOrReplaceTempView(\"events\")"
   ]
  },
  {
   "cell_type": "code",
   "execution_count": 19,
   "id": "daf79110",
   "metadata": {},
   "outputs": [
    {
     "name": "stderr",
     "output_type": "stream",
     "text": [
      "[Stage 11:=====================================================>  (65 + 3) / 68]"
     ]
    },
    {
     "name": "stdout",
     "output_type": "stream",
     "text": [
      "+----------+--------+\n",
      "|event_type|   count|\n",
      "+----------+--------+\n",
      "|      cart| 3028930|\n",
      "|  purchase|  916939|\n",
      "|      view|63556110|\n",
      "+----------+--------+\n",
      "\n"
     ]
    },
    {
     "name": "stderr",
     "output_type": "stream",
     "text": [
      "                                                                                "
     ]
    }
   ],
   "source": [
    "resultado = spark_df.groupBy(\"event_type\").count()\n",
    "resultado.show()"
   ]
  },
  {
   "cell_type": "markdown",
   "id": "9241264e388cb08e",
   "metadata": {},
   "source": [
    "### Cuantos eventos de cada tipo tenemos?"
   ]
  },
  {
   "cell_type": "code",
   "execution_count": 20,
   "id": "13a57f80dcb24510",
   "metadata": {
    "ExecuteTime": {
     "end_time": "2025-04-27T02:08:24.644356Z",
     "start_time": "2025-04-27T02:08:18.786630Z"
    }
   },
   "outputs": [
    {
     "name": "stderr",
     "output_type": "stream",
     "text": [
      "[Stage 14:=====================================================>  (65 + 3) / 68]"
     ]
    },
    {
     "name": "stdout",
     "output_type": "stream",
     "text": [
      "+----------+-----------------+\n",
      "|event_type|count(event_type)|\n",
      "+----------+-----------------+\n",
      "|      cart|          3028930|\n",
      "|  purchase|           916939|\n",
      "|      view|         63556110|\n",
      "+----------+-----------------+\n",
      "\n",
      "CPU times: user 11.7 ms, sys: 9.9 ms, total: 21.6 ms\n",
      "Wall time: 13 s\n"
     ]
    },
    {
     "name": "stderr",
     "output_type": "stream",
     "text": [
      "                                                                                "
     ]
    }
   ],
   "source": [
    "%%time\n",
    "query = \"\"\"\n",
    "SELECT event_type, COUNT(event_type)\n",
    "FROM events\n",
    "GROUP BY event_type\n",
    "\"\"\"\n",
    "event_resume = spark.sql(query)\n",
    "event_resume.show()"
   ]
  },
  {
   "cell_type": "markdown",
   "id": "9ab831e3fd95d737",
   "metadata": {},
   "source": [
    "### Resumen por usuario"
   ]
  },
  {
   "cell_type": "code",
   "execution_count": 21,
   "id": "82543039512d2027",
   "metadata": {
    "ExecuteTime": {
     "end_time": "2025-04-27T02:03:01.869078Z",
     "start_time": "2025-04-27T02:02:53.829953Z"
    }
   },
   "outputs": [
    {
     "name": "stderr",
     "output_type": "stream",
     "text": [
      "[Stage 17:=====================================================>  (65 + 3) / 68]"
     ]
    },
    {
     "name": "stdout",
     "output_type": "stream",
     "text": [
      "+---------+-----+---------+\n",
      "|  user_id|views|purchases|\n",
      "+---------+-----+---------+\n",
      "|556727865|   41|        2|\n",
      "|565921426|    1|        0|\n",
      "|566138387|    4|        0|\n",
      "|516426931|   59|       22|\n",
      "|533312397|   47|        0|\n",
      "|560134869|  382|       26|\n",
      "|559199036|   14|        0|\n",
      "|555365433|    6|        0|\n",
      "|566281616|    1|        0|\n",
      "|566281584|    1|        0|\n",
      "|566281648|    1|        0|\n",
      "|543906197|   49|        0|\n",
      "|518691953|  457|        0|\n",
      "|560796792|    2|        0|\n",
      "|514967216|    6|        0|\n",
      "|566282420|    1|        0|\n",
      "|562855774|   47|        0|\n",
      "|566282561|    3|        0|\n",
      "|554869204|    1|        0|\n",
      "|547211786|  168|       26|\n",
      "+---------+-----+---------+\n",
      "only showing top 20 rows\n",
      "\n"
     ]
    },
    {
     "name": "stderr",
     "output_type": "stream",
     "text": [
      "                                                                                "
     ]
    }
   ],
   "source": [
    "# Tabla de los primeros 20 clientes con información de las columnas de views + purchases\n",
    "query = \"\"\"\n",
    "SELECT user_id, sum(if(event_type='view', 1, 0)) as views, sum(if(event_type='purchase', 2, 0)) as purchases\n",
    "FROM events\n",
    "GROUP BY user_id\n",
    "\"\"\"\n",
    "user_resume = spark.sql(query)\n",
    "user_resume.show()"
   ]
  },
  {
   "cell_type": "markdown",
   "id": "f7403d711631079f",
   "metadata": {},
   "source": [
    "### ¿Que % de usuarios compran?"
   ]
  },
  {
   "cell_type": "code",
   "execution_count": 34,
   "id": "65cefb13-5ed4-4ff0-9671-9edd22fb1b27",
   "metadata": {},
   "outputs": [
    {
     "name": "stderr",
     "output_type": "stream",
     "text": [
      "[Stage 27:=====================================================>  (65 + 3) / 68]"
     ]
    },
    {
     "name": "stdout",
     "output_type": "stream",
     "text": [
      "Porcentaje de usuarios con al menos una compra: 11.95%\n"
     ]
    },
    {
     "name": "stderr",
     "output_type": "stream",
     "text": [
      "                                                                                "
     ]
    }
   ],
   "source": [
    "total_users = user_resume.count()\n",
    "\n",
    "# Número de usuarios con purchases > 0\n",
    "users_with_purchases = user_resume.filter(col(\"purchases\") > 0).count()\n",
    "\n",
    "# Porcentaje\n",
    "purchase_percentage = (users_with_purchases / total_users) * 100\n",
    "\n",
    "print(f\"Porcentaje de usuarios con al menos una compra: {purchase_percentage:.2f}%\")"
   ]
  },
  {
   "cell_type": "markdown",
   "id": "b101cbd2-eaef-4977-b302-4870acd23572",
   "metadata": {},
   "source": [
    "### Pandas Analisis"
   ]
  },
  {
   "cell_type": "code",
   "execution_count": 24,
   "id": "20d6f3af-660d-4f19-9597-6780cd90a73c",
   "metadata": {},
   "outputs": [],
   "source": [
    "import pandas as pd # data processing, CSV file I/O (e.g. pd.read_csv)\n",
    "df_pd = pd.read_csv('/Users/pauescalante8/Documents/BigData/Datos/2019-Nov.csv')"
   ]
  },
  {
   "cell_type": "code",
   "execution_count": 25,
   "id": "7006dcd5-61fe-4331-b7b7-97a0d186a3f1",
   "metadata": {},
   "outputs": [
    {
     "data": {
      "text/html": [
       "<div>\n",
       "<style scoped>\n",
       "    .dataframe tbody tr th:only-of-type {\n",
       "        vertical-align: middle;\n",
       "    }\n",
       "\n",
       "    .dataframe tbody tr th {\n",
       "        vertical-align: top;\n",
       "    }\n",
       "\n",
       "    .dataframe thead th {\n",
       "        text-align: right;\n",
       "    }\n",
       "</style>\n",
       "<table border=\"1\" class=\"dataframe\">\n",
       "  <thead>\n",
       "    <tr style=\"text-align: right;\">\n",
       "      <th></th>\n",
       "      <th>event_time</th>\n",
       "      <th>event_type</th>\n",
       "      <th>product_id</th>\n",
       "      <th>category_id</th>\n",
       "      <th>category_code</th>\n",
       "      <th>brand</th>\n",
       "      <th>price</th>\n",
       "      <th>user_id</th>\n",
       "      <th>user_session</th>\n",
       "    </tr>\n",
       "  </thead>\n",
       "  <tbody>\n",
       "    <tr>\n",
       "      <th>0</th>\n",
       "      <td>2019-11-01 00:00:00 UTC</td>\n",
       "      <td>view</td>\n",
       "      <td>1003461</td>\n",
       "      <td>2053013555631882655</td>\n",
       "      <td>electronics.smartphone</td>\n",
       "      <td>xiaomi</td>\n",
       "      <td>489.07</td>\n",
       "      <td>520088904</td>\n",
       "      <td>4d3b30da-a5e4-49df-b1a8-ba5943f1dd33</td>\n",
       "    </tr>\n",
       "    <tr>\n",
       "      <th>1</th>\n",
       "      <td>2019-11-01 00:00:00 UTC</td>\n",
       "      <td>view</td>\n",
       "      <td>5000088</td>\n",
       "      <td>2053013566100866035</td>\n",
       "      <td>appliances.sewing_machine</td>\n",
       "      <td>janome</td>\n",
       "      <td>293.65</td>\n",
       "      <td>530496790</td>\n",
       "      <td>8e5f4f83-366c-4f70-860e-ca7417414283</td>\n",
       "    </tr>\n",
       "    <tr>\n",
       "      <th>2</th>\n",
       "      <td>2019-11-01 00:00:01 UTC</td>\n",
       "      <td>view</td>\n",
       "      <td>17302664</td>\n",
       "      <td>2053013553853497655</td>\n",
       "      <td>NaN</td>\n",
       "      <td>creed</td>\n",
       "      <td>28.31</td>\n",
       "      <td>561587266</td>\n",
       "      <td>755422e7-9040-477b-9bd2-6a6e8fd97387</td>\n",
       "    </tr>\n",
       "    <tr>\n",
       "      <th>3</th>\n",
       "      <td>2019-11-01 00:00:01 UTC</td>\n",
       "      <td>view</td>\n",
       "      <td>3601530</td>\n",
       "      <td>2053013563810775923</td>\n",
       "      <td>appliances.kitchen.washer</td>\n",
       "      <td>lg</td>\n",
       "      <td>712.87</td>\n",
       "      <td>518085591</td>\n",
       "      <td>3bfb58cd-7892-48cc-8020-2f17e6de6e7f</td>\n",
       "    </tr>\n",
       "    <tr>\n",
       "      <th>4</th>\n",
       "      <td>2019-11-01 00:00:01 UTC</td>\n",
       "      <td>view</td>\n",
       "      <td>1004775</td>\n",
       "      <td>2053013555631882655</td>\n",
       "      <td>electronics.smartphone</td>\n",
       "      <td>xiaomi</td>\n",
       "      <td>183.27</td>\n",
       "      <td>558856683</td>\n",
       "      <td>313628f1-68b8-460d-84f6-cec7a8796ef2</td>\n",
       "    </tr>\n",
       "  </tbody>\n",
       "</table>\n",
       "</div>"
      ],
      "text/plain": [
       "                event_time event_type  product_id          category_id  \\\n",
       "0  2019-11-01 00:00:00 UTC       view     1003461  2053013555631882655   \n",
       "1  2019-11-01 00:00:00 UTC       view     5000088  2053013566100866035   \n",
       "2  2019-11-01 00:00:01 UTC       view    17302664  2053013553853497655   \n",
       "3  2019-11-01 00:00:01 UTC       view     3601530  2053013563810775923   \n",
       "4  2019-11-01 00:00:01 UTC       view     1004775  2053013555631882655   \n",
       "\n",
       "               category_code   brand   price    user_id  \\\n",
       "0     electronics.smartphone  xiaomi  489.07  520088904   \n",
       "1  appliances.sewing_machine  janome  293.65  530496790   \n",
       "2                        NaN   creed   28.31  561587266   \n",
       "3  appliances.kitchen.washer      lg  712.87  518085591   \n",
       "4     electronics.smartphone  xiaomi  183.27  558856683   \n",
       "\n",
       "                           user_session  \n",
       "0  4d3b30da-a5e4-49df-b1a8-ba5943f1dd33  \n",
       "1  8e5f4f83-366c-4f70-860e-ca7417414283  \n",
       "2  755422e7-9040-477b-9bd2-6a6e8fd97387  \n",
       "3  3bfb58cd-7892-48cc-8020-2f17e6de6e7f  \n",
       "4  313628f1-68b8-460d-84f6-cec7a8796ef2  "
      ]
     },
     "execution_count": 25,
     "metadata": {},
     "output_type": "execute_result"
    }
   ],
   "source": [
    "df_pd.head(5)"
   ]
  },
  {
   "cell_type": "code",
   "execution_count": 26,
   "id": "8ebc9621-ef03-4dc5-bcee-51fd2e233628",
   "metadata": {},
   "outputs": [
    {
     "data": {
      "text/html": [
       "<div>\n",
       "<style scoped>\n",
       "    .dataframe tbody tr th:only-of-type {\n",
       "        vertical-align: middle;\n",
       "    }\n",
       "\n",
       "    .dataframe tbody tr th {\n",
       "        vertical-align: top;\n",
       "    }\n",
       "\n",
       "    .dataframe thead th {\n",
       "        text-align: right;\n",
       "    }\n",
       "</style>\n",
       "<table border=\"1\" class=\"dataframe\">\n",
       "  <thead>\n",
       "    <tr style=\"text-align: right;\">\n",
       "      <th></th>\n",
       "      <th>product_id</th>\n",
       "      <th>category_id</th>\n",
       "      <th>price</th>\n",
       "      <th>user_id</th>\n",
       "    </tr>\n",
       "  </thead>\n",
       "  <tbody>\n",
       "    <tr>\n",
       "      <th>count</th>\n",
       "      <td>6.750198e+07</td>\n",
       "      <td>6.750198e+07</td>\n",
       "      <td>6.750198e+07</td>\n",
       "      <td>6.750198e+07</td>\n",
       "    </tr>\n",
       "    <tr>\n",
       "      <th>mean</th>\n",
       "      <td>1.251406e+07</td>\n",
       "      <td>2.057898e+18</td>\n",
       "      <td>2.924593e+02</td>\n",
       "      <td>5.386397e+08</td>\n",
       "    </tr>\n",
       "    <tr>\n",
       "      <th>std</th>\n",
       "      <td>1.725741e+07</td>\n",
       "      <td>2.012549e+16</td>\n",
       "      <td>3.556745e+02</td>\n",
       "      <td>2.288516e+07</td>\n",
       "    </tr>\n",
       "    <tr>\n",
       "      <th>min</th>\n",
       "      <td>1.000365e+06</td>\n",
       "      <td>2.053014e+18</td>\n",
       "      <td>0.000000e+00</td>\n",
       "      <td>1.030022e+07</td>\n",
       "    </tr>\n",
       "    <tr>\n",
       "      <th>25%</th>\n",
       "      <td>1.305977e+06</td>\n",
       "      <td>2.053014e+18</td>\n",
       "      <td>6.924000e+01</td>\n",
       "      <td>5.164762e+08</td>\n",
       "    </tr>\n",
       "    <tr>\n",
       "      <th>50%</th>\n",
       "      <td>5.100568e+06</td>\n",
       "      <td>2.053014e+18</td>\n",
       "      <td>1.657700e+02</td>\n",
       "      <td>5.350573e+08</td>\n",
       "    </tr>\n",
       "    <tr>\n",
       "      <th>75%</th>\n",
       "      <td>1.730075e+07</td>\n",
       "      <td>2.053014e+18</td>\n",
       "      <td>3.603400e+02</td>\n",
       "      <td>5.610794e+08</td>\n",
       "    </tr>\n",
       "    <tr>\n",
       "      <th>max</th>\n",
       "      <td>1.000286e+08</td>\n",
       "      <td>2.187708e+18</td>\n",
       "      <td>2.574070e+03</td>\n",
       "      <td>5.799699e+08</td>\n",
       "    </tr>\n",
       "  </tbody>\n",
       "</table>\n",
       "</div>"
      ],
      "text/plain": [
       "         product_id   category_id         price       user_id\n",
       "count  6.750198e+07  6.750198e+07  6.750198e+07  6.750198e+07\n",
       "mean   1.251406e+07  2.057898e+18  2.924593e+02  5.386397e+08\n",
       "std    1.725741e+07  2.012549e+16  3.556745e+02  2.288516e+07\n",
       "min    1.000365e+06  2.053014e+18  0.000000e+00  1.030022e+07\n",
       "25%    1.305977e+06  2.053014e+18  6.924000e+01  5.164762e+08\n",
       "50%    5.100568e+06  2.053014e+18  1.657700e+02  5.350573e+08\n",
       "75%    1.730075e+07  2.053014e+18  3.603400e+02  5.610794e+08\n",
       "max    1.000286e+08  2.187708e+18  2.574070e+03  5.799699e+08"
      ]
     },
     "execution_count": 26,
     "metadata": {},
     "output_type": "execute_result"
    }
   ],
   "source": [
    "df_pd.describe()"
   ]
  },
  {
   "cell_type": "code",
   "execution_count": 27,
   "id": "82830ad8-734b-45ad-b561-53202f4a6073",
   "metadata": {},
   "outputs": [
    {
     "name": "stdout",
     "output_type": "stream",
     "text": [
      "<class 'pandas.core.frame.DataFrame'>\n",
      "RangeIndex: 67501979 entries, 0 to 67501978\n",
      "Data columns (total 9 columns):\n",
      " #   Column         Dtype  \n",
      "---  ------         -----  \n",
      " 0   event_time     object \n",
      " 1   event_type     object \n",
      " 2   product_id     int64  \n",
      " 3   category_id    int64  \n",
      " 4   category_code  object \n",
      " 5   brand          object \n",
      " 6   price          float64\n",
      " 7   user_id        int64  \n",
      " 8   user_session   object \n",
      "dtypes: float64(1), int64(3), object(5)\n",
      "memory usage: 4.5+ GB\n"
     ]
    }
   ],
   "source": [
    "df_pd.info()"
   ]
  },
  {
   "cell_type": "code",
   "execution_count": 28,
   "id": "12c4a8f0-2efe-42ad-b6a3-22cc39ec4ded",
   "metadata": {},
   "outputs": [
    {
     "data": {
      "text/html": [
       "<div>\n",
       "<style scoped>\n",
       "    .dataframe tbody tr th:only-of-type {\n",
       "        vertical-align: middle;\n",
       "    }\n",
       "\n",
       "    .dataframe tbody tr th {\n",
       "        vertical-align: top;\n",
       "    }\n",
       "\n",
       "    .dataframe thead th {\n",
       "        text-align: right;\n",
       "    }\n",
       "</style>\n",
       "<table border=\"1\" class=\"dataframe\">\n",
       "  <thead>\n",
       "    <tr style=\"text-align: right;\">\n",
       "      <th></th>\n",
       "      <th>product_id</th>\n",
       "      <th>category_id</th>\n",
       "      <th>price</th>\n",
       "      <th>user_id</th>\n",
       "    </tr>\n",
       "  </thead>\n",
       "  <tbody>\n",
       "    <tr>\n",
       "      <th>count</th>\n",
       "      <td>6.750198e+07</td>\n",
       "      <td>6.750198e+07</td>\n",
       "      <td>6.750198e+07</td>\n",
       "      <td>6.750198e+07</td>\n",
       "    </tr>\n",
       "    <tr>\n",
       "      <th>mean</th>\n",
       "      <td>1.251406e+07</td>\n",
       "      <td>2.057898e+18</td>\n",
       "      <td>2.924593e+02</td>\n",
       "      <td>5.386397e+08</td>\n",
       "    </tr>\n",
       "    <tr>\n",
       "      <th>std</th>\n",
       "      <td>1.725741e+07</td>\n",
       "      <td>2.012549e+16</td>\n",
       "      <td>3.556745e+02</td>\n",
       "      <td>2.288516e+07</td>\n",
       "    </tr>\n",
       "    <tr>\n",
       "      <th>min</th>\n",
       "      <td>1.000365e+06</td>\n",
       "      <td>2.053014e+18</td>\n",
       "      <td>0.000000e+00</td>\n",
       "      <td>1.030022e+07</td>\n",
       "    </tr>\n",
       "    <tr>\n",
       "      <th>25%</th>\n",
       "      <td>1.305977e+06</td>\n",
       "      <td>2.053014e+18</td>\n",
       "      <td>6.924000e+01</td>\n",
       "      <td>5.164762e+08</td>\n",
       "    </tr>\n",
       "    <tr>\n",
       "      <th>50%</th>\n",
       "      <td>5.100568e+06</td>\n",
       "      <td>2.053014e+18</td>\n",
       "      <td>1.657700e+02</td>\n",
       "      <td>5.350573e+08</td>\n",
       "    </tr>\n",
       "    <tr>\n",
       "      <th>75%</th>\n",
       "      <td>1.730075e+07</td>\n",
       "      <td>2.053014e+18</td>\n",
       "      <td>3.603400e+02</td>\n",
       "      <td>5.610794e+08</td>\n",
       "    </tr>\n",
       "    <tr>\n",
       "      <th>max</th>\n",
       "      <td>1.000286e+08</td>\n",
       "      <td>2.187708e+18</td>\n",
       "      <td>2.574070e+03</td>\n",
       "      <td>5.799699e+08</td>\n",
       "    </tr>\n",
       "  </tbody>\n",
       "</table>\n",
       "</div>"
      ],
      "text/plain": [
       "         product_id   category_id         price       user_id\n",
       "count  6.750198e+07  6.750198e+07  6.750198e+07  6.750198e+07\n",
       "mean   1.251406e+07  2.057898e+18  2.924593e+02  5.386397e+08\n",
       "std    1.725741e+07  2.012549e+16  3.556745e+02  2.288516e+07\n",
       "min    1.000365e+06  2.053014e+18  0.000000e+00  1.030022e+07\n",
       "25%    1.305977e+06  2.053014e+18  6.924000e+01  5.164762e+08\n",
       "50%    5.100568e+06  2.053014e+18  1.657700e+02  5.350573e+08\n",
       "75%    1.730075e+07  2.053014e+18  3.603400e+02  5.610794e+08\n",
       "max    1.000286e+08  2.187708e+18  2.574070e+03  5.799699e+08"
      ]
     },
     "execution_count": 28,
     "metadata": {},
     "output_type": "execute_result"
    }
   ],
   "source": [
    "df_pd.describe()"
   ]
  },
  {
   "cell_type": "code",
   "execution_count": 29,
   "id": "6aee292c-c81b-4f68-b881-20533e37a3c0",
   "metadata": {},
   "outputs": [
    {
     "data": {
      "text/plain": [
       "event_time              0\n",
       "event_type              0\n",
       "product_id              0\n",
       "category_id             0\n",
       "category_code    21898171\n",
       "brand             9224078\n",
       "price                   0\n",
       "user_id                 0\n",
       "user_session           10\n",
       "dtype: int64"
      ]
     },
     "execution_count": 29,
     "metadata": {},
     "output_type": "execute_result"
    }
   ],
   "source": [
    "df_pd.isnull().sum()"
   ]
  },
  {
   "cell_type": "code",
   "execution_count": 30,
   "id": "604b2904-4496-49bf-823d-d77a3641e385",
   "metadata": {},
   "outputs": [
    {
     "data": {
      "text/plain": [
       "<bound method DataFrame.count of                        event_time event_type  product_id          category_id  \\\n",
       "0         2019-11-01 00:00:00 UTC       view     1003461  2053013555631882655   \n",
       "1         2019-11-01 00:00:00 UTC       view     5000088  2053013566100866035   \n",
       "2         2019-11-01 00:00:01 UTC       view    17302664  2053013553853497655   \n",
       "3         2019-11-01 00:00:01 UTC       view     3601530  2053013563810775923   \n",
       "4         2019-11-01 00:00:01 UTC       view     1004775  2053013555631882655   \n",
       "...                           ...        ...         ...                  ...   \n",
       "67501974  2019-11-30 23:59:58 UTC       view    15700137  2053013559733912211   \n",
       "67501975  2019-11-30 23:59:58 UTC       view    28719425  2053013565639492569   \n",
       "67501976  2019-11-30 23:59:59 UTC       view     1004833  2053013555631882655   \n",
       "67501977  2019-11-30 23:59:59 UTC       view     2701706  2053013563911439225   \n",
       "67501978  2019-11-30 23:59:59 UTC       view     1004233  2053013555631882655   \n",
       "\n",
       "                             category_code    brand    price    user_id  \\\n",
       "0                   electronics.smartphone   xiaomi   489.07  520088904   \n",
       "1                appliances.sewing_machine   janome   293.65  530496790   \n",
       "2                                      NaN    creed    28.31  561587266   \n",
       "3                appliances.kitchen.washer       lg   712.87  518085591   \n",
       "4                   electronics.smartphone   xiaomi   183.27  558856683   \n",
       "...                                    ...      ...      ...        ...   \n",
       "67501974                               NaN      NaN   277.74  532714000   \n",
       "67501975                     apparel.shoes    baden    62.81  545223467   \n",
       "67501976            electronics.smartphone  samsung   167.03  557794415   \n",
       "67501977  appliances.kitchen.refrigerators  samsung   566.27  531607492   \n",
       "67501978            electronics.smartphone    apple  1312.52  579969851   \n",
       "\n",
       "                                  user_session  \n",
       "0         4d3b30da-a5e4-49df-b1a8-ba5943f1dd33  \n",
       "1         8e5f4f83-366c-4f70-860e-ca7417414283  \n",
       "2         755422e7-9040-477b-9bd2-6a6e8fd97387  \n",
       "3         3bfb58cd-7892-48cc-8020-2f17e6de6e7f  \n",
       "4         313628f1-68b8-460d-84f6-cec7a8796ef2  \n",
       "...                                        ...  \n",
       "67501974  02b4131c-0112-4231-aafa-ceaa08e77c1b  \n",
       "67501975  734c5eef-0742-4f8b-9d22-48f75b0bc359  \n",
       "67501976  6fecf566-ebb0-4e70-a243-cdc13ce044cb  \n",
       "67501977  368ddc8b-5db9-40fb-b7ff-b6582a1192c0  \n",
       "67501978  90aca71c-ed8a-4670-866a-761ebacb732d  \n",
       "\n",
       "[67501979 rows x 9 columns]>"
      ]
     },
     "execution_count": 30,
     "metadata": {},
     "output_type": "execute_result"
    }
   ],
   "source": [
    "df_pd.count"
   ]
  },
  {
   "cell_type": "code",
   "execution_count": 31,
   "id": "a7288d00-bf8d-4292-be69-96797df646b1",
   "metadata": {},
   "outputs": [
    {
     "name": "stdout",
     "output_type": "stream",
     "text": [
      "event_time       [2019-11-01 00:00:00 UTC, 2019-11-01 00:00:01 ...\n",
      "event_type                                  [view, cart, purchase]\n",
      "product_id       [1003461, 5000088, 17302664, 3601530, 1004775,...\n",
      "category_id      [2053013555631882655, 2053013566100866035, 205...\n",
      "category_code    [electronics.smartphone, appliances.sewing_mac...\n",
      "brand            [xiaomi, janome, creed, lg, hp, rondell, miche...\n",
      "price            [489.07, 293.65, 28.31, 712.87, 183.27, 360.09...\n",
      "user_id          [520088904, 530496790, 561587266, 518085591, 5...\n",
      "user_session     [4d3b30da-a5e4-49df-b1a8-ba5943f1dd33, 8e5f4f8...\n",
      "dtype: object\n"
     ]
    }
   ],
   "source": [
    "print(df_pd.apply(lambda col: col.unique()))"
   ]
  },
  {
   "cell_type": "code",
   "execution_count": 32,
   "id": "75185534-1b82-4e12-a54c-577ed76dd750",
   "metadata": {},
   "outputs": [
    {
     "data": {
      "text/plain": [
       "event_time        2549559\n",
       "event_type              3\n",
       "product_id         190662\n",
       "category_id           684\n",
       "category_code         129\n",
       "brand                4200\n",
       "price               60435\n",
       "user_id           3696117\n",
       "user_session     13776050\n",
       "dtype: int64"
      ]
     },
     "execution_count": 32,
     "metadata": {},
     "output_type": "execute_result"
    }
   ],
   "source": [
    "pd.Series({col:df_pd[col].nunique() for col in df_pd})"
   ]
  },
  {
   "cell_type": "code",
   "execution_count": null,
   "id": "1939696c0722a790",
   "metadata": {
    "ExecuteTime": {
     "end_time": "2025-04-27T02:10:19.584402Z",
     "start_time": "2025-04-27T02:10:19.397398Z"
    }
   },
   "outputs": [],
   "source": [
    "spark.stop()"
   ]
  },
  {
   "cell_type": "code",
   "execution_count": null,
   "id": "c2b075d138151f39",
   "metadata": {},
   "outputs": [],
   "source": []
  }
 ],
 "metadata": {
  "kernelspec": {
   "display_name": "Python 3 (ipykernel)",
   "language": "python",
   "name": "python3"
  },
  "language_info": {
   "codemirror_mode": {
    "name": "ipython",
    "version": 3
   },
   "file_extension": ".py",
   "mimetype": "text/x-python",
   "name": "python",
   "nbconvert_exporter": "python",
   "pygments_lexer": "ipython3",
   "version": "3.12.9"
  }
 },
 "nbformat": 4,
 "nbformat_minor": 5
}
