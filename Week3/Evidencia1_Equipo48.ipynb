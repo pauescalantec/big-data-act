{
 "cells": [
  {
   "cell_type": "code",
   "execution_count": 1,
   "id": "815ab9f0-6b99-478d-8037-03433f3584f3",
   "metadata": {},
   "outputs": [],
   "source": [
    "import logging\n",
    "logger = logging.getLogger()\n",
    "logger.setLevel(logging.CRITICAL)\n",
    "\n",
    "import findspark\n",
    "findspark.init()\n",
    "from pyspark import SparkContext, SparkConf, SQLContext\n",
    "from pyspark.sql import SparkSession\n",
    "from pyspark.sql.functions import count, sum, when, split, col, lit, max, min, expr\n",
    "from pyspark.sql.functions import to_date, var_samp, variance, var_pop, month, to_timestamp, dayofweek\n",
    "from pyspark.sql.types import NumericType"
   ]
  },
  {
   "cell_type": "code",
   "execution_count": 2,
   "id": "f4e9097f",
   "metadata": {},
   "outputs": [
    {
     "name": "stderr",
     "output_type": "stream",
     "text": [
      "25/05/05 22:45:35 WARN Utils: Your hostname, Paulinas-MacBook-Pro.local resolves to a loopback address: 127.0.0.1; using 192.168.1.241 instead (on interface en0)\n",
      "25/05/05 22:45:35 WARN Utils: Set SPARK_LOCAL_IP if you need to bind to another address\n",
      "Setting default log level to \"WARN\".\n",
      "To adjust logging level use sc.setLogLevel(newLevel). For SparkR, use setLogLevel(newLevel).\n",
      "25/05/05 22:45:35 WARN NativeCodeLoader: Unable to load native-hadoop library for your platform... using builtin-java classes where applicable\n"
     ]
    },
    {
     "data": {
      "text/html": [
       "\n",
       "            <div>\n",
       "                <p><b>SparkSession - in-memory</b></p>\n",
       "                \n",
       "        <div>\n",
       "            <p><b>SparkContext</b></p>\n",
       "\n",
       "            <p><a href=\"http://192.168.1.241:4040\">Spark UI</a></p>\n",
       "\n",
       "            <dl>\n",
       "              <dt>Version</dt>\n",
       "                <dd><code>v3.5.4</code></dd>\n",
       "              <dt>Master</dt>\n",
       "                <dd><code>local[*]</code></dd>\n",
       "              <dt>AppName</dt>\n",
       "                <dd><code>Maestria_evidencia1</code></dd>\n",
       "            </dl>\n",
       "        </div>\n",
       "        \n",
       "            </div>\n",
       "        "
      ],
      "text/plain": [
       "<pyspark.sql.session.SparkSession at 0x1147cf0b0>"
      ]
     },
     "execution_count": 2,
     "metadata": {},
     "output_type": "execute_result"
    }
   ],
   "source": [
    "spark = SparkSession.builder \\\n",
    "    .appName(\"Maestria_evidencia1\") \\\n",
    "    .config(\"spark.driver.memory\", \"64g\") \\\n",
    "    .config(\"spark.executor.memory\", \"32g\") \\\n",
    "    .config(\"spark.sql.shuffle.partitions\", \"32\") \\\n",
    "    .config(\"spark.default.parallelism\", \"16\") \\\n",
    "    .config(\"spark.driver.maxResultSize\", \"16g\") \\\n",
    "    .config(\"spark.sql.execution.arrow.pyspark.enabled\", \"true\").getOrCreate()\n",
    "spark.conf.set(\"spark.sql.repl.eagerEval.enabled\", True) # Mejores tablas\n",
    "spark"
   ]
  },
  {
   "cell_type": "code",
   "execution_count": 3,
   "id": "2cbbad79",
   "metadata": {},
   "outputs": [
    {
     "name": "stderr",
     "output_type": "stream",
     "text": [
      "/opt/anaconda3/envs/env-pyspark/lib/python3.12/site-packages/tqdm/auto.py:21: TqdmWarning: IProgress not found. Please update jupyter and ipywidgets. See https://ipywidgets.readthedocs.io/en/stable/user_install.html\n",
      "  from .autonotebook import tqdm as notebook_tqdm\n",
      "25/05/05 22:45:47 WARN GarbageCollectionMetrics: To enable non-built-in garbage collector(s) List(G1 Concurrent GC), users should configure it(them) to spark.eventLog.gcMetrics.youngGenerationGarbageCollectors or spark.eventLog.gcMetrics.oldGenerationGarbageCollectors\n",
      "                                                                                "
     ]
    },
    {
     "data": {
      "text/plain": [
       "Row(event_time=datetime.datetime(2019, 10, 31, 17, 0), event_type='view', product_id=1003461, category_id=2053013555631882655, category_code='electronics.smartphone', brand='xiaomi', price=489.07, user_id=520088904, user_session='4d3b30da-a5e4-49df-b1a8-ba5943f1dd33')"
      ]
     },
     "execution_count": 3,
     "metadata": {},
     "output_type": "execute_result"
    }
   ],
   "source": [
    "import kagglehub\n",
    "from kagglehub import KaggleDatasetAdapter\n",
    "\n",
    "####\n",
    "#### Opcion 1 para conseguir datos\n",
    "#### Bajar el archivo de Kaggle\n",
    "####\n",
    "####\n",
    "file_path = \"/Users/pauescalante/Documents/Maestria/Trimestre 7/BigData/Datos\"\n",
    "df = spark.read.csv(file_path, header=True, inferSchema=True)\n",
    "# df de un subset de las columnas\n",
    "spark_df = df[['event_type', 'user_id', 'product_id', 'category_id', 'price']]\n",
    "\n",
    "####\n",
    "####\n",
    "\n",
    "####\n",
    "#### Opcion 2 para conseguir datos\n",
    "#### Bajar el archivo de Kaggle\n",
    "####\n",
    "####\n",
    "\n",
    "#file_path = \"2019-Nov.csv\"\n",
    "\n",
    "#df_pandas = kagglehub.load_dataset(\n",
    "#    KaggleDatasetAdapter.PANDAS,\n",
    "#    \"mkechinov/ecommerce-behavior-data-from-multi-category-store\",\n",
    "#    file_path\n",
    "#)\n",
    "\n",
    "#spark_df = spark.createDataFrame(\n",
    "#    df_pandas[['event_type', 'user_id', 'product_id', 'category_id', 'price']]\n",
    "#)\n",
    "\n",
    "####\n",
    "####\n",
    "\n",
    "df.head()"
   ]
  },
  {
   "cell_type": "code",
   "execution_count": 4,
   "id": "dfbdae4c-4fd2-4bb3-b4d4-0c3173b6253c",
   "metadata": {},
   "outputs": [
    {
     "name": "stdout",
     "output_type": "stream",
     "text": [
      "root\n",
      " |-- event_time: timestamp (nullable = true)\n",
      " |-- event_type: string (nullable = true)\n",
      " |-- product_id: integer (nullable = true)\n",
      " |-- category_id: long (nullable = true)\n",
      " |-- category_code: string (nullable = true)\n",
      " |-- brand: string (nullable = true)\n",
      " |-- price: double (nullable = true)\n",
      " |-- user_id: integer (nullable = true)\n",
      " |-- user_session: string (nullable = true)\n",
      "\n"
     ]
    }
   ],
   "source": [
    "df.printSchema()"
   ]
  },
  {
   "cell_type": "code",
   "execution_count": 5,
   "id": "b3117ac4-65ea-420e-97c5-830948bbf4ab",
   "metadata": {},
   "outputs": [
    {
     "name": "stderr",
     "output_type": "stream",
     "text": [
      "                                                                                "
     ]
    },
    {
     "name": "stdout",
     "output_type": "stream",
     "text": [
      "Columna 'category_code' tiene 35413780 valores null\n"
     ]
    },
    {
     "name": "stderr",
     "output_type": "stream",
     "text": [
      "                                                                                "
     ]
    },
    {
     "name": "stdout",
     "output_type": "stream",
     "text": [
      "Columna 'brand' tiene 15331243 valores null\n"
     ]
    },
    {
     "name": "stderr",
     "output_type": "stream",
     "text": [
      "[Stage 27:=====================================================>(108 + 2) / 110]"
     ]
    },
    {
     "name": "stdout",
     "output_type": "stream",
     "text": [
      "Columna 'user_session' tiene 12 valores null\n"
     ]
    },
    {
     "name": "stderr",
     "output_type": "stream",
     "text": [
      "                                                                                "
     ]
    }
   ],
   "source": [
    "for column in df.columns:\n",
    "    count = df.filter(col(column).isNull()).count()\n",
    "    if count > 0:\n",
    "        print(f\"Columna '{column}' tiene {count} valores null\")"
   ]
  },
  {
   "cell_type": "code",
   "execution_count": 6,
   "id": "3fb4c068-d382-4eeb-8775-db1b6fe5903b",
   "metadata": {},
   "outputs": [
    {
     "name": "stderr",
     "output_type": "stream",
     "text": [
      "                                                                                "
     ]
    },
    {
     "name": "stdout",
     "output_type": "stream",
     "text": [
      "Non-null values in 'brand': 94619500\n"
     ]
    },
    {
     "name": "stderr",
     "output_type": "stream",
     "text": [
      "[Stage 33:=====================================================>(108 + 2) / 110]"
     ]
    },
    {
     "name": "stdout",
     "output_type": "stream",
     "text": [
      "Non-null values in 'brand': 74536963\n"
     ]
    },
    {
     "name": "stderr",
     "output_type": "stream",
     "text": [
      "                                                                                "
     ]
    }
   ],
   "source": [
    "# Verificando que existen valores non-null en las columnas\n",
    "non_null_count = df.filter(col(\"brand\").isNotNull()).count()\n",
    "print(f\"Non-null values in 'brand': {non_null_count}\")\n",
    "\n",
    "non_null_count = df.filter(col(\"category_code\").isNotNull()).count()\n",
    "print(f\"Non-null values in 'brand': {non_null_count}\")"
   ]
  },
  {
   "cell_type": "code",
   "execution_count": 7,
   "id": "bdcad828-79bc-4f9c-b418-b60a0373583d",
   "metadata": {},
   "outputs": [
    {
     "name": "stderr",
     "output_type": "stream",
     "text": [
      "                                                                                "
     ]
    },
    {
     "name": "stdout",
     "output_type": "stream",
     "text": [
      "Columna 'event_time' no tiene valores null\n"
     ]
    },
    {
     "name": "stderr",
     "output_type": "stream",
     "text": [
      "                                                                                "
     ]
    },
    {
     "name": "stdout",
     "output_type": "stream",
     "text": [
      "Columna 'event_type' no tiene valores null\n"
     ]
    },
    {
     "name": "stderr",
     "output_type": "stream",
     "text": [
      "                                                                                "
     ]
    },
    {
     "name": "stdout",
     "output_type": "stream",
     "text": [
      "Columna 'product_id' no tiene valores null\n"
     ]
    },
    {
     "name": "stderr",
     "output_type": "stream",
     "text": [
      "                                                                                "
     ]
    },
    {
     "name": "stdout",
     "output_type": "stream",
     "text": [
      "Columna 'category_id' no tiene valores null\n",
      "Columna 'category_code' no tiene valores null\n",
      "Columna 'brand' no tiene valores null\n"
     ]
    },
    {
     "name": "stderr",
     "output_type": "stream",
     "text": [
      "                                                                                "
     ]
    },
    {
     "name": "stdout",
     "output_type": "stream",
     "text": [
      "Columna 'price' no tiene valores null\n"
     ]
    },
    {
     "name": "stderr",
     "output_type": "stream",
     "text": [
      "                                                                                "
     ]
    },
    {
     "name": "stdout",
     "output_type": "stream",
     "text": [
      "Columna 'user_id' no tiene valores null\n"
     ]
    },
    {
     "name": "stderr",
     "output_type": "stream",
     "text": [
      "[Stage 58:=====================================================>(109 + 1) / 110]"
     ]
    },
    {
     "name": "stdout",
     "output_type": "stream",
     "text": [
      "Columna 'user_session' no tiene valores null\n"
     ]
    },
    {
     "name": "stderr",
     "output_type": "stream",
     "text": [
      "                                                                                "
     ]
    }
   ],
   "source": [
    "# Dado que category_code y brand tienen muchos valores nulos, se van a convertir esos valores a None para tener algo asignado\n",
    "# Se pueden eliminar en el futuro si tenemos suficientes datos...\n",
    "df = df.fillna({\"brand\": \"None\"})\n",
    "df = df.fillna({\"category_code\": \"None\"})\n",
    "\n",
    "# Para user_session ya que el numero es muy pequeño, solamente se quitaran las entries con esos valores nulos\n",
    "df = df.na.drop(subset=[\"user_session\"])\n",
    "\n",
    "# Verificar los cambios al df\n",
    "for column in df.columns:\n",
    "    count = df.filter(col(column).isNull()).count()\n",
    "    if count > 0:\n",
    "        print(f\"Columna '{column}' tiene {count} valores null\")\n",
    "    else:\n",
    "        print(f\"Columna '{column}' no tiene valores null\")"
   ]
  },
  {
   "cell_type": "code",
   "execution_count": 8,
   "id": "45e60365-2a8f-424d-a8ef-95f8c810f2b5",
   "metadata": {},
   "outputs": [
    {
     "name": "stderr",
     "output_type": "stream",
     "text": [
      "                                                                                "
     ]
    },
    {
     "name": "stdout",
     "output_type": "stream",
     "text": [
      "Non-null values in 'brand': 109950731\n"
     ]
    },
    {
     "name": "stderr",
     "output_type": "stream",
     "text": [
      "[Stage 64:=====================================================>(109 + 1) / 110]"
     ]
    },
    {
     "name": "stdout",
     "output_type": "stream",
     "text": [
      "Non-null values in 'brand': 109950731\n"
     ]
    },
    {
     "name": "stderr",
     "output_type": "stream",
     "text": [
      "                                                                                "
     ]
    }
   ],
   "source": [
    "# Verificando que existen valores non-null en las columnas\n",
    "non_null_count = df.filter(col(\"brand\").isNotNull()).count()\n",
    "print(f\"Non-null values in 'brand': {non_null_count}\")\n",
    "\n",
    "non_null_count = df.filter(col(\"category_code\").isNotNull()).count()\n",
    "print(f\"Non-null values in 'brand': {non_null_count}\")"
   ]
  },
  {
   "cell_type": "code",
   "execution_count": 9,
   "id": "9ea8ce8a-c42d-4803-b179-a45ac8f62b6e",
   "metadata": {},
   "outputs": [
    {
     "name": "stderr",
     "output_type": "stream",
     "text": [
      "[Stage 117:===========================================>           (18 + 5) / 23]"
     ]
    },
    {
     "name": "stdout",
     "output_type": "stream",
     "text": [
      "\n",
      "Column: 'event_time' — 5171097 valores distintos\n",
      "--------------------------------------------------\n",
      "\n",
      "Column: 'event_type' — 3 valores distintos\n",
      "--------------------------------------------------\n",
      "\n",
      "Column: 'product_id' — 206876 valores distintos\n",
      "--------------------------------------------------\n",
      "\n",
      "Column: 'category_id' — 691 valores distintos\n",
      "--------------------------------------------------\n",
      "\n",
      "Column: 'category_code' — 130 valores distintos\n",
      "--------------------------------------------------\n",
      "\n",
      "Column: 'brand' — 4304 valores distintos\n",
      "--------------------------------------------------\n",
      "\n",
      "Column: 'price' — 82966 valores distintos\n",
      "--------------------------------------------------\n",
      "\n",
      "Column: 'user_id' — 5316649 valores distintos\n",
      "--------------------------------------------------\n",
      "\n",
      "Column: 'user_session' — 23016650 valores distintos\n",
      "--------------------------------------------------\n",
      "\n"
     ]
    },
    {
     "name": "stderr",
     "output_type": "stream",
     "text": [
      "                                                                                "
     ]
    }
   ],
   "source": [
    "output = \"\"\n",
    "for column in df.columns:\n",
    "    # Cuantos valores existen\n",
    "    distinct_count = df.select(column).distinct().count()\n",
    "    \n",
    "    output += f\"\\nColumn: '{column}' — {distinct_count} valores distintos\\n\"\n",
    "    output += \"-\" * 50 + \"\\n\"\n",
    "\n",
    "print(output)"
   ]
  },
  {
   "cell_type": "code",
   "execution_count": 10,
   "id": "b6cb1ee1-a10e-41bb-a681-963c76438245",
   "metadata": {},
   "outputs": [
    {
     "name": "stdout",
     "output_type": "stream",
     "text": [
      "+-------------------+\n",
      "|event_time         |\n",
      "+-------------------+\n",
      "|2019-10-31 17:00:00|\n",
      "|2019-10-31 17:00:00|\n",
      "|2019-10-31 17:00:01|\n",
      "+-------------------+\n",
      "only showing top 3 rows\n",
      "\n"
     ]
    }
   ],
   "source": [
    "# Ya que event_time tiene muchos valores distintos y no ocupamos tanto detalle, podemos cambiar event_time a ser solamente, YYYY/MM/DD\n",
    "df.select(\"event_time\").show(3, truncate=False)"
   ]
  },
  {
   "cell_type": "code",
   "execution_count": 11,
   "id": "8dbe3859-bf8a-42fd-9b2c-51420a4ad4f4",
   "metadata": {},
   "outputs": [
    {
     "name": "stdout",
     "output_type": "stream",
     "text": [
      "+----------+\n",
      "|event_time|\n",
      "+----------+\n",
      "|2019-10-31|\n",
      "|2019-10-31|\n",
      "|2019-10-31|\n",
      "+----------+\n",
      "only showing top 3 rows\n",
      "\n"
     ]
    }
   ],
   "source": [
    "df = df.withColumn(\"event_time\", to_date(\"event_time\"))\n",
    "df.select(\"event_time\").show(3, truncate=False)"
   ]
  },
  {
   "cell_type": "code",
   "execution_count": 12,
   "id": "bc0b47be-680b-4a3a-a5a7-aec375c448aa",
   "metadata": {},
   "outputs": [
    {
     "name": "stderr",
     "output_type": "stream",
     "text": [
      "[Stage 123:====================================================>(109 + 1) / 110]"
     ]
    },
    {
     "name": "stdout",
     "output_type": "stream",
     "text": [
      "\n",
      "Column: 'event_time' — 62 valores distintos\n",
      "--------------------------------------------------\n",
      "\n"
     ]
    },
    {
     "name": "stderr",
     "output_type": "stream",
     "text": [
      "                                                                                "
     ]
    }
   ],
   "source": [
    "distinct_count = df.select(\"event_time\").distinct().count() \n",
    "output = f\"\\nColumn: '{'event_time'}' — {distinct_count} valores distintos\\n\"\n",
    "output += \"-\" * 50 + \"\\n\"\n",
    "print(output)"
   ]
  },
  {
   "cell_type": "code",
   "execution_count": 13,
   "id": "87cb7da2-83a5-4f08-a52f-09e3157eea6f",
   "metadata": {},
   "outputs": [
    {
     "name": "stderr",
     "output_type": "stream",
     "text": [
      "[Stage 161:====================================================>(109 + 1) / 110]"
     ]
    },
    {
     "name": "stdout",
     "output_type": "stream",
     "text": [
      "\n",
      "Columna: 'event_time' — 62 valores únicos\n",
      "--------------------------------------------------\n",
      "2019-09-30, 2019-10-01, 2019-10-02, 2019-10-03, 2019-10-04, 2019-10-05, 2019-10-06, 2019-10-07, 2019-10-08, 2019-10-09, 2019-10-10, 2019-10-11, 2019-10-12, 2019-10-13, 2019-10-14, 2019-10-15, 2019-10-16, 2019-10-17, 2019-10-18, 2019-10-19, 2019-10-20, 2019-10-21, 2019-10-22, 2019-10-23, 2019-10-24, 2019-10-25, 2019-10-26, 2019-10-27, 2019-10-28, 2019-10-29, 2019-10-30, 2019-10-31, 2019-11-01, 2019-11-02, 2019-11-03, 2019-11-04, 2019-11-05, 2019-11-06, 2019-11-07, 2019-11-08, 2019-11-09, 2019-11-10, 2019-11-11, 2019-11-12, 2019-11-13, 2019-11-14, 2019-11-15, 2019-11-16, 2019-11-17, 2019-11-18, 2019-11-19, 2019-11-20, 2019-11-21, 2019-11-22, 2019-11-23, 2019-11-24, 2019-11-25, 2019-11-26, 2019-11-27, 2019-11-28, 2019-11-29, 2019-11-30\n",
      "\n",
      "Columna: 'event_type' — 3 valores únicos\n",
      "--------------------------------------------------\n",
      "cart, purchase, view\n",
      "\n",
      "Columna: 'brand' — 4304 valores únicos\n",
      "--------------------------------------------------\n",
      "None, a-case, a-derma, a-elita, a-mega, aardwolf, abk, abris, absolutechampion, abtoys, academie, accord, accumaster, acd, acebeam, acer, aces, achilles, acm, acme, acorp, acqua, acron, action, actiontrack, activision, acuvue, acv, acvilagrup, adagio, adam, adamas, adamex, adata, addlink, adel, adelline, adidas, adil, adile, admarginem, admira, adriatica, adrilux, advan, aeg, aeolus, aero, aerocool, aeroforce, aerolajf, aerosystem, afnan, afox, ag, agatharuizdelaprada, agl, agness, agrimotor, agu, aiken, aiko, aileron, aimile, aimoto, air-cool, airline, airmax, airwheel, aist, aivengo, ajmal, akai, akara, akel, akg, akom, akor, akpo, akro, aksion, akva, akvafor, akvalinia, akvarel, akvaton, al-ko, aladen, alaia, alaskaoriginale, alavann, albertocasiano, alca, alcasta, alcon, alctron, aldit, alerana, alesis, aletant, aleteja, alex, alexandermcqueen, alexandre.j, alexika, alexrojo, alfa, algotherm, alilo, alinapaint, alinex, alis, alissabeaute, alita, alkor, alligator, allocacoc, allvega, almacom, almada, almaks, almaty, alondra, alphaline, alphard, alpicool, alpika, alpina, alpinapabliser, alpine, alser, altacto, altair, alteco, altenzo, alterna, altinbasak, alumet, alutec, alvarez, alvitek, am-pm, am.pm, amalbooks, amarobaby, amatis, amazon, ambition, amd, amefa, amen, amercook, americancrew, americanmotionfitness, amet, amf, amico, amigami, amistar, amos, amouage, ampeg, ampm, ams, amtel, anahickmann, and, andeks, andrea, andrewfuchs, andromeda, anesi, anex, annaanna, annaite, annovireverberi, anon, anreks, anskin, ansmann, ant, anta, antares, antec, antika, antoniolavazza, anytek, aoc, aoki, aolais, aorus, aoteli, apacer, apache, apart, apc, apcbyschneiderelectric, apex, aplus, apollo, apple, appollo, apriori, aqua, aquafruit, aqualife, aquamarine, aquanet, aquapick, aquarelle, aquatic, aquaton, aquaverso, aquavis, aquilon, ara, arai, arba, arcancilparis, arcodoro, ardahali, ardell, ardesia, ardo, ardoni, arena, areol, arg, aria, ariete, ariston, ark, arkadia, arktika, armada, armandbasi, armani, armos, arms, armytek, arnica, arno, arpenaz, arrivo, arsi, arstisa, art-visage, artel, arteolfatto, artiny, artmusical, artplays, artspace, arturia, artvisage, artway, arua, aruna, arwanan, asb, ascoli, asel, ashleyfurniture, asics, asil, askona, asm, asmrelaks, asrock, ast, astana, aston, astrid, asus, asustor, asx, atelier, ateliero, aten, atkinsons, atlant, atlantic, atlas, atmosphera, atoll, atomic, aton, atrai, ats, attikus, attribute, audac, audio-technica, audiotop, audison, aufine, augustinwelz, aula, auldey, auratic, aurora, ausini, author, autojet, autoline, autolite, autopower, autoprofi, autovirazh, aux, ava, avalon, avaloncarpet, avanta, avatar, avatyre, avel, avene, avengers, avermedia, avina, avis, avizor, avrora, avrorateksdizajn, avs, avtotent, awei, axis, axper, azbuka, azbuka-attikus, azbukvarik, azzaro, b-kids, babolat, baboo, babor, baby, babybotte, babycare, babycarrier, babygo, babyhit, babykiss, babyliss, babylisspro, babylock, babymoov, babyono, babys, babysinq, babyswing, babytime, babywood, babyzen, babyzz, badboy, baden, badlandgames, bafang, bagdanoviceskijfarforyvyjzavod, baige, bair, bakugan, baldessarini, balenciaga, ballarini, ballist-x, ballistix, ballu, balmain, balta, baltekstil, balterio, bambi, bambini, bambola, bamboo, banbao, bandai, bandainamco, banquet, baratto, barbie, bardahl, barer, barettoni, barhatnyjsezon, barneo, barokko, baroque, barretoni, bars, bartek, bartplast, barty, barum, basaran, baseus, basf, basharan, basic, basik, basilico, batik, batiste, batman, battat, battipav, baudet, bauer, bayer, bayerdolls, bayerlux, baymak, bazhou, bbk, bburago, bd, beaba, beanzeez, beats, beautycreations, beautyvisage, becker, beeline, behringer, beijing, beisier, beko, bekzatsport, bel, bela, belaakalitva, belashoff, belavtokomplekt, belcat, belecoo, belgia, belis, beliss, belka, belkin, bellamebel, belletti, belux, belyjedinorog, bene, benebaby, benq, bentley, berber, bergamo, bergauf, berger, berghoff, bergner, berkley, berkut, berlingerhaus, bernina, berossi, bertoni, beru, besafe, bessey, best, bestlife, bestoy, bestway, besty, bethesda, betsy, beurer, beyblade, beyerdynamic, beyonce, beyond, bfgoodrich, bfsnowboards, bfz, bibalina, bielita, biema, biemmedue, big, bigben, bigdream, bigklever, billi, binatone, bio-oil, bio-tekstil, bioderma, biography, biol, biolage, biolane, bioline, biomecanics, bionime, biostar, biotech, biotherm, biovea, bioworld, birusa, bisou, bissell, biwec, bkf, blackberry, blackbox, blackdecker, blackmores, blackvue, blam, blanco, blaster, blauberg, blaumann, blaupunkt, blenderbottle, blg, bloomsbury, bluedio, blueseven, bluesonic, blumarine, blw, bmw, boarteks, boccia, bochetti, body-solid, bodykraft, bodysculpture, bodysolid, bogates, bohemia, bohemian, bohmann, bomann, bombbar, bombcat, bomberg, bombora, bompani, bona, bond, bondibon, boneco, bonita, bonvini, booil, borasco, bork, borovici, bosch, bose, bosher, bosnic, boss, bossh, bot, botanica, botas, boto, botticelli, boucheron, bouncin, bourjois, bovidix, boyscout, bozhi, bq, bra, bradex, brahner, brain, brateck, brauberg, braumauto, braun, bravat, bravis, bravo, breezeboat, bresser, brevi, bridgestone, brisk, brita, britneyspears, britop, briverre, brizoll, brkpress, bro, broomer, brother, bruder, brumer, brw, bsa-wheels, bsn, bts, btwin, bubble, buderus, budibasa, bueno, buffalo, bugaboo, bugati, bugatti, buggy, build-a-bear, buldors, bulgari, bulin, bulova, bumbleride, bunchems, burberry, burgerschuhe, burton, bushnell, butterfly, buttonblue, bvlgari, bwell, bws, bwt, bxg, byintek, bykilian, byredo, cablexpert, cacharel, cadelvetro, cadillac, cafemimi, cailyn, caiman, calgaro, callida, calligrata, calorie, calve, calvinklein, calypso, cam, camelion, cameo, cameron, campinggaz, camptown, camshel, camso, can-am, canam, candide, candy, candylocks, cannondale, canon, canton, cantra, canwood, canyon, capanni, capcom, capella, capline, caprice, caramelia, caravanmusic, caraya, carcam, cardrox, carfashion, carhome, carino, carlsbad, carlsbro, carmani, carmex, carpet, carpisa, carrera, cars, carters, cartier, carver, carwel, casada, casamorati, casato, caseconforte, casela, casio, casper, casta, castelgarden, castorland, castrol, cata, catimini, catrice, catunltd, cavaletto, cavanova, cayee, cayin, ccm, cd, ceinio, celebrat, celestron, celine, cellarprivate, cellio, cellucor, cempioneria, cenmax, centara, centek, centrpoligraf, centrpravilnogosna, centurion, cepeckaamf, ceresit, ceriotti, cerruti, cersanit, certina, cettua, cezaris, chairman, chameleon, champion, chanel, changerobot, changhong, chaod, char-broil, chariots, chayka, checkin, chenri, chic, chicco, chieftec, chigo, childhome, chilok, chilokbo, ching-ching, chingching, chloe, chomik, chopard, christina, chub, chuckfriends, chuggington, ciaobimbi, cifyurm, cilek, cinemood, circle, citilux, citizen, citycolor, cityrover, cityup, clanfrancoferre, clarion, classen, clasy, clatronic, claudebernard, claudedozorme, clevan, clever, clevercompany, cliff, climadiff, clinch, cmi, cmt, cnd, coballe, cobat, cobi, cobra, coccinelle, cocochoco, cocoonababy, codemasters, coghlans, coleman, colgate, collagen, collistar, coloma, colombo, colorfix, colorful, colorway, colourpop, columbia, comfee, comforser, comfort, comfortzone, comma, compasal, compliment, complimenti, concept, conceptclub, condor, condtrol, confetti, constancy, constantdelight, conte, continent, continental, converse, coolermaster, coolfort, coolmaker, coolmaster, cooperhunter, coopervision, cordiant, cornerstone, corps, corpus, corsair, cort, cortland, cosrx, coty, cougar, courvoisier, covani, cover, cow, cowon, cralusso, crane, crea, creative, creature, creavit, creed, creo, creoceramique, crescina, cressi, crest, crisa, crockid, crome, crona, cronos, crosby, crossstreet, crowdgames, crown, crucial, crunch, crusader, crybabies, crystal, crystallux, csmedica, cube, cubicfun, cullmann, cvgaudio, cybermass, cyberpower, cybex, d-clinic, d-link, dab, dabo, daesung, daewoo, daewooelectronics, dagee, dahatsu, dahon, dahua, daisy, daiwa, daiwerina, dalianhantaitradecoltd, dam, damask, damixa, damper, danau, daneildesch, daniel, danielklein, danke, dankotoys, dardav, darina, dariush, dasch, dauscher, davidoff, davinci, davita, daye, dayun, dbpower, dcshoes, dds, dearest, decocode, decora, decoroom, deepcool, deeper, deerma, deestone, defalucy, defender, defredesign, dekok, delimano, delkor, dell, della, delma, delmax, delonghi, delsey, delsot, delta, delune, delux, deluxe, demark, demi, demiray, dendy, denn, denon, denso, denzel, deoproce, deppa, derevaski, dermacol, derspur, desatoekorolevstvo, desertykrasoty, desigual, destra, deta, detomaso, deton, deuter, devar, devente, deviser, devos, dewalt, dexp, dfc, dfz, diamant, diamond, diamondunion, dickie, dickietoys, didistyle, diesel, digifriends, dilis, dinamical, dinastia, dion, dior, diptyque, dirkje, dirkjebabywear, disney, dispho, dita, ditreex, divalux, divoom, dizel, dji, dk, dkny, dla, dlaudio, dls, dmichael, dobraakniga, dobroparov, dobrusskijfarforovyjzavod, dodo, doff, dogrular, dolcegabbana, dolcevita, doliva, domani-spa, domasnijocag, domcraft, domenik, dometic, domika, dominant-print, domini, domyos, dongma, doogee, doohan, doona, dopdrops, dormeo, dotemu, doubleeagle, doublefish, doui, doupro, dowontec, dox, dr.hoffman, dr.jart, dragon-i, dragonfly, dreammachines, dreamwave, dreja, dremel, drfrei, drgans, drhedison, drjart, drop, drsea, dsk, dsland, dsp, dsppa, dsquared, dub, ducray, duir, dulevskijfarfor, dunavox, dune, dunhill, dunlop, dunu, dunya, duo, durun, dvin, dvizenie, dwt, dxracer, dyflon, dymatize, dynacord, dynafit, dynamic, dynastar, dyson, e-blue, e-twow, ea, easycamp, easylink, easywalker, eaton, ecler, eco, ecocool, ecocraft, ecolab, ecolaboratorie, ecolaboratory, ecolight, ecologystone, ecosoft, ecoterm, ecotex, ecs, edcon, edelform, edelman, edelvejs, edem, eden, edge, edifier, edon, edox, educa, educo, edufun, efp, efremov, eger, egg, egger, egp, egreat, ehome, eichorn, einhell, ekel, ekobike, ekolit, ekonomia, eksmo, elamina, elan, elari, elaud, elbasco, elco, electro-voice, electrolux, electronicarts, electronicsdeluxe, elegant, elektrostandard, element, elenberg, elf, elica, eliesaab, elikor, elite, elitebohemia, elitech, elizavecca, elkitorg, elleci, elna, eltempo, eltex, eltreco, elvin, elysium, emal, embawood, embryolisse, emco, emer, emiliopucci, emily, emporioarmani, emsa, enchantimals, eneos, energenie, energizer, energolux, energy, energybodysystems, energysistem, enermax, engenius, engy, enkei, enkor, enlightenbrick, enough, envision, enya, eolaboratorie, eos, epicgear, epiphone, epnew, epr, epson, era, erbis, erdenet, ergo, ergolux, erichkrause, erismann, erisson, erkaplan, erlit, ermila, ersport, esab, escada, escan, eskar, esko, espiro, esse, essence, estap, estel, esthetichouse, estomoda, estrade, esun, etalon, etaltech, etor, etro, eurogold, eurol, eurolight, eurolux, europrint, eurostek, eurosvet, eurotrading, evamosaic, eveline, evelinecosmetics, evenflo, everflo, everlast, evga, evgo, eviza, evo, evrika, evriki, evrodetal, ewa, ewt, exclusive, exide, exnihilo, exogini, exost, expoprint, expression, expromt, ezetil, f-power, f-promo, faans, faber, fabretti, fabrikakarteks, fabrikakomiksov, face, fagor, fais, falken, falmec, fame, family, fancy, fanline, fant-mebel, fantasia, fantom-press, fanzon, farcar, farmavita, farmstay, faro, farroad, fassen, favourite, fea, febest, federal, feile, felisatti, fender, fendi, fengnix, fenix, feron, ferrari, ferre, ferrino, festina, festool, fibos, fidan, fiesta, fiio, fila, filly, finezza, finish, fipar, fireball, firepower, firestone, firman, first, fischer, fisher, fisher-price, fisherman, fisherprice, fissler, fissman, fit, fit-rx, fitbit, fitchbaby, fitlux, fitnessbody, fitnex, fitokosmetik, fitrider, fitwell, five, fivestars, fixsen, fizan, flama, flambeau, flashpoint, flavia, fleet, flex, flexter, fli, flicker, flight, floralis, florentina, floresan, flormar, flushforce, fly, focal, focushomeinteractive, foligain, fondital, force, forcekraft, ford, forlux, forminabanyo, formulazdorova, fornelli, fornite, forsage, fortnite, forward, foryou, forza, fossil, fostex, fotomate, fotorama, fox, foxconn, foxx, fracescodonni, fractaldesign, framesi, francescodonni, franckolivier, franke, freedom, freefeet, freeway, fresh, freshfruit, freya, frozen, fsd, fubag, fuel, fujida, fujifilm, funnyfood, funred, funville, furreal, futura, g-cube, g-stone, g.skill, ga-de, gabolparadise, gabor, gabriella, gaga, gaint, gainward, gaissina, galacticos, galanz, galaxy, gamdias, gamemax, gamerstorm, gamma, gammapiu, garage, garant, garanterm, gardena, garmin, garnier, garrett, garvalin, gaspari, gauss, gazpromneft, gedore, gefest, gehwol, geil, geitaran, gelflex, gembird, gemei, gemsy, genau, genebre, genesis, geneticlab, geneticlabnutrition, genius, genki, genlog, genny, gentrycup, geoffanderson, gerat, gerber, gerbor, gerdamix, gerkulesgames, geroivmaskah, gesso, gewa, gezatone, gf, ghnfitness, giant, gigabyte, gigawatt, gigazone, gimi, ginzza, gionee, giorgioarmani, giornonotte, gioseppo, gipfel, gislaved, giti, gitzo, givenchy, gk, gkhair, gladen, gladiator, glam-forever, glamglow, glamvers, glanzen, glasman, glimmeies, glimmies, global, globalkeratin, globaltoys, globber, globex, globo, glory, gmslivgidromasao, gnu, go-sport, goalzero, goform, goldenrose, golf, goliath, gomeldrev, gonher, goo.n, goodbaby, goodgrill, goodloot, goodram, goodride, goodyear, google, goon, gopro, gorenje, gorizont, gornica, gosh, gourmet, gr, gracecole, graco, graf, graff, graffiti, graffitisound, grafit, gran-stone, granchio, grand, grandmanar, grandstil, grandvictory, granfest, granhel, granicom, grape, graphite, graphiteleader, grattant, gree, greenbike, greenland, greenpan, greenpro, greentek, greentree, greentrees, greenway, greenworks, greta, gretsch, greyder, greys, grifon, grillver, grinda, gripmax, grizzly, grohe, gross, groundzero, grow-with-me, grownup, gs, gskill, gssolid, gt, gtrwheel, guangwei, gucci, guerisson, guerlain, guess, guliver, gulliver, gutrend, guzzini, gys, habilead, hachette, hada, hadaa, haday, haeger, haida, haier, hairdorables, haken, halei, halmar, hama, hamilton, hammer, handwers, hangover, hangzhoujindingimportexportcoltd, hankook, hanlu, hanma, hanowa, hansa, hap-p-kid, harley-davidson, harleybaby, harmankardon, haro, harp, harper, harpercollins, hartan, harte, hartung, hasbro, hatchimals, hauck, haushalt, hausmann, havit, hayabusa, hayali, hayejin, hb, head, headrush, hebeigrindingwheelfactory, hec, heco, heidelbergcement, heinola, heinz, helfer, helios, helix, hellion, hellomaggie, helpfer, helstons, helvetia, helvi, henglei, hera, hercules, herman, hermes, hertz, heyner, hgst, hibertek, hifiman, hifly, higashi, hightechway, hikma, hilo, hilti, himalaya, himalayaherbals, hintek, hiper, hipp, his, hisar, hisense, hitachi, hitechnic, hjc, hlebsol, hobbyworld, hobot, hoco, hohner, hoka, hola, holatoys, holder, holicy, holiday, holikaholika, hollicy, homage, homeart, homeelement, homelife, homs, homy, honda, honhongvictorygroupltd, honor, hoover, hori, horizont, hotmom, hotner, hotpoint-ariston, hottek, hotwheels, housefit, household, houseofseasons, hp, hpe, hq, hr, hre, htc, htl, htw, huanger, huawang, huawei, hubeiindustrialaimiletrading, hubert, hubsan, huggies, hugoboss, huile, huion, humana, humidifier, hummer, humminbird, hunter, huntkey, huntsman, huochu, hurakan, hurom, husky, husqvarna, huter, hycell, hygge, hynix, hyper, hyperx, hyundai, i-baby, i-velo, ibaby, ibanez, ibili, ibiscus, ibox, iconbit, id-cooling, iddis, ideal, idealspaten, idillia, idrobase, iek, ifree, iiyama, ikea, ikkm, ilash, ildi, ilife, illumico, imattress, imax, imctoys, imenza, imetec, imperia, imperial, impex, imtoy, imx, incanto, incar, incase, indesit, indiana, indigo, individuum, individuumpablising, infinity, infinitynado, inflame, info, ingersoll, inglesina, inhouse, initioparfumsprives, inkax, inmotion, innisfree, inoi, inostranka, inseense, insight, insinse, inspector, inspiwood, instyle, inswim, intego, intel, inteli, inter, interbaget, interlink, internedoors, interojo, interos, interskol, intex, intro, invader, invisible, invotone, inwin, iope, ipipoo, iplay, ipower, iqmarketing, irbis, irest, irit, iriver, irobot, ismart, isntree, istarikomiks, italtrike, itc, iunik, ivaru, ivc, ivt, ivy, iwalk, izdatelskijdommeserakova, izdatelstvoivanalimbaha, jabra, jack, jackson, jacobdelafon, jacqueslemans, jade, jaguar, jakkspacific, jamo, janesper, janome, jarko, jasic, jasmine, jata, jawbone, jazwares, jb, jbl, jeep, jeepwrangler, jellyfishjam, jeneca, jet, jetair, jetem, jetpik, jeunepremier, jiada, jiaxingharleybabycar, jigott, jika, jimcarrey, jimmychoo, jinga, jinjianfeng, jinma, jinyu, jinyuan, jio, jiuling, jjrc, jkexer, joby, jocelyn, jockey, joe, joerex, johnnytheskull, johnvarvatos, joie, joieanglia, joker, joko, jomalone, jonnesway, joonies, jordan, josephjoseph, joyor, joyroad, joyroom, jrc, jsq, juanna, juki, julbo, julong, jumper, junama, junglefieldtroop, junte, jupiter, jura, juteks, juventa, jvc, k-lite, k-power, k-star, k.k.y., kabrita, kacper, kaemingk, kaemingkbv, kafekrasoty, kaier, kaierda, kainar, kaisavilla, kaiser, kajsa, kakadu, kala, kale, kaledomino, kalenji, kaleos, kalibr, kambrook, kampfer, kamskaaposuda, kangkang, kapika, kaplanser, kapous, kapousprofessional, kapsen, karadium, karaja, karapuz, karat, karavaevskaauf, karcher, kari, karma, karmen, kartal, karya, kastamonu, kativa, katun, kawai, kawasaki, kayser, keddo, keenetic, keenway, keeway, kef, kehan, kelet, kelli, kelly, ken, kenda, keneksi, kenwood, kenzo, keramin, kerastase, kerasys, kessler, keter, kettler, keumkang, keune, kgc, khancomics, khw, kia, kicker, kicx, kiddieart, kiddy, kidkraft, kidwood, kidzconcept, kiepe, kinder, kineticsand, king, kingmax, kingmeda, kingroy, kingrun, kingslong, kingsong, kingstar, kingston, kingtony, kingtul, kink, kinklight, kinlee, kipardo, kipocket, kipor, kipsta, kirkland, kirovit, kirovskaakeramika, kisswill, kitchenaid, kite, kitfort, kiturami, kivi, kk, kladez, klavuu, kleancolor, klever, klima, klorane, klx, klymit, kmk, knauf, kodak, kodi, koelf, koffer, kogaz, kohala, kokiri, kolibri, kolner, kolo, kolpasan, komfederacia, komfort-s, komilfo, kompasgid, kompasgidid, kona, konami, konig, konlega, konoos, konov, kontinent, koopman, kora, korda, korg, korin, kormoran, korpus, korting, kosadaka, kose, kosmos, koss, kovea, kovi, kovroff, kpt, kraftform, kraftool, kramer, kranzle, krasatoys, krasnaaglina, krasnaapresna, kraton, krause, kress, kristal, krk, kroft, kromax, kron, kronasteel, kronopol, kronospan, kronostar, kronwerk, kroskaa, kroskindom, krosno, krups, kskids, kstar, kubanfarfor, kuchendorf, kudu, kugoo, kuhar, kukmara, kumano, kumanodeve, kumho, kumtel, kunlun, kupajsaiigraj, kuppersberg, kuppersbusch, kupu-kupu, kuqidai, kursiv, kurzweil, kuttenkeuler, kx, kyocera, la-di-da, labiotte, labirint, labo, laboratoriaznanij, lacoste, lada, ladida, lador, lagirl, lahn, lakme, lalaloopsy, lalique, lamarkahome, lamart, lamborghini, lamel, lamelprofessional, lanard, lancaster, lancome, landsail, laneige, lange, lanikai, lanvigator, lanvin, lapkin, lapocka, larktale, laroche-posay, larocheposay, laromano, larsen, lashologist, lassa, laston, laudio, laufen, laurastar, lauravalarosa, lauravalorosa, lava, lazso, lbl, lcf, leadbros, leader, leaderkids, leagoo, lealelo, leatherman, leco, leeco, leefitness, leem, lefard, legeartis, legkiesny, lego, legrand, legre, leica, leicos, leicos-leiya, leicosleiya, leiya, lel, lele, lem, lemaks, lemark, lenizdat, lenovo, lenso, lenta, leo, leonbergo, leone, lepota, lesozavod, lessar, levante, leven, levenhuk, levrana, lexand, lexmark, lezard, lg, libbey, libero, liberty, libtech, lider, lidonet, liebert, liebherr, lifedeco, lifegear, lifetrons, light, lihom, likato, likatoprofessional, likebook, lilwoodzeez, lina, lindsay, line, lingua, lioele, lion, lipsmacker, liquimoly, lirene, listvig, lite-on, littlestpetshop, liujo, liv, livdelano, livebook, livnynasos, llarri, llocker, llorens, loctek, logitech, logona, logosfera, lol, lolsurprise, lom, lombok, londa, lonex, longines, longstyle, longway, lord, loreal, lorealparis, lorelli, lorelli-bertoni, lorellibolgaria, lori, lorus, lostkitties, lotos, louiserard, lovecoil, lovular, ls, ltd, luazon, luazonlighting, lubereckiekovry, lubimyjdom, lucalighting, lucente, lucentesilver, luciasvetlaa, lujun, lukojl, lumene, luminarc, lumion, lumme, luna, lunecase, lunkerhunt, luris, lutian, lux, lux-tools, luxell, luxking, luxuryconcept, luxvisage, lykan, lysvenskieemali, m-audio, m-wave, maak, maakavto, machaon, machete, machineboy, mackie, maclaren, maclay, mad, madamecoco, madcat, madguy, madina, maestro, magaudio, magellan, magformers, magic, magicbeartoys, magictrack, magkijson, magma, magnat, magnetta, magniflex, magnitoj, mahaon, maidou, maisonfranciskurkdjian, maisto, maja, majescogames, mak, makarena, make-upatelier, makeblock, makers, makita, makstton, malamalama, malushen, malva, malvacosmetics, malys, mam, mamadoma, mamako, maman, mammie, mammut, mamut, mancera, manfrotto, mangokids, manhattan, manke, mannivanoviferber, mantra, manuoki, maomaoku, maono, mapei, mapex, marcher, marching, marcjacobs, marcomen, marcomenti, marcotozzi, marcotozzipremio, mariaiskusnica, maribel, mark, markbass, marker, market, markjacobs, marko, marley, marmiton, mars, marshal, marshall, mart, marta, martinex, martinez, maruemsta, marusa, marvel, masaimedved, masei, masi, masima, masstone, mastela, master, mastercraft, masterfish, masters, masteryard, mastrad, matador, matebo, mateus, matex, matrix, matrol, mattel, mauboussin, maunfeld, max, max-pro, maxchristmas, maxcity, maxcolor, maxfactor, maxi, maxi-cosi, maxima, maximumpowernutrition, maxion, maxler, maxmara, maxpro, maxtrek, maxvi, maxwell, maxxis, maybellinenewyork, maysternya, maysun, maytoni, mazzini, mbs, mc, mccan, mcculloch, mcfr, mdlab, mdv, meade, meanlove, measy, mebberi, mebbery.kz, mebberykz, mebelazii, mebelcon, mebelev, mebelgrad, mebels, mebelservice, mebelson, mebelswow-rn, meccano, mecta, medalist, medela, medeli, mediheal, medisana, medtextile, mefferts, mefro, megasaurs, meguin, mei-cha, meike, meinl, meizer, meizu, mekkan, meliconi, melidadi, melissadoug, melitta, mello, memo, mengbadi, mentor, merach, mercedes, mercedesbenz, mercury, mercusys, merealni, merejbaspasy, merelani, merida, merkurij, merlin, merries, merry, merrylock, mersco, mersedes-benz, merzuka, messer, metabo, metalac, metalions, method, metoo, metoyou, metrot, metsui, mexx, meze, mezizdat, mfmaster, mgaentertainment, mgaintertainment, mhp, mibb, mica, micallef, michaelkors, michelin, micio, micmax, micro, microfire, microids, microlab, micromax, micron, microsoft, micuna, midea, mido, midou, midzumi, miele, miescarpe, mif, mifold, miif, mikasa, mikrotik, milan, milano, milat, milavitsa, milight, military, milk, millenium, millet, millionaire, milwaukee, mima, minecraft, minelab, minerva, minimen, minimotors, minony, mio, miolla, mioshi, miracase, miracle, miraculous, mirage, mirax, mirex, mirodel, miromaks, miromax, mirra, misfit, missha, misstais, misty, mitas, mitasu, mitre, mitte, miumiu, mjx, mltl, mobil, mochtoys, modern, mof, mojdodyr, mojmalys, moldabela, molfix, moliabal, molodecnomebel, molten, momentum, momert, momi, monchhichi, mongoose, monis, monisstil, monix, monkey, monro, monsher, monster, monsterjam, montale, montblanc, moon, moongmbh, moony, moonybaby, moose, moov, mooveandfun, mora, morakniv, morel, moroshka, moschino, mosconi, moser, moshi, motivyotdyha, motorcraft, motorguide, motorola, motul, moulinex, moulinvilla, moxom, mozaika-sintez, mozgamebel, mr.pixel, mrm-power, msb, msi, mstar, mtx, muimui, mujjo, munchkin, muqaba, muqajankz, murager, murena, musclepharm, muscletech, musicroom, must, mustang, mustela, mutant, mutlu, mutsy, mw-light, mydean, mykita, mykronoz, myprotein, mystar, mystery, mz, nacon, nadoba, nady, nagano, nakamichi, namazu, nan, nanga, nania, nannic, nanotex, naomi, napoleon, naranda, nardi, narodnyerecepty, nascitaprofessional, nasomatto, nathan, native, natrol, natur, naturakamchatka, naturalist, naturasiberica, naturehike, naturepan, naturerepublic, naughtydog, navien, navigator, navitel, nec, neff, nella, neman, neo, neobio, neoclassic, neocoregames, neoline, neposeda, neptun, nereus, nerf, nero, neskucnyeigry, nestogen, netechnics, netgear, netis, neumann, neva, neva-taft, newbright, newco, newport, nexen, nexpero, next, nexttab, nexttool, nexxt, ngk, nicalis, nicecooker, niche, nici, niio, nik, nika, nikai, nikakids, nike, nikon, nikotex, nillkin, ninebot, ningbo, nintendo, nioxin, nirmal, nishane, nissan, nitecore, nitro, nitto, nivea, nixx, nizegorodskaaigruska, niznekamsksina, nmp, nobby, nobleroyale, nobu, nocnezna, noctua, nodor, nokia, nokian, noktamakro, nomad, nomi, noopies, noordi, noppies, noppiesbaby, nord, nordica, nordictrack, norfin, norman, normann, norplast, nortec, noryalli, note, novabright, novatex, novatrack, novigo, novline, now, nowodvorski, nowystyl, nubia, nuforce, nuk, numark, nuna, nuovabattipav, nurpress, nutrend, nutrex, nutribullet, nutricia, nutrilak, nutrilon, nux, nuxe, nvidia, nvp, nvprint, nyce, nyne, nz, nzxt, oase, oasis, obi, obsessive, ocag, ocz, odeonlight, odri, ogiz, ogreen, oitez, okuma, ol-tex, oleo-mac, oley, olimp, olimp-biznes, olimpic, olivella, oliviabambino, ollin, olmeko, olmio, olsa, olto, olympus, omabelle, ombra, omero, omnimount, omnio, omoikiri, omron, on, oneplus, onhillsport, onix, onkron, onlitop, ooba, oonies, ooops, opadiris, opple, oppo, optima, optimus, optiplus, optoma, oral-b, oralcare, orange, orangedaily, orbotix, organickitchen, organicshop, organiczone, oribel, orico, orient, origami, originalamnet, origins, orimag, orion, oris, orium, orivel, orjade, orla, orly, ortega, orto-bed, ortopazl, os, osann, oscardelarenta, osgona, osman, osminozka, osprey, ostamebel, oster, otan, otani, otex, ouaps, oukitel, oumile, ourgeneration, oursson, outwell, ovation, ovk, owner, oxygen, ozkaplan, p.i.t., pablosky, packing, paint, paiste, pajak, palars, palisad, palit, palmers, palms, palplay, pampers, panasonic, pandect, pandora, pangao, panouge, papilla, papitto, parallelkomiks, parkcity, parklon, parkmaster, parkwood, parrot, partner, parus, pasabahce, paso, pastel, paton, patrino, patriot, pawpatrol, payot, pccooler, pdw, peak, pearl, peavey, pebble, peda, pediasure, pedrollo, peg-perego, pegperego, penn, penny, pensofal, pentax, peppapig, pequetren, perilla, perina, permanence, persona, peruzzo, pervenec, petek, peterhof, petitfee, petro-canada, phanteks, phantom, philandteds, philippus, philips, phillips, phoenix, piatnik, picard, pierrelannier, pierrericaud, pika, pikate, pilsan, pinarello, pinghudakebabycarrier, pinskdrev, pinti, pintinox, pinus, pioneer, pirelli, pirs, pisen, pit, piter-trejd, pituso, pixiebelles, pjmasks, plamers, planet, planetaorganica, plano, plantex, plantronics, playgro, playlab, playland, playmates, playme, playmobil, playskool, playway, plextor, plitex, pnb, pny, pocketbook, poholy, polar, polaris, polaroid, polarring, polese, polesie, poli, police, poligrafkombinat, polimerbyt, polini, polistil, polkaudio, polo, polti, poopeez, poopsie, popcornbooks, popov, poppops, poppuri, popurri, porsche, portcase, portdesigns, potatohead, powcan, powercolor, powerman, powerplant, powerrangers, powertec, powertrac, pozis, pqi, prada, prajm-evroznak, praktik, prc, preciosa, premier, president, presonus, prestige, prestigio, prestiz, pride, princessa, princessemarinadebourbon, princetontec, privia, pro-ject, pro-karaoke, proel, prof-press, proffcarbon, profiko, profteplo, progress, prolike, prologic, prology, proma, promate, promountain, promozer, prosperplast, proteus, protherm, provence, provoc, proxima, proxxon, psyonix, pt-group, pubg, puckator, pulser, puma, pupa, purederm, puridea, puzzles, pyrex, qazaqkhan, qazprotein, qcyber, qiangchi, qixels, qmax, qnap, qnt, qplay, qq, quatro, quechua, quiksilver, quinny, qvs, r-senda, racer, raceready, radaway, radiant, rado, ragolle, raidmax, railking, rainbo, rajton, ralfringer, ralphlauren, rals, ramili, ramilibaby, rant, rapala, rapid, rapoo, rare, rasch, rastar, ravak, raval, raveltex, ravenol, ray-ban, raytheonphantom, razer, rcf, rcr, rdx, realflame, rebellion, rebus, recaro, recci, receptybabuskiagafi, redblu, redbo, redford, redken, redline, redmond, redpower, redragon, reebok, reergmbh, regatta, regent, regentinox, reima, relouis, reluce, remain, remax, remeco, remer, remeza, remington, remix, remo, remonte, rempire, renberg, renegade, renova, renovator, repetto, replica, resanta, reshin, respect, restar, retrosuperfuture, rev, revlon, revuele, rexco, rextor, rezult, rheinberger, rial, ricco, riche, ricoh, ridata, ride, ridian, rieker, riello, riga, rihanna, rika, riken, riko, rimax, riminibosco, riminiflash, rimmel, rimmellondon, rinax, rinnai, ripol, rise, risoli, ristanskaakeramika, ritmix, rivacase, rivakoch, rival, rivalli, rivertoys, riviera, rizmo, rline, roadcruza, roadmarch, roadstone, roadx, roamer, robens, robertobravo, robertocavalli, robins, roblox, robobloq, robocarpoli, roborock, robotime, robotis, roca, rochas, rock, rockdale, rockforce, rockstargames, rodaco, rode, rodi, roeyuta, rogervandenberghenv, roingto, roison, rokids, roland, rolife, romack, romana, romanson, romax, rombica, romer, ronas, roncato, rondell, ronthompson, rooman, rosa, rosato, rosenberg, rosetta, rosmen, rossia, rossiaavtorobot, rossignol, rossinka, rostok-mebel, rotiform, rotor, rotorazer, rovigo, rovus, rowenta, roxy, roxykids, royal, royalblack, royallondon, rozenbal, rpikduir, rubelli, rubiks, rubineta, rucelf, ruike, ruixinlang, runwin, rusgoldart, rush, russia, rw, ryobi, ryor, s-oil, s.a.n., sabi, sabian, sabyrzhanayrin, sachiko, sacvoyage, sades, saeshin, safecess, saferich, sailun, saipo, saksi, sakura, salamander, salewa, sallyhansen, salmo, salomon, salvatoreferragamo, salvinelli, samga, samo, samonite, samson, samsonite, samsung, samy, san, sandisk, saniano, sanita, sanitaluxe, sanjia, sanovit, santa-cruz, santacruz, santak, santek, santeri, sapphire, sarabella, sardes, sariel, sasta, satagood, satura, saturn, saucony, sava, savagegear, sbs, sbw, scan, scarlett, schardt, schaublorenz, schecter, scher-khan, schneider, schreuders, schwinn, scierra, scinic, scivation, scool, scoole, scooter, scorpion, scott, scovo, scoyco, screecherswild, scruff-a-luvs, scythe, sdt, sea-doo, seagate, seanovo, seasonic, sebamed, secretgourmet, secretkey, seed, sega, segotep, segway, seiko, seintex, sekiguchi, selby, selective, selectiveprofessional, selena, seletti, senci, sencor, sennheiser, sensis, senspa, serebro, serebroff, sergiorossi, sess, sevenfriday, seventeenkids, sgary, shagovita, shaik, shakira, shangpree, shantougepai, sharking, sharp, sheba, sheffilton, shell, shengyuan, shenma, sherlock, sheyk, shhongri, shima, shimano, shindo, shinko, ship, shiraz, shiseido, shishi, shivaki, sho-me, shoesrepublic, shogun, shoiberg, shopkins, shua, shunxiang, shure, siberia, sibin, sibirskietovary, sibrteh, siee, siemens, siger, sigikid, sigma, signal, signature, silampos, silapro, silhouette, silva, silverlit, silverstone, sima-land, simax, simba, simbat, simfer, similac, simonettaravizza, simpleparenting, simurg, sinbo, sincotoys, sindbad, singer, sinisalo, sinotex, sinusprofi, siren, sirius, sis, sisley, siton, sitparad, sjcam, sjrc, skad, skagen, skandika, skazocnyjpatrul, skechers, ski-doo, skil, skillmax, skindoctors, skovo, sksportivnaakollekcia, skullcandy, skv, skv-kompani, skwooshi, sky, sky-watcher, skylor, skytech, skyworth, slaro, slavanskieoboi, sledopyt, sleekmakeup, slezakrav, slider, slonimmebel, slovo, sluban, slumberjack, sly, smalvic, smart, smartbuy, smartrike, smarttextile, smarttrike, smartway, smashbox, smeg, smiger, smile, smk, smoby, sms, smtt, snez, snogear, snowcap, sofia, sofit, softoy, sokany, sokolov, solaris, solarstorm, solideal, solite, solognac, solomon, solostyle, sonar, sonata, sonda, sonel, sonifer, sonnaaskazka, sonny, sonor, sonoterra, sony, sonyinteractiveentertainment, sordiant, soskin, sospiro, soundking, soundstream, sowell, soyntec, sozzy, spalding, spalenka, spaquatoria, sparky, sparta, specialized, speroni, sphero, spider-man, spiegelau, spinmaster, spinmop, splashlings, sportbaby, sportelite, sportop, sports, sporttovary, spur, squier, ssm, stabila, stagg, stahlberg, stalemal, stalker, standard, standart, stanley, starfestival, stark, starline, starmix, starmom, startline, startlineplay, startrading, startradingab, startradingabsvecia, startul, starwars, starway, stationeryteam, staub, stavia, stavr, stayer, stealth, steba, steelflex, steelpower, steelseries, steffilove, steger, stellar, stels, stelz, stendmebel, steppuzzle, stermay, stern, sterntaler, sti, stiga, stihl, stikbot, stilvasejspalni, stilzizni, stinger, stinol, stl, stn, stockli, stokke, stolicatekstila, stolline, stolplit, stonelock, stor, storm, strikemaster, strobbs, strong, strunal, stryj, studio, studiomaster, studioprofessional, stuntcar, stupidcasual, suave, subea, subini, suda, sufix, sulhwasoo, sulongtojs, sulu, sumadl, sumdex, sumitomo, sun, sunbody, suncolor, sunday, suneight, sunfull, sunlike, sunmi, sunsuki, sunsystem, suntech-msks, sunwide, superfine, superlux, supermicro, superwings, supra, suunto, suzuki, sv, svar, svc, sven, svetogor, svoboda, swarovski, swat, swatch, sweety, sweetyhome, swisshome, swissimage, swissline, swissmilitaryhanowa, sx, sylvanianfamilies, syma, synology, syntrax, t-max, t-rex, t.bone, tacki, tactic, tacx, tailg, taitong, takamine, takeit, tako, taller, tamaris, tamish, tamiteks, tamron, tanglewood, tao-tao, target, targus, tarkett, tarlan, tascam, taschen, tatami, taxi, tch, tcl, tdm, tdmelectric, teamgroup, tec, tech-line, technogym, technomax, tecno, tedmyfriend, teens, tefal, tega, teka, teknetics, teknum, tekstilnaalavka, telecom, telefunken, telwin, temp, tempish, tenda, teorema, teosa, teplokryma, teploross, teploteh, terleckikomiks, termia, terminus, terra, terris, teslastyle, tesler, tesma, tesoro, texa, texet, textura, teyko, thermalright, thermaltake, thermex, theshinestonetrade, thomas, thor, thorvik, thqnordic, three-a, thrustmaster, thule, tianzhanfitness, tierra, tigar, tigerking, tigres, tima, timbergroup, timberk, timi, timilostworld, timson, tinytoes, tisa, tissot, titan, tizianaterenzi, tizo, tl, tmnt, tmsweetpups, to-plan, tobot, tognana, tokler, tokuryo, tomahawk, tomfarr, tomford, tomik, tommyhilfiger, tomoloo, tonar, toneybaby, tontarelli, tonybellucci, toocool, tools, topex, topface, topicrem, toptools, torch, torgue, tornado, torneo, toro, torrent, torres, torso, toscom, toshiba, totaku, total, totalbox, totu, touchbeauty, tourist, tous, toway, toyland, toyo, toyota, toysmax, tp-link, tpmaster, tracker, tradiciatekstila, tramontina, transcend, transformers, traser, travelite, travellight, traxxas, trazano, trebl, trefl, trek, trendbeauty, trendvision, trendy, trespass, trevi, trevorjames, triangle, trianglegroup, trichup, tridevatoecarstvo, trinx, tripplite, tristar, triton, triumf, triumph, triumphnord, triumphtree, trollbeads, troyka, true, trunki, trussardi, trust, truva, tsubaki, tsv, ttco, tuarex, tucano, tuctuc, tuff, tuffoni, tuka, tuncmatik, tundra, tundracomfort, tunga, turbo, turboair, turbosound, turtles, tutis, tutti, tutu, tv-shop, tvs, twins, twistclimbingcar, ty, tyr, tyrex, tytan, ubear, ubiquiti, ubisoft, ubtech, ugreen, ultimatumboxing, ultraflash, ultrasone, ultravit, umi, umka, underarmour, uniforce, unikum, unilux, unison, unit, unitedcolorsofbenetton, universal, uno, unyjatlet, uomo, upright, uragan, ural, ural-mikma-term, uralsport, urbanears, urgaz, usams, usborne, useandcare, uta, uvelirnyetradicii, v-color, v-t, v-unic, vaiper, vako, vakosa, valberg, valentino, value, valve, vans, vard, vardoven, vargame, vari, varta, vasco, vasden, vasilek, vasilisa, vasin, vaude, vcom, vdovichev, vece, vectron, vega, vegas, veho, vellarti, velo, velositywheels, velvet, velvet-santiago, venta, ventara, venti, ventura, venum, verbatim, verdi, verico, veritas, verloni, verossa, verran, versace, versal, versale, versus, vertex, ves, vesna, vesta, vestel, veston, vgp, vialata, viatti, vibe, vichy, vicovation, victoriassecret, victorinox, viessmann, view-master, viewmaster, viewsonic, viga, vigoole, vihr, viking, vilatte, vilenta, vilia, villa, villi-vinki, vilt, vim-art, vinzer, vionne, vip, vipe, vira, visage, visavis, visnevyjpapa, vissol, vista, vita, vitaluce, vitax, vitebskiekovry, vitek, viteks, vitelia, vitesse, vitra, vitross, vitus, viviennesabo, vivitek, vivo, vladi, vladitoys, vlk, vmv, vobix, voda, vogue, voin, vokter, vokul, volcano, volkl, volsebnaanoc, volta, voltajr, voltman, voltmaster, vorson, vortex, vossen, vov, vox, voyager, vplaboratory, vt, vtech, vulli, w-star, wacom, wader, wagner, wahl, walfix, walkmaxx, wallberry, wanday, wangfeng, warmic, warrior, waspo, waterpik, waterworld, wd, weber, weber-vetonit, wedssport, weekend, wehncke, weichao, weider, weifeng, weina, weiste, weitai, welcos, wella, wellberg, welldone, wellneo, welly, welss, wenge, wengemotion, wensheng, wenyi, wera, werner, wert, wess, westa, wester, westerndigital, westlake, westmark, westone, wethepeople, wetnwild, wh, whirlpool, whistler, whitewave, whito, wibtek, widian, willmark, willmax, wilmax, wilo, wilson, winca, wincars, wind, winda, wing, wingo, wingoffly, winner, wintek, wiseson, witerra, withings, wize, wk, wltoys, woddon, wolf, wonderlab, wonlex, woodcraft, work, worldpeacekeepers, wortex, worth, worwo, wotrex, wowwee, wsp, wster, wtflabz, wuben, wurth, wuw, ww, x-digital, x-foot, x-game, x-level, x-race, xerox, xgimi, xiaomi, xiaoyueliangtoys, xieming, xigmatek, xing, xinyu, xjewellery, xkg, xlmedia, xp-pen, xti, xtrembots, xxr, yacco, yamaguchi, yamaha, yamato, yaole, yardforce, yasham, yasin, yato, yegam, yellow, yema, yes, yh, yika, yison, yjfitness, yoga, yokatta, yokito, yokohama, yokosun, yoobao, yoshioki, yota, yotrix, youngtoys, yoya, yoyofactory, yst, yuandong, yuka, yulu, yuneec, yunteng, yusufhali, yvesrocher, yvessaintlaurent, zabiaka, zadoor, zaharov, zajkami, zalman, zancaster, zangavar, zanry, zanussi, zapco, zapfcreation, zara, zarad, zarkoperfume, zass, zazu, zebratoys, zeetex, zegan, zelmer, zemex, zengen, zenmart, zenzia, zeppelin, zerten, zeta, zfts, zhejiang, zhejiangjiajia, zic, zilli, zilmer, zimakrasavica, zimneevolsebstvo, zinc, zing, zinvo, zlatek, zmi, zmonday, zobo, zolotoeruno, zongshen, zoom, zoops, zorg, zotac, zpao, zte, zubr, zuru, zvezda, zwerg, zwilling, zwillingjahenckels, zx, zyxel\n",
      "\n",
      "Columna: 'category_id' — 691 valores únicos\n",
      "--------------------------------------------------\n",
      "2053013552226107603, 2053013552259662037, 2053013552293216471, 2053013552326770905, 2053013552351936731, 2053013552385491165, 2053013552427434207, 2053013552469377249, 2053013552502931683, 2053013552570040549, 2053013552603594983, 2053013552637149417, 2053013552662315243, 2053013552695869677, 2053013552737812719, 2053013552788144369, 2053013552821698803, 2053013552863641845, 2053013552888807671, 2053013552913973497, 2053013552955916539, 2053013552989470973, 2053013553031414015, 2053013553056579841, 2053013553090134275, 2053013553115300101, 2053013553140465927, 2053013553165631753, 2053013553199186187, 2053013553224352013, 2053013553257906447, 2053013553283072273, 2053013553316626707, 2053013553341792533, 2053013553375346967, 2053013553459233053, 2053013553484398879, 2053013553526341921, 2053013553559896355, 2053013553853497655, 2053013553887052089, 2053013553912217915, 2053013553945772349, 2053013553970938175, 2053013554004492609, 2053013554071601477, 2053013554096767303, 2053013554121933129, 2053013554155487563, 2053013554189041997, 2053013554222596431, 2053013554247762257, 2053013554415534427, 2053013554449088861, 2053013554474254687, 2053013554499420513, 2053013554524586339, 2053013554566529381, 2053013554591695207, 2053013554625249641, 2053013554658804075, 2053013554692358509, 2053013554725912943, 2053013554751078769, 2053013554776244595, 2053013554834964853, 2053013554960793975, 2053013554994348409, 2053013555036291451, 2053013555069845885, 2053013555095011711, 2053013555120177537, 2053013555178897795, 2053013555220840837, 2053013555262783879, 2053013555287949705, 2053013555321504139, 2053013555355058573, 2053013555380224399, 2053013555413778833, 2053013555438944659, 2053013555464110485, 2053013555531219353, 2053013555573162395, 2053013555631882655, 2053013555657048481, 2053013555690602915, 2053013555724157349, 2053013555782877609, 2053013555816432043, 2053013556110033341, 2053013556135199167, 2053013556168753601, 2053013556202308035, 2053013556227473861, 2053013556252639687, 2053013556277805513, 2053013556311359947, 2053013556344914381, 2053013556403634639, 2053013556437189073, 2053013556462354899, 2053013556487520725, 2053013556521075159, 2053013556546240985, 2053013556579795419, 2053013557024391671, 2053013557066334713, 2053013557099889147, 2053013557133443581, 2053013557166998015, 2053013557192163841, 2053013557225718275, 2053013557343158789, 2053013557385101831, 2053013557418656265, 2053013557452210699, 2053013557477376525, 2053013557510930959, 2053013557544485393, 2053013557569651219, 2053013557603205653, 2053013557645148695, 2053013557670314521, 2053013557695480347, 2053013557737423389, 2053013557787755041, 2053013557930361385, 2053013557955527211, 2053013558005858861, 2053013558031024687, 2053013558072967729, 2053013558098133555, 2053013558131687989, 2053013558156853815, 2053013558190408249, 2053013558223962683, 2053013558249128509, 2053013558282682943, 2053013558316237377, 2053013558349791811, 2053013558391734853, 2053013558433677895, 2053013558458843721, 2053013558492398155, 2053013558525952589, 2053013558559507023, 2053013558593061457, 2053013558618227283, 2053013558643393109, 2053013558668558935, 2053013558727279193, 2053013558752445019, 2053013558785999453, 2053013558802776671, 2053013558836331105, 2053013558861496931, 2053013558895051365, 2053013558920217191, 2053013558945383017, 2053013558978937451, 2053013559071212141, 2053013559104766575, 2053013559138321009, 2053013559222207091, 2053013559255761525, 2053013559289315959, 2053013559322870393, 2053013559348036219, 2053013559381590653, 2053013559406756479, 2053013559440310913, 2053013559473865347, 2053013559515808389, 2053013559641637517, 2053013559675191951, 2053013559708746385, 2053013559733912211, 2053013559767466645, 2053013559792632471, 2053013559842964121, 2053013559868129947, 2053013559901684381, 2053013559935238815, 2053013559960404641, 2053013559985570467, 2053013560010736293, 2053013560035902119, 2053013560061067945, 2053013560086233771, 2053013560111399597, 2053013560144954031, 2053013560178508465, 2053013560220451507, 2053013560287560373, 2053013560312726199, 2053013560346280633, 2053013560388223675, 2053013560413389501, 2053013560463721151, 2053013560497275585, 2053013560530830019, 2053013560555995845, 2053013560581161671, 2053013560623104713, 2053013560807654091, 2053013560841208525, 2053013560866374351, 2053013560899928785, 2053013561059312345, 2053013561092866779, 2053013561126421213, 2053013561159975647, 2053013561185141473, 2053013561218695907, 2053013561243861733, 2053013561277416167, 2053013561302581993, 2053013561327747819, 2053013561352913645, 2053013561420022511, 2053013561453576945, 2053013561495519987, 2053013561529074421, 2053013561554240247, 2053013561579406073, 2053013561604571899, 2053013561638126333, 2053013561663292159, 2053013561696846593, 2053013561747178243, 2053013561780732677, 2053013561814287111, 2053013561847841545, 2053013561889784587, 2053013561914950413, 2053013561956893455, 2053013561982059281, 2053013562082722579, 2053013562116277013, 2053013562149831447, 2053013562183385881, 2053013562208551707, 2053013562250494749, 2053013562292437791, 2053013562325992225, 2053013562359546659, 2053013562393101093, 2053013562451821351, 2053013562560873263, 2053013562611204913, 2053013562644759347, 2053013562753811257, 2053013562778977083, 2053013562812531517, 2053013562837697343, 2053013562871251777, 2053013562913194819, 2053013562946749253, 2053013563097744201, 2053013563139687243, 2053013563173241677, 2053013563215184719, 2053013563248739153, 2053013563273904979, 2053013563307459413, 2053013563332625239, 2053013563366179673, 2053013563391345499, 2053013563424899933, 2053013563450065759, 2053013563483620193, 2053013563517174627, 2053013563550729061, 2053013563584283495, 2053013563651392361, 2053013563693335403, 2053013563718501229, 2053013563743667055, 2053013563768832881, 2053013563810775923, 2053013563835941749, 2053013563877884791, 2053013563911439225, 2053013563944993659, 2053013563970159485, 2053013564003713919, 2053013564154708873, 2053013564523807647, 2053013564557362081, 2053013564599305123, 2053013564641248165, 2053013564674802599, 2053013564699968425, 2053013564741911467, 2053013564918072245, 2053013564968403895, 2053013565069067197, 2053013565127787455, 2053013565152953281, 2053013565194896323, 2053013565228450757, 2053013565253616583, 2053013565329114057, 2053013565362668491, 2053013565413000141, 2053013565446554575, 2053013565480109009, 2053013565505274835, 2053013565589160919, 2053013565639492569, 2053013565681435611, 2053013565706601437, 2053013565748544479, 2053013565782098913, 2053013565824041955, 2053013565857596389, 2053013565882762215, 2053013565916316649, 2053013565941482475, 2053013565983425517, 2053013566033757167, 2053013566067311601, 2053013566100866035, 2053013566142809077, 2053013566176363511, 2053013566209917945, 2053013566243472379, 2053013566277026813, 2053013566310581247, 2053013566344134657, 2053013566377689091, 2053013566411243525, 2053013566453186567, 2053013566478352393, 2053013566503518219, 2053013566537072653, 2053013566562238479, 2053013566587404305, 2055156895844401457, 2055156924273394455, 2055156924315337497, 2055156924407612189, 2055156924466332447, 2055909009252155819, 2055909011886178857, 2058719826188173878, 2058719829233238746, 2059484387635888645, 2059484599339188409, 2059484599372742843, 2059484599414685885, 2059484599456628927, 2059484601444729123, 2059484601981600061, 2059484602015154495, 2059484602216481097, 2060237588744111062, 2060237591176806498, 2060981320481243178, 2060981320514797612, 2060981320548352046, 2060981320581906480, 2061717937420501730, 2061717948367634684, 2061717948468297988, 2061717948493463814, 2062461754293617058, 2069241407767315312, 2069241409453425602, 2070004998778912979, 2070005009172398851, 2070005009256284935, 2070005009382114061, 2070747671722722162, 2070747673266226092, 2070747673358500784, 2070747685681365440, 2071489994601529806, 2071489994693804498, 2071490004441367490, 2074462942123786261, 2075210504652981138, 2075210506532029436, 2075210506573972478, 2075962323838697472, 2075962341706433246, 2075962341748376288, 2075962341790319330, 2076715358323998979, 2076715364204413467, 2076715364237967901, 2076715364279910943, 2077453854185620383, 2078957452602114300, 2078957452635668734, 2078957452669223168, 2078957461921858354, 2078957461947024180, 2079713971606127501, 2079713978300236035, 2079713978711277851, 2079713979038433581, 2079713982830084515, 2079713983761220055, 2080463777567867259, 2080463777718862211, 2082717806897398246, 2084217994270999025, 2084218014168776941, 2084962291626803333, 2084962304016777941, 2085718636156158307, 2086471225382536008, 2086471233100054624, 2086471239416676686, 2086471240800797129, 2086471240842740173, 2088750507198775704, 2088750570935419494, 2089490106086851034, 2089490116119625748, 2090228401527849663, 2090228413380952337, 2090228413959766319, 2090971675423146874, 2090971680431145002, 2090971680481476652, 2090971680783466556, 2090971685539807320, 2090971686529663114, 2091727629378912491, 2094006184079000416, 2094006249627582860, 2095518906859913319, 2095518917320508073, 2095518921321874323, 2095518921355428757, 2096280510920655375, 2096280538292683405, 2096280601366626625, 2097815753423061045, 2098563440799908223, 2098563448148329133, 2098563450757186313, 2098563460336976001, 2099306010899383229, 2100064855133258156, 2100064858975240628, 2100065069009208002, 2100065069302809284, 2100065080828756704, 2100825583029060150, 2102305967893905931, 2102307650380235197, 2103807459595387724, 2104564977229628393, 2104564977263182827, 2105319817211805903, 2105319819401232597, 2106075662325383725, 2106075695351333719, 2106075725441269865, 2106830258215846573, 2109094148110811752, 2109094161893294334, 2110187392055903187, 2110187395394568257, 2110187395688169553, 2110187395721723987, 2110187395755278421, 2110187395788832855, 2110937143172923797, 2110937189033444097, 2110937189394154243, 2110937217663763331, 2110937218225800069, 2110937219005940617, 2110937219442148235, 2110937221648352149, 2110937222638207897, 2110937223082804123, 2112418071384687332, 2112418215870071678, 2113934850560885372, 2116907504691576833, 2116907507795361987, 2116907507954745551, 2116907518801216297, 2116907519078040377, 2116907524262199379, 2116907524295753813, 2116907524337696855, 2116907524379639897, 2116907524488691805, 2116907524530634847, 2116907524572577889, 2116907525143003265, 2116907525176557699, 2116907525201723525, 2116907525235277959, 2119149008294249184, 2119910569631810087, 2124430574616576362, 2125175529001713727, 2125175570022007765, 2125931803410694331, 2126679652444405974, 2126679654801604876, 2126679657276244294, 2127424806855902066, 2127424820051182462, 2127425270821421370, 2127425375913902544, 2127425430859285014, 2127425432411177496, 2127425433661080090, 2127425434894205468, 2127425436764865054, 2127425438190928416, 2127425439776375330, 2127425440925614628, 2134904816839688395, 2134904835026190593, 2134904980736311929, 2134904982346924669, 2134905019189691101, 2134905035589419799, 2134905039313961849, 2134905041696326587, 2134905044766557181, 2134905044833666047, 2134905045102100487, 2134905045177597961, 2134905045253095435, 2134905045328592909, 2134905045538308115, 2134905045613805589, 2135658359968236364, 2135658542101693154, 2135658542386905834, 2135658542781170420, 2135658543242543872, 2135658545767514950, 2135658545893344074, 2136221634460123799, 2136389353511846005, 2136389354015162499, 2136935916512478049, 2137134548792640183, 2137134549706998477, 2137704922018218396, 2137704926053138958, 2138568472580325973, 2139150089359196199, 2140784658734907686, 2141229835995840847, 2141355031935321056, 2141355067922449282, 2141355068383822734, 2141478391264576072, 2141478391348462154, 2141478496122176368, 2142047355153678986, 2142171269733286244, 2144356630513320518, 2144916515806248980, 2145153815500816706, 2145603402644587402, 2145727308156108933, 2145727399348666855, 2145727399449330153, 2145727399558382059, 2146306510567768475, 2146430800906682785, 2146430800990568867, 2146430820443751321, 2146551843914777018, 2146551844904632788, 2146551904958677622, 2146660886926852416, 2146660887002349890, 2146660887094624580, 2146660887203676486, 2146660887346282824, 2147123662791115686, 2147123662858224552, 2147123663017608108, 2147846602826449803, 2149484526546452752, 2149484852091552186, 2149939352476582010, 2150829657950257794, 2150829667932701348, 2150829923885908490, 2150829948548416122, 2150829959453606568, 2151563850841850061, 2151564008329576933, 2151564095713706619, 2152167773222993940, 2152289023127715889, 2152289064542273825, 2155114825741500949, 2155114835690390267, 2155114836386644747, 2155241212938814273, 2155812777791324581, 2156066252290785356, 2156501936323428882, 2156718775112565355, 2158174724725670855, 2158174729414901910, 2158174784544834196, 2159419215583380463, 2159535974915244827, 2159535995811266819, 2159536004787077583, 2159649186167915110, 2160098698049093979, 2160912607672795565, 2160912616539554409, 2160912655915679819, 2162513024617808683, 2162513044893073459, 2162513070000177858, 2162513070503494350, 2162513074060264222, 2163212765890609705, 2163334577303585455, 2163334578259886795, 2164367422893589471, 2164367423673730033, 2164478081568343037, 2164478103445832281, 2164478104343413363, 2164598684107407750, 2165087460176953468, 2166064333434388927, 2166064674305475225, 2166064779414732801, 2166064797106307229, 2166064855264526831, 2166064863317590601, 2166773308459057374, 2171876313638371452, 2171876324795220314, 2171876326942704016, 2171876346882425704, 2171876348610478994, 2171876348702753684, 2171876361721872578, 2172371118332051820, 2172371122509578610, 2172371436436455782, 2173216763896922288, 2173216765583032544, 2173216776639218138, 2173325534287627249, 2174721075571589819, 2174838742978659061, 2175419524847763461, 2175419595093967522, 2175419595697947312, 2176851562641490686, 2176851562834428674, 2179887839699796424, 2179887840530268640, 2179887855134835524, 2179887863137566752, 2180736540135654014, 2180736567012753620, 2180736592824501056, 2181922917904810326, 2181922918508790116, 2181922923097358794, 2181922978520891990, 2181922982354485892, 2182779801528435624, 2182780329306096562, 2182780429113753770, 2184831680924091011, 2185524688778691138, 2186437187866722802, 2186437664792641850, 2186437842094261028, 2186437842832458550, 2187707789055361298, 2187707856793371188, 2187707857414128194, 2187707861038006932\n",
      "\n",
      "Columna: 'category_code' — 130 valores únicos\n",
      "--------------------------------------------------\n",
      "None, accessories.bag, accessories.umbrella, accessories.wallet, apparel.belt, apparel.costume, apparel.dress, apparel.glove, apparel.jacket, apparel.jeans, apparel.jumper, apparel.scarf, apparel.shirt, apparel.shoes, apparel.shoes.ballet_shoes, apparel.shoes.espadrilles, apparel.shoes.keds, apparel.shoes.moccasins, apparel.shoes.sandals, apparel.shoes.slipons, apparel.shoes.step_ins, apparel.shorts, apparel.skirt, apparel.sock, apparel.trousers, apparel.tshirt, apparel.underwear, appliances.environment.air_conditioner, appliances.environment.air_heater, appliances.environment.fan, appliances.environment.vacuum, appliances.environment.water_heater, appliances.iron, appliances.ironing_board, appliances.kitchen.blender, appliances.kitchen.coffee_grinder, appliances.kitchen.coffee_machine, appliances.kitchen.dishwasher, appliances.kitchen.fryer, appliances.kitchen.grill, appliances.kitchen.hob, appliances.kitchen.hood, appliances.kitchen.juicer, appliances.kitchen.kettle, appliances.kitchen.meat_grinder, appliances.kitchen.microwave, appliances.kitchen.mixer, appliances.kitchen.oven, appliances.kitchen.refrigerators, appliances.kitchen.steam_cooker, appliances.kitchen.toster, appliances.kitchen.washer, appliances.personal.hair_cutter, appliances.personal.massager, appliances.personal.scales, appliances.sewing_machine, auto.accessories.alarm, auto.accessories.anti_freeze, auto.accessories.compressor, auto.accessories.parktronic, auto.accessories.player, auto.accessories.radar, auto.accessories.videoregister, auto.accessories.winch, computers.components.cooler, computers.components.cpu, computers.components.hdd, computers.components.memory, computers.components.motherboard, computers.components.power_supply, computers.components.videocards, computers.desktop, computers.ebooks, computers.notebook, computers.peripherals.camera, computers.peripherals.keyboard, computers.peripherals.monitor, computers.peripherals.mouse, computers.peripherals.printer, construction.components.faucet, construction.tools.drill, construction.tools.generator, construction.tools.light, construction.tools.painting, construction.tools.pump, construction.tools.saw, construction.tools.screw, construction.tools.soldering, construction.tools.welding, country_yard.cultivator, country_yard.furniture.bench, country_yard.furniture.hammok, country_yard.lawn_mower, electronics.audio.acoustic, electronics.audio.headphone, electronics.audio.microphone, electronics.audio.music_tools.piano, electronics.audio.subwoofer, electronics.camera.photo, electronics.camera.video, electronics.clocks, electronics.smartphone, electronics.tablet, electronics.telephone, electronics.video.projector, electronics.video.tv, furniture.bathroom.bath, furniture.bathroom.toilet, furniture.bedroom.bed, furniture.bedroom.blanket, furniture.bedroom.pillow, furniture.kitchen.chair, furniture.kitchen.table, furniture.living_room.cabinet, furniture.living_room.chair, furniture.living_room.sofa, furniture.universal.light, kids.carriage, kids.dolls, kids.fmcg.diapers, kids.skates, kids.swing, kids.toys, medicine.tools.tonometer, sport.bicycle, sport.ski, sport.snowboard, sport.tennis, sport.trainer, stationery.cartrige\n",
      "\n"
     ]
    },
    {
     "name": "stderr",
     "output_type": "stream",
     "text": [
      "                                                                                "
     ]
    }
   ],
   "source": [
    "# Para analizar los valores distintos, incluimos los valores categorícos del data set\n",
    "df_unique = df[['event_time', 'event_type', 'brand', 'category_id', 'category_code']]\n",
    "\n",
    "output = \"\"\n",
    "for column in df_unique.columns:\n",
    "    distinct_values = df_unique.select(column).distinct().orderBy(column).collect()\n",
    "    distinct_count = len(distinct_values)\n",
    "    \n",
    "    # Separados por comas\n",
    "    values_list = [str(row[column]) for row in distinct_values]\n",
    "    values_str = \", \".join(values_list)\n",
    "    output += f\"\\nColumna: '{column}' — {distinct_count} valores únicos\\n\"\n",
    "    output += \"-\" * 50 + \"\\n\"\n",
    "    output += values_str + \"\\n\"\n",
    "print(output)"
   ]
  },
  {
   "cell_type": "code",
   "execution_count": 14,
   "id": "582117ef-67aa-4700-bd25-07f8d5982fdd",
   "metadata": {},
   "outputs": [
    {
     "name": "stderr",
     "output_type": "stream",
     "text": [
      "25/05/05 23:00:48 WARN SparkStringUtils: Truncated the string representation of a plan since it was too large. This behavior can be adjusted by setting 'spark.sql.debug.maxToStringFields'.\n",
      "[Stage 169:====================================================>(109 + 1) / 110]"
     ]
    },
    {
     "name": "stdout",
     "output_type": "stream",
     "text": [
      "+-------+--------------------+--------------------+------------------+-------------------+\n",
      "|summary|          product_id|         category_id|             price|            user_id|\n",
      "+-------+--------------------+--------------------+------------------+-------------------+\n",
      "|  count|           109950731|           109950731|         109950731|          109950731|\n",
      "|   mean|1.1755771377122113E7|2.057707155067225E18|291.63480435348384|5.366697784138143E8|\n",
      "| stddev|1.5435645021777712E7|1.949326427113854...|356.67997941599606|2.145172855534869E7|\n",
      "|    min|             1000365| 2053013552226107603|               0.0|           10300217|\n",
      "|    max|           100028554| 2187707861038006932|           2574.07|          579969851|\n",
      "+-------+--------------------+--------------------+------------------+-------------------+\n",
      "\n"
     ]
    },
    {
     "name": "stderr",
     "output_type": "stream",
     "text": [
      "                                                                                "
     ]
    }
   ],
   "source": [
    "# Stats solamente valores numéricos\n",
    "numeric_cols = [field.name for field in df.schema.fields if isinstance(field.dataType, NumericType)]\n",
    "df.select(numeric_cols).describe().show()"
   ]
  },
  {
   "cell_type": "code",
   "execution_count": 15,
   "id": "1939696c0722a790",
   "metadata": {
    "ExecuteTime": {
     "end_time": "2025-04-27T02:10:19.584402Z",
     "start_time": "2025-04-27T02:10:19.397398Z"
    }
   },
   "outputs": [
    {
     "name": "stderr",
     "output_type": "stream",
     "text": [
      "                                                                                "
     ]
    },
    {
     "name": "stdout",
     "output_type": "stream",
     "text": [
      "+-------------------+\n",
      "|Population Variance|\n",
      "+-------------------+\n",
      "| 127220.60655912613|\n",
      "+-------------------+\n",
      "\n"
     ]
    },
    {
     "name": "stderr",
     "output_type": "stream",
     "text": [
      "[Stage 175:====================================================>(109 + 1) / 110]"
     ]
    },
    {
     "name": "stdout",
     "output_type": "stream",
     "text": [
      "+------------------+\n",
      "|   Sample Variance|\n",
      "+------------------+\n",
      "|127220.60771619536|\n",
      "+------------------+\n",
      "\n"
     ]
    },
    {
     "name": "stderr",
     "output_type": "stream",
     "text": [
      "                                                                                "
     ]
    }
   ],
   "source": [
    "# Verificar con metodos de varianza \n",
    "variance_pop = df.agg(var_pop(\"price\").alias(\"Population Variance\"))\n",
    "variance_samp = df.agg(var_samp(\"price\").alias(\"Sample Variance\"))\n",
    "variance_pop.show()\n",
    "variance_samp.show()"
   ]
  },
  {
   "cell_type": "code",
   "execution_count": 16,
   "id": "c2b075d138151f39",
   "metadata": {},
   "outputs": [
    {
     "name": "stderr",
     "output_type": "stream",
     "text": [
      "[Stage 178:====================================================>(109 + 1) / 110]"
     ]
    },
    {
     "name": "stdout",
     "output_type": "stream",
     "text": [
      "+----------+---------+\n",
      "|event_type|    count|\n",
      "+----------+---------+\n",
      "|      cart|  3955434|\n",
      "|  purchase|  1659788|\n",
      "|      view|104335509|\n",
      "+----------+---------+\n",
      "\n"
     ]
    },
    {
     "name": "stderr",
     "output_type": "stream",
     "text": [
      "                                                                                "
     ]
    }
   ],
   "source": [
    "resultado = df.groupBy(\"event_type\").count()\n",
    "resultado.show()"
   ]
  },
  {
   "cell_type": "code",
   "execution_count": 17,
   "id": "bcaca953-1d58-46a6-8d30-cf175228221a",
   "metadata": {},
   "outputs": [
    {
     "name": "stderr",
     "output_type": "stream",
     "text": [
      "[Stage 181:====================================================>(109 + 1) / 110]"
     ]
    },
    {
     "name": "stdout",
     "output_type": "stream",
     "text": [
      "+-----+--------+\n",
      "|month|   count|\n",
      "+-----+--------+\n",
      "|    9|  258646|\n",
      "|   10|42507934|\n",
      "|   11|67184151|\n",
      "+-----+--------+\n",
      "\n"
     ]
    },
    {
     "name": "stderr",
     "output_type": "stream",
     "text": [
      "                                                                                "
     ]
    }
   ],
   "source": [
    "# Agrupar fechas por mes\n",
    "df.groupBy(month(\"event_time\").alias(\"month\")) \\\n",
    "  .count() \\\n",
    "  .orderBy(\"month\") \\\n",
    "  .show()"
   ]
  },
  {
   "cell_type": "code",
   "execution_count": 18,
   "id": "eaff1273-3784-4cca-b303-b67bc9b97c3f",
   "metadata": {},
   "outputs": [],
   "source": [
    "# Añadiendo una nueva columna de categoria a partir de una existente\n",
    "# La nueva columna se llamará 'category_subset' generada a partir de las columna category_code\n",
    "from pyspark.sql.functions import col, split, instr, length, substring\n",
    "\n",
    "df = (\n",
    "    df.withColumn(\"parent_category\", split(col(\"category_code\"), \"\\\\.\")[0])\n",
    "      .withColumn(\n",
    "          \"subcategory\",\n",
    "          when(\n",
    "              instr(col(\"category_code\"), \".\") > 0,\n",
    "              expr(\"substring(category_code, instr(category_code, '.') + 1, length(category_code))\")\n",
    "          ).otherwise(\"None\")\n",
    "      )\n",
    ")"
   ]
  },
  {
   "cell_type": "code",
   "execution_count": 19,
   "id": "3eda1fd9-f8da-40b3-832e-999353166c2a",
   "metadata": {},
   "outputs": [
    {
     "name": "stdout",
     "output_type": "stream",
     "text": [
      "+----------+----------+----------+-------------------+----------------------+------+------+---------+------------------------------------+---------------+-----------+\n",
      "|event_time|event_type|product_id|category_id        |category_code         |brand |price |user_id  |user_session                        |parent_category|subcategory|\n",
      "+----------+----------+----------+-------------------+----------------------+------+------+---------+------------------------------------+---------------+-----------+\n",
      "|2019-10-31|view      |1003461   |2053013555631882655|electronics.smartphone|xiaomi|489.07|520088904|4d3b30da-a5e4-49df-b1a8-ba5943f1dd33|electronics    |smartphone |\n",
      "+----------+----------+----------+-------------------+----------------------+------+------+---------+------------------------------------+---------------+-----------+\n",
      "only showing top 1 row\n",
      "\n",
      "root\n",
      " |-- event_time: date (nullable = true)\n",
      " |-- event_type: string (nullable = true)\n",
      " |-- product_id: integer (nullable = true)\n",
      " |-- category_id: long (nullable = true)\n",
      " |-- category_code: string (nullable = false)\n",
      " |-- brand: string (nullable = false)\n",
      " |-- price: double (nullable = true)\n",
      " |-- user_id: integer (nullable = true)\n",
      " |-- user_session: string (nullable = true)\n",
      " |-- parent_category: string (nullable = true)\n",
      " |-- subcategory: string (nullable = false)\n",
      "\n"
     ]
    }
   ],
   "source": [
    "df.show(1, truncate=False)\n",
    "df.printSchema()"
   ]
  },
  {
   "cell_type": "code",
   "execution_count": 20,
   "id": "1d18988e-3c5e-4984-a11d-7f532f5319f0",
   "metadata": {},
   "outputs": [
    {
     "name": "stdout",
     "output_type": "stream",
     "text": [
      "+----------+----------+----------+-------------------+------+------+---------+------------------------------------+---------------+-----------+\n",
      "|event_time|event_type|product_id|category_id        |brand |price |user_id  |user_session                        |parent_category|subcategory|\n",
      "+----------+----------+----------+-------------------+------+------+---------+------------------------------------+---------------+-----------+\n",
      "|2019-10-31|view      |1003461   |2053013555631882655|xiaomi|489.07|520088904|4d3b30da-a5e4-49df-b1a8-ba5943f1dd33|electronics    |smartphone |\n",
      "+----------+----------+----------+-------------------+------+------+---------+------------------------------------+---------------+-----------+\n",
      "only showing top 1 row\n",
      "\n",
      "root\n",
      " |-- event_time: date (nullable = true)\n",
      " |-- event_type: string (nullable = true)\n",
      " |-- product_id: integer (nullable = true)\n",
      " |-- category_id: long (nullable = true)\n",
      " |-- brand: string (nullable = false)\n",
      " |-- price: double (nullable = true)\n",
      " |-- user_id: integer (nullable = true)\n",
      " |-- user_session: string (nullable = true)\n",
      " |-- parent_category: string (nullable = true)\n",
      " |-- subcategory: string (nullable = false)\n",
      "\n"
     ]
    }
   ],
   "source": [
    "# Se elimina la columna category_Code ya que tenemos dos columnas nuevas que representan a esta columna\n",
    "df = df.drop(\"category_code\")\n",
    "df.show(1, truncate=False)\n",
    "df.printSchema()"
   ]
  },
  {
   "cell_type": "code",
   "execution_count": null,
   "id": "ae152060-3364-4983-845c-83006dfc335c",
   "metadata": {},
   "outputs": [],
   "source": []
  },
  {
   "cell_type": "code",
   "execution_count": 21,
   "id": "d14d388a-421e-4c55-9a38-5dc4026a0ded",
   "metadata": {},
   "outputs": [
    {
     "name": "stderr",
     "output_type": "stream",
     "text": [
      "[Stage 194:====================================================>(109 + 1) / 110]"
     ]
    },
    {
     "name": "stdout",
     "output_type": "stream",
     "text": [
      "\n",
      "Column: 'parent_category' — 14 valores únicos\n",
      "--------------------------------------------------\n",
      "None, accessories, apparel, appliances, auto, computers, construction, country_yard, electronics, furniture, kids, medicine, sport, stationery\n",
      "\n",
      "Column: 'subcategory' — 130 valores únicos\n",
      "--------------------------------------------------\n",
      "None, accessories.alarm, accessories.anti_freeze, accessories.compressor, accessories.parktronic, accessories.player, accessories.radar, accessories.videoregister, accessories.winch, audio.acoustic, audio.headphone, audio.microphone, audio.music_tools.piano, audio.subwoofer, bag, bathroom.bath, bathroom.toilet, bedroom.bed, bedroom.blanket, bedroom.pillow, belt, bicycle, camera.photo, camera.video, carriage, cartrige, clocks, components.cooler, components.cpu, components.faucet, components.hdd, components.memory, components.motherboard, components.power_supply, components.videocards, costume, cultivator, desktop, dolls, dress, ebooks, environment.air_conditioner, environment.air_heater, environment.fan, environment.vacuum, environment.water_heater, fmcg.diapers, furniture.bench, furniture.hammok, glove, iron, ironing_board, jacket, jeans, jumper, kitchen.blender, kitchen.chair, kitchen.coffee_grinder, kitchen.coffee_machine, kitchen.dishwasher, kitchen.fryer, kitchen.grill, kitchen.hob, kitchen.hood, kitchen.juicer, kitchen.kettle, kitchen.meat_grinder, kitchen.microwave, kitchen.mixer, kitchen.oven, kitchen.refrigerators, kitchen.steam_cooker, kitchen.table, kitchen.toster, kitchen.washer, lawn_mower, living_room.cabinet, living_room.chair, living_room.sofa, notebook, peripherals.camera, peripherals.keyboard, peripherals.monitor, peripherals.mouse, peripherals.printer, personal.hair_cutter, personal.massager, personal.scales, scarf, sewing_machine, shirt, shoes, shoes.ballet_shoes, shoes.espadrilles, shoes.keds, shoes.moccasins, shoes.sandals, shoes.slipons, shoes.step_ins, shorts, skates, ski, skirt, smartphone, snowboard, sock, swing, tablet, telephone, tennis, tools.drill, tools.generator, tools.light, tools.painting, tools.pump, tools.saw, tools.screw, tools.soldering, tools.tonometer, tools.welding, toys, trainer, trousers, tshirt, umbrella, underwear, universal.light, video.projector, video.tv, wallet\n",
      "\n"
     ]
    },
    {
     "name": "stderr",
     "output_type": "stream",
     "text": [
      "                                                                                "
     ]
    }
   ],
   "source": [
    "# Para analizar los valores distintos, incluimos los valores categorícos del data set\n",
    "df_unique = df[['parent_category', 'subcategory']]\n",
    "output = \"\"\n",
    "for column in df_unique.columns:\n",
    "    distinct_values = df_unique.select(column).distinct().orderBy(column).collect()\n",
    "    distinct_count = len(distinct_values)\n",
    "    \n",
    "    # Separados por comas\n",
    "    values_list = [str(row[column]) for row in distinct_values]\n",
    "    values_str = \", \".join(values_list)\n",
    "    output += f\"\\nColumn: '{column}' — {distinct_count} valores únicos\\n\"\n",
    "    output += \"-\" * 50 + \"\\n\"\n",
    "    output += values_str + \"\\n\"\n",
    "print(output)"
   ]
  },
  {
   "cell_type": "code",
   "execution_count": 22,
   "id": "214c44aa-d380-4854-9eba-86430144a87d",
   "metadata": {
    "scrolled": true
   },
   "outputs": [
    {
     "name": "stderr",
     "output_type": "stream",
     "text": [
      "[Stage 202:====================================================>(109 + 1) / 110]"
     ]
    },
    {
     "name": "stdout",
     "output_type": "stream",
     "text": [
      "+-------+--------+\n",
      "|brand  |count   |\n",
      "+-------+--------+\n",
      "|None   |15331241|\n",
      "|samsung|13172018|\n",
      "|apple  |10381931|\n",
      "|xiaomi |7721825 |\n",
      "|huawei |2521331 |\n",
      "+-------+--------+\n",
      "only showing top 5 rows\n",
      "\n"
     ]
    },
    {
     "name": "stderr",
     "output_type": "stream",
     "text": [
      "                                                                                "
     ]
    }
   ],
   "source": [
    "df.groupBy(\"brand\").count().orderBy(\"count\", ascending=False).show(5, truncate=False)"
   ]
  },
  {
   "cell_type": "code",
   "execution_count": 23,
   "id": "fe9e3395-51cd-421d-93b1-a2a7805cdfd9",
   "metadata": {},
   "outputs": [
    {
     "name": "stderr",
     "output_type": "stream",
     "text": [
      "[Stage 205:====================================================>(109 + 1) / 110]"
     ]
    },
    {
     "name": "stdout",
     "output_type": "stream",
     "text": [
      "+---------------+--------+\n",
      "|parent_category|count   |\n",
      "+---------------+--------+\n",
      "|electronics    |40141700|\n",
      "|None           |35413777|\n",
      "|appliances     |13457119|\n",
      "|computers      |6505575 |\n",
      "|apparel        |4554025 |\n",
      "+---------------+--------+\n",
      "only showing top 5 rows\n",
      "\n"
     ]
    },
    {
     "name": "stderr",
     "output_type": "stream",
     "text": [
      "                                                                                "
     ]
    }
   ],
   "source": [
    "df.groupBy(\"parent_category\").count().orderBy(\"count\", ascending=False).show(5, truncate=False)"
   ]
  },
  {
   "cell_type": "code",
   "execution_count": 24,
   "id": "ea01ff22-df75-4723-9d01-3e235c9f6c3c",
   "metadata": {},
   "outputs": [
    {
     "name": "stderr",
     "output_type": "stream",
     "text": [
      "[Stage 208:====================================================>(109 + 1) / 110]"
     ]
    },
    {
     "name": "stdout",
     "output_type": "stream",
     "text": [
      "+-----------+--------+\n",
      "|subcategory|count   |\n",
      "+-----------+--------+\n",
      "|None       |35413777|\n",
      "|smartphone |27882227|\n",
      "|clocks     |3397998 |\n",
      "|video.tv   |3321794 |\n",
      "|notebook   |3318177 |\n",
      "+-----------+--------+\n",
      "only showing top 5 rows\n",
      "\n"
     ]
    },
    {
     "name": "stderr",
     "output_type": "stream",
     "text": [
      "                                                                                "
     ]
    }
   ],
   "source": [
    "df.groupBy(\"subcategory\").count().orderBy(\"count\", ascending=False).show(5, truncate=False)"
   ]
  },
  {
   "cell_type": "code",
   "execution_count": null,
   "id": "d427dc72-12df-401a-87fb-5d48328c2955",
   "metadata": {},
   "outputs": [],
   "source": []
  },
  {
   "cell_type": "code",
   "execution_count": 25,
   "id": "8457f859-b69a-4cae-8514-ba102c7d67ee",
   "metadata": {},
   "outputs": [
    {
     "name": "stdout",
     "output_type": "stream",
     "text": [
      "+----------+------+------------+-----------+----------+\n",
      "|event_time| price|price_bucket|day_of_week|is_weekend|\n",
      "+----------+------+------------+-----------+----------+\n",
      "|2019-10-31|489.07|        high|          5|     false|\n",
      "|2019-10-31|293.65|      medium|          5|     false|\n",
      "|2019-10-31| 28.31|         low|          5|     false|\n",
      "|2019-10-31|712.87|        high|          5|     false|\n",
      "|2019-10-31|183.27|      medium|          5|     false|\n",
      "+----------+------+------------+-----------+----------+\n",
      "only showing top 5 rows\n",
      "\n"
     ]
    }
   ],
   "source": [
    "# Crear una nueva columna de price_bucket para representar rangos de precios conocidos\n",
    "# Crear una nueva columna de is_weekend para agregar insights de marketing y day of week para trackear dias\n",
    "df = df.withColumn(\n",
    "    \"price_bucket\",\n",
    "    when(col(\"price\") < 100, \"low\")\n",
    "    .when((col(\"price\") >= 100) & (col(\"price\") < 300), \"medium\")\n",
    "    .otherwise(\"high\")\n",
    ")\n",
    "\n",
    "df = df.withColumn(\"event_time_ts\", to_timestamp(col(\"event_time\")))\n",
    "df = df.withColumn(\"day_of_week\", dayofweek(col(\"event_time_ts\")))\n",
    "df = df.withColumn(\n",
    "    \"is_weekend\",\n",
    "    when((col(\"day_of_week\") == 1) | (col(\"day_of_week\") == 7), True).otherwise(False)\n",
    ")\n",
    "\n",
    "df.select(\"event_time\", \"price\", \"price_bucket\", \"day_of_week\", \"is_weekend\").show(5)"
   ]
  },
  {
   "cell_type": "code",
   "execution_count": null,
   "id": "b4653bf8-5f42-446a-8c2a-f6ec6a226026",
   "metadata": {},
   "outputs": [],
   "source": []
  },
  {
   "cell_type": "code",
   "execution_count": 27,
   "id": "1a268d55-899e-48aa-85d6-5776a0f35a1c",
   "metadata": {},
   "outputs": [
    {
     "name": "stderr",
     "output_type": "stream",
     "text": [
      "[Stage 212:====================================================>(109 + 1) / 110]"
     ]
    },
    {
     "name": "stdout",
     "output_type": "stream",
     "text": [
      "+------------+--------+\n",
      "|price_bucket|   count|\n",
      "+------------+--------+\n",
      "|         low|37649697|\n",
      "|      medium|39579818|\n",
      "|        high|32721216|\n",
      "+------------+--------+\n",
      "\n"
     ]
    },
    {
     "name": "stderr",
     "output_type": "stream",
     "text": [
      "                                                                                "
     ]
    }
   ],
   "source": [
    "resultado = df.groupBy(\"price_bucket\").count()\n",
    "resultado.show()"
   ]
  },
  {
   "cell_type": "code",
   "execution_count": null,
   "id": "7d6ae151-0489-4070-8741-6e53e05596ce",
   "metadata": {},
   "outputs": [],
   "source": [
    "# Ya que tenemos valores limpios y derivados\n",
    "# Escoger el sample size de la población"
   ]
  }
 ],
 "metadata": {
  "kernelspec": {
   "display_name": "Python 3 (ipykernel)",
   "language": "python",
   "name": "python3"
  },
  "language_info": {
   "codemirror_mode": {
    "name": "ipython",
    "version": 3
   },
   "file_extension": ".py",
   "mimetype": "text/x-python",
   "name": "python",
   "nbconvert_exporter": "python",
   "pygments_lexer": "ipython3",
   "version": "3.12.9"
  }
 },
 "nbformat": 4,
 "nbformat_minor": 5
}
