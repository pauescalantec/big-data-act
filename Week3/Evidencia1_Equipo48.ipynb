{
 "cells": [
  {
   "cell_type": "code",
   "execution_count": 29,
   "id": "815ab9f0-6b99-478d-8037-03433f3584f3",
   "metadata": {},
   "outputs": [],
   "source": [
    "import logging\n",
    "logger = logging.getLogger()\n",
    "logger.setLevel(logging.CRITICAL)\n",
    "\n",
    "import findspark\n",
    "findspark.init()\n",
    "from pyspark import SparkContext, SparkConf, SQLContext\n",
    "from pyspark.sql import SparkSession\n",
    "from pyspark.sql.functions import count, sum, when, split, col, lit, max, min, expr\n",
    "from pyspark.sql.functions import to_date, var_samp, variance, var_pop, month, to_timestamp, dayofweek\n",
    "from pyspark.sql.types import NumericType, IntegerType, FloatType"
   ]
  },
  {
   "cell_type": "code",
   "execution_count": 30,
   "id": "f4e9097f",
   "metadata": {},
   "outputs": [
    {
     "data": {
      "text/html": [
       "\n",
       "            <div>\n",
       "                <p><b>SparkSession - in-memory</b></p>\n",
       "                \n",
       "        <div>\n",
       "            <p><b>SparkContext</b></p>\n",
       "\n",
       "            <p><a href=\"http://192.168.1.241:4040\">Spark UI</a></p>\n",
       "\n",
       "            <dl>\n",
       "              <dt>Version</dt>\n",
       "                <dd><code>v3.5.4</code></dd>\n",
       "              <dt>Master</dt>\n",
       "                <dd><code>local[*]</code></dd>\n",
       "              <dt>AppName</dt>\n",
       "                <dd><code>Maestria_evidencia1</code></dd>\n",
       "            </dl>\n",
       "        </div>\n",
       "        \n",
       "            </div>\n",
       "        "
      ],
      "text/plain": [
       "<pyspark.sql.session.SparkSession at 0x1095d6540>"
      ]
     },
     "execution_count": 30,
     "metadata": {},
     "output_type": "execute_result"
    }
   ],
   "source": [
    "spark = SparkSession.builder \\\n",
    "    .appName(\"Maestria_evidencia1\") \\\n",
    "    .config(\"spark.driver.memory\", \"64g\") \\\n",
    "    .config(\"spark.executor.memory\", \"32g\") \\\n",
    "    .config(\"spark.sql.shuffle.partitions\", \"32\") \\\n",
    "    .config(\"spark.default.parallelism\", \"16\") \\\n",
    "    .config(\"spark.driver.maxResultSize\", \"16g\") \\\n",
    "    .config(\"spark.sql.execution.arrow.pyspark.enabled\", \"true\").getOrCreate()\n",
    "spark.conf.set(\"spark.sql.repl.eagerEval.enabled\", True) # Mejores tablas\n",
    "spark"
   ]
  },
  {
   "cell_type": "code",
   "execution_count": 31,
   "id": "2cbbad79",
   "metadata": {},
   "outputs": [
    {
     "name": "stderr",
     "output_type": "stream",
     "text": [
      "                                                                                "
     ]
    },
    {
     "data": {
      "text/plain": [
       "Row(event_time=datetime.datetime(2019, 10, 31, 17, 0), event_type='view', product_id=1003461, category_id=2053013555631882655, category_code='electronics.smartphone', brand='xiaomi', price=489.07, user_id=520088904, user_session='4d3b30da-a5e4-49df-b1a8-ba5943f1dd33')"
      ]
     },
     "execution_count": 31,
     "metadata": {},
     "output_type": "execute_result"
    }
   ],
   "source": [
    "import kagglehub\n",
    "from kagglehub import KaggleDatasetAdapter\n",
    "\n",
    "####\n",
    "#### Opcion 1 para conseguir datos\n",
    "#### Bajar el archivo de Kaggle\n",
    "####\n",
    "####\n",
    "file_path = \"/Users/pauescalante/Documents/Maestria/Trimestre 7/BigData/Datos\"\n",
    "df = spark.read.csv(file_path, header=True, inferSchema=True)\n",
    "# df de un subset de las columnas\n",
    "spark_df = df[['event_type', 'user_id', 'product_id', 'category_id', 'price']]\n",
    "\n",
    "####\n",
    "####\n",
    "\n",
    "####\n",
    "#### Opcion 2 para conseguir datos\n",
    "#### Bajar el archivo de Kaggle\n",
    "####\n",
    "####\n",
    "\n",
    "#file_path = \"2019-Nov.csv\"\n",
    "\n",
    "#df_pandas = kagglehub.load_dataset(\n",
    "#    KaggleDatasetAdapter.PANDAS,\n",
    "#    \"mkechinov/ecommerce-behavior-data-from-multi-category-store\",\n",
    "#    file_path\n",
    "#)\n",
    "\n",
    "#spark_df = spark.createDataFrame(\n",
    "#    df_pandas[['event_type', 'user_id', 'product_id', 'category_id', 'price']]\n",
    "#)\n",
    "\n",
    "####\n",
    "####\n",
    "\n",
    "df.head()"
   ]
  },
  {
   "cell_type": "code",
   "execution_count": 33,
   "id": "dfbdae4c-4fd2-4bb3-b4d4-0c3173b6253c",
   "metadata": {},
   "outputs": [
    {
     "name": "stdout",
     "output_type": "stream",
     "text": [
      "root\n",
      " |-- event_time: timestamp (nullable = true)\n",
      " |-- event_type: string (nullable = true)\n",
      " |-- product_id: integer (nullable = true)\n",
      " |-- category_id: long (nullable = true)\n",
      " |-- category_code: string (nullable = true)\n",
      " |-- brand: string (nullable = true)\n",
      " |-- price: float (nullable = true)\n",
      " |-- user_id: integer (nullable = true)\n",
      " |-- user_session: string (nullable = true)\n",
      "\n"
     ]
    }
   ],
   "source": [
    "df = df.selectExpr(\n",
    "    'cast(event_time as timestamp) event_time',\n",
    "    'cast(event_type as string) event_type',\n",
    "    'cast(product_id as int) product_id',\n",
    "    'cast(category_id as long) category_id',\n",
    "    'cast(category_code as string) category_code',\n",
    "    'cast(brand as string) brand',\n",
    "    'cast(price as float) price',\n",
    "    'cast(user_id as int) user_id',\n",
    "    'cast(user_session as string) user_session'\n",
    ")\n",
    "\n",
    "df.printSchema()"
   ]
  },
  {
   "cell_type": "code",
   "execution_count": 32,
   "id": "bbcfc7fb-3374-4468-94e3-65ff76ad8e32",
   "metadata": {},
   "outputs": [
    {
     "name": "stdout",
     "output_type": "stream",
     "text": [
      "root\n",
      " |-- event_time: timestamp (nullable = true)\n",
      " |-- event_type: string (nullable = true)\n",
      " |-- product_id: integer (nullable = true)\n",
      " |-- category_id: long (nullable = true)\n",
      " |-- category_code: string (nullable = true)\n",
      " |-- brand: string (nullable = true)\n",
      " |-- price: double (nullable = true)\n",
      " |-- user_id: integer (nullable = true)\n",
      " |-- user_session: string (nullable = true)\n",
      "\n"
     ]
    }
   ],
   "source": [
    "df.printSchema()"
   ]
  },
  {
   "cell_type": "code",
   "execution_count": 34,
   "id": "b3117ac4-65ea-420e-97c5-830948bbf4ab",
   "metadata": {},
   "outputs": [
    {
     "name": "stderr",
     "output_type": "stream",
     "text": [
      "                                                                                "
     ]
    },
    {
     "name": "stdout",
     "output_type": "stream",
     "text": [
      "Columna 'category_code' tiene 35413780 valores null\n"
     ]
    },
    {
     "name": "stderr",
     "output_type": "stream",
     "text": [
      "                                                                                "
     ]
    },
    {
     "name": "stdout",
     "output_type": "stream",
     "text": [
      "Columna 'brand' tiene 15331243 valores null\n"
     ]
    },
    {
     "name": "stderr",
     "output_type": "stream",
     "text": [
      "[Stage 243:====================================================>(109 + 1) / 110]"
     ]
    },
    {
     "name": "stdout",
     "output_type": "stream",
     "text": [
      "Columna 'user_session' tiene 12 valores null\n"
     ]
    },
    {
     "name": "stderr",
     "output_type": "stream",
     "text": [
      "                                                                                "
     ]
    }
   ],
   "source": [
    "for column in df.columns:\n",
    "    count = df.filter(col(column).isNull()).count()\n",
    "    if count > 0:\n",
    "        print(f\"Columna '{column}' tiene {count} valores null\")"
   ]
  },
  {
   "cell_type": "code",
   "execution_count": 35,
   "id": "3fb4c068-d382-4eeb-8775-db1b6fe5903b",
   "metadata": {},
   "outputs": [
    {
     "name": "stderr",
     "output_type": "stream",
     "text": [
      "                                                                                "
     ]
    },
    {
     "name": "stdout",
     "output_type": "stream",
     "text": [
      "Valores non-null 'brand': 94619500\n"
     ]
    },
    {
     "name": "stderr",
     "output_type": "stream",
     "text": [
      "[Stage 249:====================================================>(109 + 1) / 110]"
     ]
    },
    {
     "name": "stdout",
     "output_type": "stream",
     "text": [
      "Valores non-null 'category_code': 74536963\n"
     ]
    },
    {
     "name": "stderr",
     "output_type": "stream",
     "text": [
      "                                                                                "
     ]
    }
   ],
   "source": [
    "# Verificando que existen valores non-null en las columnas\n",
    "non_null_count = df.filter(col(\"brand\").isNotNull()).count()\n",
    "print(f\"Valores non-null 'brand': {non_null_count}\")\n",
    "\n",
    "non_null_count = df.filter(col(\"category_code\").isNotNull()).count()\n",
    "print(f\"Valores non-null 'category_code': {non_null_count}\")"
   ]
  },
  {
   "cell_type": "code",
   "execution_count": 37,
   "id": "bdcad828-79bc-4f9c-b418-b60a0373583d",
   "metadata": {},
   "outputs": [],
   "source": [
    "# Dado que category_code y brand tienen muchos valores nulos, se van a convertir esos valores a None para tener algo asignado\n",
    "# Se pueden eliminar en el futuro si tenemos suficientes datos...\n",
    "df = df.fillna({\"brand\": \"None\"})\n",
    "df = df.fillna({\"category_code\": \"None\"})\n",
    "\n",
    "# Para user_session ya que el numero es muy pequeño, solamente se quitaran las entries con esos valores nulos\n",
    "df = df.na.drop(subset=[\"user_session\"])"
   ]
  },
  {
   "cell_type": "code",
   "execution_count": 38,
   "id": "45e60365-2a8f-424d-a8ef-95f8c810f2b5",
   "metadata": {},
   "outputs": [
    {
     "name": "stderr",
     "output_type": "stream",
     "text": [
      "                                                                                "
     ]
    },
    {
     "name": "stdout",
     "output_type": "stream",
     "text": [
      "Valores non-null 'brand': 109950731\n"
     ]
    },
    {
     "name": "stderr",
     "output_type": "stream",
     "text": [
      "[Stage 255:====================================================>(109 + 1) / 110]"
     ]
    },
    {
     "name": "stdout",
     "output_type": "stream",
     "text": [
      "Valores non-null 'category_code': 109950731\n"
     ]
    },
    {
     "name": "stderr",
     "output_type": "stream",
     "text": [
      "                                                                                "
     ]
    }
   ],
   "source": [
    "# Verificando que existen valores non-null en las columnas\n",
    "# Debe ser mayor que la verificación anterior ya que reemplazamos valores null a \"None\"\n",
    "non_null_count = df.filter(col(\"brand\").isNotNull()).count()\n",
    "print(f\"Valores non-null 'brand': {non_null_count}\")\n",
    "\n",
    "non_null_count = df.filter(col(\"category_code\").isNotNull()).count()\n",
    "print(f\"Valores non-null 'category_code': {non_null_count}\")"
   ]
  },
  {
   "cell_type": "code",
   "execution_count": 39,
   "id": "9ea8ce8a-c42d-4803-b179-a45ac8f62b6e",
   "metadata": {},
   "outputs": [
    {
     "name": "stderr",
     "output_type": "stream",
     "text": [
      "[Stage 308:====================================================>  (22 + 1) / 23]"
     ]
    },
    {
     "name": "stdout",
     "output_type": "stream",
     "text": [
      "\n",
      "Columna: 'event_time' — 5171097 valores distintos\n",
      "--------------------------------------------------\n",
      "\n",
      "Columna: 'event_type' — 3 valores distintos\n",
      "--------------------------------------------------\n",
      "\n",
      "Columna: 'product_id' — 206876 valores distintos\n",
      "--------------------------------------------------\n",
      "\n",
      "Columna: 'category_id' — 691 valores distintos\n",
      "--------------------------------------------------\n",
      "\n",
      "Columna: 'category_code' — 130 valores distintos\n",
      "--------------------------------------------------\n",
      "\n",
      "Columna: 'brand' — 4304 valores distintos\n",
      "--------------------------------------------------\n",
      "\n",
      "Columna: 'price' — 82966 valores distintos\n",
      "--------------------------------------------------\n",
      "\n",
      "Columna: 'user_id' — 5316649 valores distintos\n",
      "--------------------------------------------------\n",
      "\n",
      "Columna: 'user_session' — 23016650 valores distintos\n",
      "--------------------------------------------------\n",
      "\n"
     ]
    },
    {
     "name": "stderr",
     "output_type": "stream",
     "text": [
      "                                                                                "
     ]
    }
   ],
   "source": [
    "output = \"\"\n",
    "for column in df.columns:\n",
    "    # Cuantos valores existen\n",
    "    distinct_count = df.select(column).distinct().count()\n",
    "    \n",
    "    output += f\"\\nColumna: '{column}' — {distinct_count} valores distintos\\n\"\n",
    "    output += \"-\" * 50 + \"\\n\"\n",
    "\n",
    "print(output)"
   ]
  },
  {
   "cell_type": "code",
   "execution_count": 40,
   "id": "b6cb1ee1-a10e-41bb-a681-963c76438245",
   "metadata": {},
   "outputs": [
    {
     "name": "stdout",
     "output_type": "stream",
     "text": [
      "+-------------------+\n",
      "|event_time         |\n",
      "+-------------------+\n",
      "|2019-10-31 17:00:00|\n",
      "|2019-10-31 17:00:00|\n",
      "|2019-10-31 17:00:01|\n",
      "+-------------------+\n",
      "only showing top 3 rows\n",
      "\n"
     ]
    }
   ],
   "source": [
    "# Ya que event_time tiene muchos valores distintos y no ocupamos tanto detalle, podemos cambiar event_time a ser solamente, YYYY/MM/DD\n",
    "df.select(\"event_time\").show(3, truncate=False)"
   ]
  },
  {
   "cell_type": "code",
   "execution_count": 41,
   "id": "8dbe3859-bf8a-42fd-9b2c-51420a4ad4f4",
   "metadata": {},
   "outputs": [
    {
     "name": "stdout",
     "output_type": "stream",
     "text": [
      "+----------+\n",
      "|event_time|\n",
      "+----------+\n",
      "|2019-10-31|\n",
      "|2019-10-31|\n",
      "|2019-10-31|\n",
      "+----------+\n",
      "only showing top 3 rows\n",
      "\n"
     ]
    }
   ],
   "source": [
    "df = df.withColumn(\"event_time\", to_date(\"event_time\"))\n",
    "df.select(\"event_time\").show(3, truncate=False)"
   ]
  },
  {
   "cell_type": "code",
   "execution_count": 42,
   "id": "bc0b47be-680b-4a3a-a5a7-aec375c448aa",
   "metadata": {},
   "outputs": [
    {
     "name": "stderr",
     "output_type": "stream",
     "text": [
      "[Stage 314:====================================================>(109 + 1) / 110]"
     ]
    },
    {
     "name": "stdout",
     "output_type": "stream",
     "text": [
      "\n",
      "Column: 'event_time' — 62 valores distintos\n",
      "--------------------------------------------------\n",
      "\n"
     ]
    },
    {
     "name": "stderr",
     "output_type": "stream",
     "text": [
      "                                                                                "
     ]
    }
   ],
   "source": [
    "distinct_count = df.select(\"event_time\").distinct().count() \n",
    "output = f\"\\nColumn: '{'event_time'}' — {distinct_count} valores distintos\\n\"\n",
    "output += \"-\" * 50 + \"\\n\"\n",
    "print(output)"
   ]
  },
  {
   "cell_type": "code",
   "execution_count": 43,
   "id": "87cb7da2-83a5-4f08-a52f-09e3157eea6f",
   "metadata": {},
   "outputs": [
    {
     "name": "stderr",
     "output_type": "stream",
     "text": [
      "[Stage 352:====================================================>(109 + 1) / 110]"
     ]
    },
    {
     "name": "stdout",
     "output_type": "stream",
     "text": [
      "\n",
      "Columna: 'event_time' — 62 valores únicos\n",
      " Primeros 100 valores únicos:\n",
      "--------------------------------------------------\n",
      "2019-09-30, 2019-10-01, 2019-10-02, 2019-10-03, 2019-10-04, 2019-10-05, 2019-10-06, 2019-10-07, 2019-10-08, 2019-10-09, 2019-10-10, 2019-10-11, 2019-10-12, 2019-10-13, 2019-10-14, 2019-10-15, 2019-10-16, 2019-10-17, 2019-10-18, 2019-10-19, 2019-10-20, 2019-10-21, 2019-10-22, 2019-10-23, 2019-10-24, 2019-10-25, 2019-10-26, 2019-10-27, 2019-10-28, 2019-10-29, 2019-10-30, 2019-10-31, 2019-11-01, 2019-11-02, 2019-11-03, 2019-11-04, 2019-11-05, 2019-11-06, 2019-11-07, 2019-11-08, 2019-11-09, 2019-11-10, 2019-11-11, 2019-11-12, 2019-11-13, 2019-11-14, 2019-11-15, 2019-11-16, 2019-11-17, 2019-11-18, 2019-11-19, 2019-11-20, 2019-11-21, 2019-11-22, 2019-11-23, 2019-11-24, 2019-11-25, 2019-11-26, 2019-11-27, 2019-11-28, 2019-11-29, 2019-11-30\n",
      "\n",
      "Columna: 'event_type' — 3 valores únicos\n",
      " Primeros 100 valores únicos:\n",
      "--------------------------------------------------\n",
      "cart, purchase, view\n",
      "\n",
      "Columna: 'brand' — 4304 valores únicos\n",
      " Primeros 100 valores únicos:\n",
      "--------------------------------------------------\n",
      "None, a-case, a-derma, a-elita, a-mega, aardwolf, abk, abris, absolutechampion, abtoys, academie, accord, accumaster, acd, acebeam, acer, aces, achilles, acm, acme, acorp, acqua, acron, action, actiontrack, activision, acuvue, acv, acvilagrup, adagio, adam, adamas, adamex, adata, addlink, adel, adelline, adidas, adil, adile, admarginem, admira, adriatica, adrilux, advan, aeg, aeolus, aero, aerocool, aeroforce, aerolajf, aerosystem, afnan, afox, ag, agatharuizdelaprada, agl, agness, agrimotor, agu, aiken, aiko, aileron, aimile, aimoto, air-cool, airline, airmax, airwheel, aist, aivengo, ajmal, akai, akara, akel, akg, akom, akor, akpo, akro, aksion, akva, akvafor, akvalinia, akvarel, akvaton, al-ko, aladen, alaia, alaskaoriginale, alavann, albertocasiano, alca, alcasta, alcon, alctron, aldit, alerana, alesis, aletant\n",
      "\n",
      "Columna: 'category_id' — 691 valores únicos\n",
      " Primeros 100 valores únicos:\n",
      "--------------------------------------------------\n",
      "2053013552226107603, 2053013552259662037, 2053013552293216471, 2053013552326770905, 2053013552351936731, 2053013552385491165, 2053013552427434207, 2053013552469377249, 2053013552502931683, 2053013552570040549, 2053013552603594983, 2053013552637149417, 2053013552662315243, 2053013552695869677, 2053013552737812719, 2053013552788144369, 2053013552821698803, 2053013552863641845, 2053013552888807671, 2053013552913973497, 2053013552955916539, 2053013552989470973, 2053013553031414015, 2053013553056579841, 2053013553090134275, 2053013553115300101, 2053013553140465927, 2053013553165631753, 2053013553199186187, 2053013553224352013, 2053013553257906447, 2053013553283072273, 2053013553316626707, 2053013553341792533, 2053013553375346967, 2053013553459233053, 2053013553484398879, 2053013553526341921, 2053013553559896355, 2053013553853497655, 2053013553887052089, 2053013553912217915, 2053013553945772349, 2053013553970938175, 2053013554004492609, 2053013554071601477, 2053013554096767303, 2053013554121933129, 2053013554155487563, 2053013554189041997, 2053013554222596431, 2053013554247762257, 2053013554415534427, 2053013554449088861, 2053013554474254687, 2053013554499420513, 2053013554524586339, 2053013554566529381, 2053013554591695207, 2053013554625249641, 2053013554658804075, 2053013554692358509, 2053013554725912943, 2053013554751078769, 2053013554776244595, 2053013554834964853, 2053013554960793975, 2053013554994348409, 2053013555036291451, 2053013555069845885, 2053013555095011711, 2053013555120177537, 2053013555178897795, 2053013555220840837, 2053013555262783879, 2053013555287949705, 2053013555321504139, 2053013555355058573, 2053013555380224399, 2053013555413778833, 2053013555438944659, 2053013555464110485, 2053013555531219353, 2053013555573162395, 2053013555631882655, 2053013555657048481, 2053013555690602915, 2053013555724157349, 2053013555782877609, 2053013555816432043, 2053013556110033341, 2053013556135199167, 2053013556168753601, 2053013556202308035, 2053013556227473861, 2053013556252639687, 2053013556277805513, 2053013556311359947, 2053013556344914381, 2053013556403634639\n",
      "\n",
      "Columna: 'category_code' — 130 valores únicos\n",
      " Primeros 100 valores únicos:\n",
      "--------------------------------------------------\n",
      "None, accessories.bag, accessories.umbrella, accessories.wallet, apparel.belt, apparel.costume, apparel.dress, apparel.glove, apparel.jacket, apparel.jeans, apparel.jumper, apparel.scarf, apparel.shirt, apparel.shoes, apparel.shoes.ballet_shoes, apparel.shoes.espadrilles, apparel.shoes.keds, apparel.shoes.moccasins, apparel.shoes.sandals, apparel.shoes.slipons, apparel.shoes.step_ins, apparel.shorts, apparel.skirt, apparel.sock, apparel.trousers, apparel.tshirt, apparel.underwear, appliances.environment.air_conditioner, appliances.environment.air_heater, appliances.environment.fan, appliances.environment.vacuum, appliances.environment.water_heater, appliances.iron, appliances.ironing_board, appliances.kitchen.blender, appliances.kitchen.coffee_grinder, appliances.kitchen.coffee_machine, appliances.kitchen.dishwasher, appliances.kitchen.fryer, appliances.kitchen.grill, appliances.kitchen.hob, appliances.kitchen.hood, appliances.kitchen.juicer, appliances.kitchen.kettle, appliances.kitchen.meat_grinder, appliances.kitchen.microwave, appliances.kitchen.mixer, appliances.kitchen.oven, appliances.kitchen.refrigerators, appliances.kitchen.steam_cooker, appliances.kitchen.toster, appliances.kitchen.washer, appliances.personal.hair_cutter, appliances.personal.massager, appliances.personal.scales, appliances.sewing_machine, auto.accessories.alarm, auto.accessories.anti_freeze, auto.accessories.compressor, auto.accessories.parktronic, auto.accessories.player, auto.accessories.radar, auto.accessories.videoregister, auto.accessories.winch, computers.components.cooler, computers.components.cpu, computers.components.hdd, computers.components.memory, computers.components.motherboard, computers.components.power_supply, computers.components.videocards, computers.desktop, computers.ebooks, computers.notebook, computers.peripherals.camera, computers.peripherals.keyboard, computers.peripherals.monitor, computers.peripherals.mouse, computers.peripherals.printer, construction.components.faucet, construction.tools.drill, construction.tools.generator, construction.tools.light, construction.tools.painting, construction.tools.pump, construction.tools.saw, construction.tools.screw, construction.tools.soldering, construction.tools.welding, country_yard.cultivator, country_yard.furniture.bench, country_yard.furniture.hammok, country_yard.lawn_mower, electronics.audio.acoustic, electronics.audio.headphone, electronics.audio.microphone, electronics.audio.music_tools.piano, electronics.audio.subwoofer, electronics.camera.photo, electronics.camera.video\n",
      "\n"
     ]
    },
    {
     "name": "stderr",
     "output_type": "stream",
     "text": [
      "                                                                                "
     ]
    }
   ],
   "source": [
    "# Para analizar los valores distintos, incluimos los valores categorícos del data set\n",
    "df_unique = df[['event_time', 'event_type', 'brand', 'category_id', 'category_code']]\n",
    "\n",
    "output = \"\"\n",
    "for column in df_unique.columns:\n",
    "    distinct_values = df_unique.select(column).distinct().orderBy(column).collect()\n",
    "    distinct_count = len(distinct_values)\n",
    "\n",
    "    # Separados por comas\n",
    "    values_list = [str(row[column]) for row in distinct_values[:100]]\n",
    "    values_str = \", \".join(values_list)\n",
    "    output += f\"\\nColumna: '{column}' — {distinct_count} valores únicos\\n Primeros 100 valores únicos:\\n\"\n",
    "    output += \"-\" * 50 + \"\\n\"\n",
    "    output += values_str + \"\\n\"\n",
    "print(output)"
   ]
  },
  {
   "cell_type": "code",
   "execution_count": 44,
   "id": "582117ef-67aa-4700-bd25-07f8d5982fdd",
   "metadata": {},
   "outputs": [
    {
     "name": "stderr",
     "output_type": "stream",
     "text": [
      "[Stage 360:====================================================>(109 + 1) / 110]"
     ]
    },
    {
     "name": "stdout",
     "output_type": "stream",
     "text": [
      "+-------+--------------------+--------------------+-----------------+-------------------+\n",
      "|summary|          product_id|         category_id|            price|            user_id|\n",
      "+-------+--------------------+--------------------+-----------------+-------------------+\n",
      "|  count|           109950731|           109950731|        109950731|          109950731|\n",
      "|   mean|1.1755771377122113E7|2.057707155067225E18|291.6348042545759|5.366697784138143E8|\n",
      "| stddev|1.5435645021777712E7|1.949326427113854...| 356.679979733147|2.145172855534869E7|\n",
      "|    min|             1000365| 2053013552226107603|              0.0|           10300217|\n",
      "|    max|           100028554| 2187707861038006932|          2574.07|          579969851|\n",
      "+-------+--------------------+--------------------+-----------------+-------------------+\n",
      "\n"
     ]
    },
    {
     "name": "stderr",
     "output_type": "stream",
     "text": [
      "                                                                                "
     ]
    }
   ],
   "source": [
    "# Stats solamente valores numéricos\n",
    "numeric_cols = [field.name for field in df.schema.fields if isinstance(field.dataType, NumericType)]\n",
    "df.select(numeric_cols).describe().show()"
   ]
  },
  {
   "cell_type": "code",
   "execution_count": 45,
   "id": "1939696c0722a790",
   "metadata": {
    "ExecuteTime": {
     "end_time": "2025-04-27T02:10:19.584402Z",
     "start_time": "2025-04-27T02:10:19.397398Z"
    }
   },
   "outputs": [
    {
     "name": "stderr",
     "output_type": "stream",
     "text": [
      "                                                                                "
     ]
    },
    {
     "name": "stdout",
     "output_type": "stream",
     "text": [
      "+-------------------+\n",
      "|Population Variance|\n",
      "+-------------------+\n",
      "|  127220.6067853689|\n",
      "+-------------------+\n",
      "\n"
     ]
    },
    {
     "name": "stderr",
     "output_type": "stream",
     "text": [
      "[Stage 366:====================================================>(109 + 1) / 110]"
     ]
    },
    {
     "name": "stdout",
     "output_type": "stream",
     "text": [
      "+------------------+\n",
      "|   Sample Variance|\n",
      "+------------------+\n",
      "|127220.60794243813|\n",
      "+------------------+\n",
      "\n"
     ]
    },
    {
     "name": "stderr",
     "output_type": "stream",
     "text": [
      "                                                                                "
     ]
    }
   ],
   "source": [
    "# Verificar con metodos de varianza \n",
    "variance_pop = df.agg(var_pop(\"price\").alias(\"Population Variance\"))\n",
    "variance_samp = df.agg(var_samp(\"price\").alias(\"Sample Variance\"))\n",
    "variance_pop.show()\n",
    "variance_samp.show()"
   ]
  },
  {
   "cell_type": "code",
   "execution_count": 46,
   "id": "c2b075d138151f39",
   "metadata": {},
   "outputs": [
    {
     "name": "stderr",
     "output_type": "stream",
     "text": [
      "[Stage 369:====================================================>(109 + 1) / 110]"
     ]
    },
    {
     "name": "stdout",
     "output_type": "stream",
     "text": [
      "+----------+---------+\n",
      "|event_type|    count|\n",
      "+----------+---------+\n",
      "|      cart|  3955434|\n",
      "|  purchase|  1659788|\n",
      "|      view|104335509|\n",
      "+----------+---------+\n",
      "\n"
     ]
    },
    {
     "name": "stderr",
     "output_type": "stream",
     "text": [
      "                                                                                "
     ]
    }
   ],
   "source": [
    "resultado = df.groupBy(\"event_type\").count()\n",
    "resultado.show()"
   ]
  },
  {
   "cell_type": "code",
   "execution_count": 47,
   "id": "bcaca953-1d58-46a6-8d30-cf175228221a",
   "metadata": {},
   "outputs": [
    {
     "name": "stderr",
     "output_type": "stream",
     "text": [
      "[Stage 372:====================================================>(109 + 1) / 110]"
     ]
    },
    {
     "name": "stdout",
     "output_type": "stream",
     "text": [
      "+-----+--------+\n",
      "|month|   count|\n",
      "+-----+--------+\n",
      "|    9|  258646|\n",
      "|   10|42507934|\n",
      "|   11|67184151|\n",
      "+-----+--------+\n",
      "\n"
     ]
    },
    {
     "name": "stderr",
     "output_type": "stream",
     "text": [
      "                                                                                "
     ]
    }
   ],
   "source": [
    "# Agrupar fechas por mes\n",
    "df.groupBy(month(\"event_time\").alias(\"month\")) \\\n",
    "  .count() \\\n",
    "  .orderBy(\"month\") \\\n",
    "  .show()"
   ]
  },
  {
   "cell_type": "code",
   "execution_count": 48,
   "id": "eaff1273-3784-4cca-b303-b67bc9b97c3f",
   "metadata": {},
   "outputs": [],
   "source": [
    "# Añadiendo una nueva columna de categoria a partir de una existente\n",
    "# La nueva columna se llamará 'category_subset' generada a partir de las columna category_code\n",
    "from pyspark.sql.functions import col, split, instr, length, substring\n",
    "\n",
    "df = (\n",
    "    df.withColumn(\"parent_category\", split(col(\"category_code\"), \"\\\\.\")[0])\n",
    "      .withColumn(\n",
    "          \"subcategory\",\n",
    "          when(\n",
    "              instr(col(\"category_code\"), \".\") > 0,\n",
    "              expr(\"substring(category_code, instr(category_code, '.') + 1, length(category_code))\")\n",
    "          ).otherwise(\"None\")\n",
    "      )\n",
    ")"
   ]
  },
  {
   "cell_type": "code",
   "execution_count": 49,
   "id": "3eda1fd9-f8da-40b3-832e-999353166c2a",
   "metadata": {},
   "outputs": [
    {
     "name": "stdout",
     "output_type": "stream",
     "text": [
      "+----------+----------+----------+-------------------+----------------------+------+------+---------+------------------------------------+---------------+-----------+\n",
      "|event_time|event_type|product_id|category_id        |category_code         |brand |price |user_id  |user_session                        |parent_category|subcategory|\n",
      "+----------+----------+----------+-------------------+----------------------+------+------+---------+------------------------------------+---------------+-----------+\n",
      "|2019-10-31|view      |1003461   |2053013555631882655|electronics.smartphone|xiaomi|489.07|520088904|4d3b30da-a5e4-49df-b1a8-ba5943f1dd33|electronics    |smartphone |\n",
      "+----------+----------+----------+-------------------+----------------------+------+------+---------+------------------------------------+---------------+-----------+\n",
      "only showing top 1 row\n",
      "\n",
      "root\n",
      " |-- event_time: date (nullable = true)\n",
      " |-- event_type: string (nullable = true)\n",
      " |-- product_id: integer (nullable = true)\n",
      " |-- category_id: long (nullable = true)\n",
      " |-- category_code: string (nullable = false)\n",
      " |-- brand: string (nullable = false)\n",
      " |-- price: float (nullable = true)\n",
      " |-- user_id: integer (nullable = true)\n",
      " |-- user_session: string (nullable = true)\n",
      " |-- parent_category: string (nullable = true)\n",
      " |-- subcategory: string (nullable = false)\n",
      "\n"
     ]
    }
   ],
   "source": [
    "df.show(1, truncate=False)\n",
    "df.printSchema()"
   ]
  },
  {
   "cell_type": "code",
   "execution_count": 20,
   "id": "1d18988e-3c5e-4984-a11d-7f532f5319f0",
   "metadata": {},
   "outputs": [
    {
     "name": "stdout",
     "output_type": "stream",
     "text": [
      "+----------+----------+----------+-------------------+------+------+---------+------------------------------------+---------------+-----------+\n",
      "|event_time|event_type|product_id|category_id        |brand |price |user_id  |user_session                        |parent_category|subcategory|\n",
      "+----------+----------+----------+-------------------+------+------+---------+------------------------------------+---------------+-----------+\n",
      "|2019-10-31|view      |1003461   |2053013555631882655|xiaomi|489.07|520088904|4d3b30da-a5e4-49df-b1a8-ba5943f1dd33|electronics    |smartphone |\n",
      "+----------+----------+----------+-------------------+------+------+---------+------------------------------------+---------------+-----------+\n",
      "only showing top 1 row\n",
      "\n",
      "root\n",
      " |-- event_time: date (nullable = true)\n",
      " |-- event_type: string (nullable = true)\n",
      " |-- product_id: integer (nullable = true)\n",
      " |-- category_id: long (nullable = true)\n",
      " |-- brand: string (nullable = false)\n",
      " |-- price: double (nullable = true)\n",
      " |-- user_id: integer (nullable = true)\n",
      " |-- user_session: string (nullable = true)\n",
      " |-- parent_category: string (nullable = true)\n",
      " |-- subcategory: string (nullable = false)\n",
      "\n"
     ]
    }
   ],
   "source": [
    "# Se elimina la columna category_Code ya que tenemos dos columnas nuevas que representan a esta columna\n",
    "df = df.drop(\"category_code\")\n",
    "df.show(1, truncate=False)\n",
    "df.printSchema()"
   ]
  },
  {
   "cell_type": "code",
   "execution_count": 50,
   "id": "d14d388a-421e-4c55-9a38-5dc4026a0ded",
   "metadata": {},
   "outputs": [
    {
     "name": "stderr",
     "output_type": "stream",
     "text": [
      "[Stage 384:====================================================>(109 + 1) / 110]"
     ]
    },
    {
     "name": "stdout",
     "output_type": "stream",
     "text": [
      "\n",
      "Column: 'parent_category' — 14 valores únicos\n",
      "--------------------------------------------------\n",
      "None, accessories, apparel, appliances, auto, computers, construction, country_yard, electronics, furniture, kids, medicine, sport, stationery\n",
      "\n",
      "Column: 'subcategory' — 130 valores únicos\n",
      "--------------------------------------------------\n",
      "None, accessories.alarm, accessories.anti_freeze, accessories.compressor, accessories.parktronic, accessories.player, accessories.radar, accessories.videoregister, accessories.winch, audio.acoustic, audio.headphone, audio.microphone, audio.music_tools.piano, audio.subwoofer, bag, bathroom.bath, bathroom.toilet, bedroom.bed, bedroom.blanket, bedroom.pillow, belt, bicycle, camera.photo, camera.video, carriage, cartrige, clocks, components.cooler, components.cpu, components.faucet, components.hdd, components.memory, components.motherboard, components.power_supply, components.videocards, costume, cultivator, desktop, dolls, dress, ebooks, environment.air_conditioner, environment.air_heater, environment.fan, environment.vacuum, environment.water_heater, fmcg.diapers, furniture.bench, furniture.hammok, glove, iron, ironing_board, jacket, jeans, jumper, kitchen.blender, kitchen.chair, kitchen.coffee_grinder, kitchen.coffee_machine, kitchen.dishwasher, kitchen.fryer, kitchen.grill, kitchen.hob, kitchen.hood, kitchen.juicer, kitchen.kettle, kitchen.meat_grinder, kitchen.microwave, kitchen.mixer, kitchen.oven, kitchen.refrigerators, kitchen.steam_cooker, kitchen.table, kitchen.toster, kitchen.washer, lawn_mower, living_room.cabinet, living_room.chair, living_room.sofa, notebook, peripherals.camera, peripherals.keyboard, peripherals.monitor, peripherals.mouse, peripherals.printer, personal.hair_cutter, personal.massager, personal.scales, scarf, sewing_machine, shirt, shoes, shoes.ballet_shoes, shoes.espadrilles, shoes.keds, shoes.moccasins, shoes.sandals, shoes.slipons, shoes.step_ins, shorts, skates, ski, skirt, smartphone, snowboard, sock, swing, tablet, telephone, tennis, tools.drill, tools.generator, tools.light, tools.painting, tools.pump, tools.saw, tools.screw, tools.soldering, tools.tonometer, tools.welding, toys, trainer, trousers, tshirt, umbrella, underwear, universal.light, video.projector, video.tv, wallet\n",
      "\n"
     ]
    },
    {
     "name": "stderr",
     "output_type": "stream",
     "text": [
      "                                                                                "
     ]
    }
   ],
   "source": [
    "# Para analizar los valores distintos, incluimos los valores categorícos del data set\n",
    "df_unique = df[['parent_category', 'subcategory']]\n",
    "output = \"\"\n",
    "for column in df_unique.columns:\n",
    "    distinct_values = df_unique.select(column).distinct().orderBy(column).collect()\n",
    "    distinct_count = len(distinct_values)\n",
    "    \n",
    "    # Separados por comas\n",
    "    values_list = [str(row[column]) for row in distinct_values]\n",
    "    values_str = \", \".join(values_list)\n",
    "    output += f\"\\nColumn: '{column}' — {distinct_count} valores únicos\\n\"\n",
    "    output += \"-\" * 50 + \"\\n\"\n",
    "    output += values_str + \"\\n\"\n",
    "print(output)"
   ]
  },
  {
   "cell_type": "code",
   "execution_count": 22,
   "id": "214c44aa-d380-4854-9eba-86430144a87d",
   "metadata": {
    "scrolled": true
   },
   "outputs": [
    {
     "name": "stderr",
     "output_type": "stream",
     "text": [
      "[Stage 202:====================================================>(109 + 1) / 110]"
     ]
    },
    {
     "name": "stdout",
     "output_type": "stream",
     "text": [
      "+-------+--------+\n",
      "|brand  |count   |\n",
      "+-------+--------+\n",
      "|None   |15331241|\n",
      "|samsung|13172018|\n",
      "|apple  |10381931|\n",
      "|xiaomi |7721825 |\n",
      "|huawei |2521331 |\n",
      "+-------+--------+\n",
      "only showing top 5 rows\n",
      "\n"
     ]
    },
    {
     "name": "stderr",
     "output_type": "stream",
     "text": [
      "                                                                                "
     ]
    }
   ],
   "source": [
    "df.groupBy(\"brand\").count().orderBy(\"count\", ascending=False).show(5, truncate=False)"
   ]
  },
  {
   "cell_type": "code",
   "execution_count": 51,
   "id": "fe9e3395-51cd-421d-93b1-a2a7805cdfd9",
   "metadata": {},
   "outputs": [
    {
     "name": "stderr",
     "output_type": "stream",
     "text": [
      "[Stage 392:====================================================>(109 + 1) / 110]"
     ]
    },
    {
     "name": "stdout",
     "output_type": "stream",
     "text": [
      "+---------------+--------+\n",
      "|parent_category|count   |\n",
      "+---------------+--------+\n",
      "|electronics    |40141700|\n",
      "|None           |35413777|\n",
      "|appliances     |13457119|\n",
      "|computers      |6505575 |\n",
      "|apparel        |4554025 |\n",
      "+---------------+--------+\n",
      "only showing top 5 rows\n",
      "\n"
     ]
    },
    {
     "name": "stderr",
     "output_type": "stream",
     "text": [
      "                                                                                "
     ]
    }
   ],
   "source": [
    "df.groupBy(\"parent_category\").count().orderBy(\"count\", ascending=False).show(5, truncate=False)"
   ]
  },
  {
   "cell_type": "code",
   "execution_count": 52,
   "id": "ea01ff22-df75-4723-9d01-3e235c9f6c3c",
   "metadata": {},
   "outputs": [
    {
     "name": "stderr",
     "output_type": "stream",
     "text": [
      "[Stage 395:====================================================>(109 + 1) / 110]"
     ]
    },
    {
     "name": "stdout",
     "output_type": "stream",
     "text": [
      "+-----------+--------+\n",
      "|subcategory|count   |\n",
      "+-----------+--------+\n",
      "|None       |35413777|\n",
      "|smartphone |27882227|\n",
      "|clocks     |3397998 |\n",
      "|video.tv   |3321794 |\n",
      "|notebook   |3318177 |\n",
      "+-----------+--------+\n",
      "only showing top 5 rows\n",
      "\n"
     ]
    },
    {
     "name": "stderr",
     "output_type": "stream",
     "text": [
      "                                                                                "
     ]
    }
   ],
   "source": [
    "df.groupBy(\"subcategory\").count().orderBy(\"count\", ascending=False).show(5, truncate=False)"
   ]
  },
  {
   "cell_type": "code",
   "execution_count": 53,
   "id": "8457f859-b69a-4cae-8514-ba102c7d67ee",
   "metadata": {},
   "outputs": [
    {
     "name": "stdout",
     "output_type": "stream",
     "text": [
      "+----------+------+------------+-----------+----------+\n",
      "|event_time| price|price_bucket|day_of_week|is_weekend|\n",
      "+----------+------+------------+-----------+----------+\n",
      "|2019-10-31|489.07|        high|          5|     false|\n",
      "|2019-10-31|293.65|      medium|          5|     false|\n",
      "|2019-10-31| 28.31|         low|          5|     false|\n",
      "|2019-10-31|712.87|        high|          5|     false|\n",
      "|2019-10-31|183.27|      medium|          5|     false|\n",
      "+----------+------+------------+-----------+----------+\n",
      "only showing top 5 rows\n",
      "\n"
     ]
    }
   ],
   "source": [
    "# Crear una nueva columna de price_bucket para representar rangos de precios conocidos\n",
    "# Crear una nueva columna de is_weekend para agregar insights de marketing y day of week para trackear dias\n",
    "df = df.withColumn(\n",
    "    \"price_bucket\",\n",
    "    when(col(\"price\") < 100, \"low\")\n",
    "    .when((col(\"price\") >= 100) & (col(\"price\") < 300), \"medium\")\n",
    "    .otherwise(\"high\")\n",
    ")\n",
    "\n",
    "df = df.withColumn(\"event_time_ts\", to_timestamp(col(\"event_time\")))\n",
    "df = df.withColumn(\"day_of_week\", dayofweek(col(\"event_time_ts\")))\n",
    "df = df.withColumn(\n",
    "    \"is_weekend\",\n",
    "    when((col(\"day_of_week\") == 1) | (col(\"day_of_week\") == 7), True).otherwise(False)\n",
    ")\n",
    "\n",
    "df.select(\"event_time\", \"price\", \"price_bucket\", \"day_of_week\", \"is_weekend\").show(5)"
   ]
  },
  {
   "cell_type": "code",
   "execution_count": 54,
   "id": "1a268d55-899e-48aa-85d6-5776a0f35a1c",
   "metadata": {},
   "outputs": [
    {
     "name": "stderr",
     "output_type": "stream",
     "text": [
      "[Stage 399:====================================================>(109 + 1) / 110]"
     ]
    },
    {
     "name": "stdout",
     "output_type": "stream",
     "text": [
      "+------------+--------+\n",
      "|price_bucket|   count|\n",
      "+------------+--------+\n",
      "|         low|37649697|\n",
      "|      medium|39579818|\n",
      "|        high|32721216|\n",
      "+------------+--------+\n",
      "\n"
     ]
    },
    {
     "name": "stderr",
     "output_type": "stream",
     "text": [
      "                                                                                "
     ]
    }
   ],
   "source": [
    "resultado = df.groupBy(\"price_bucket\").count()\n",
    "resultado.show()"
   ]
  },
  {
   "cell_type": "code",
   "execution_count": 55,
   "id": "7d6ae151-0489-4070-8741-6e53e05596ce",
   "metadata": {},
   "outputs": [
    {
     "name": "stdout",
     "output_type": "stream",
     "text": [
      "root\n",
      " |-- event_time: date (nullable = true)\n",
      " |-- event_type: string (nullable = true)\n",
      " |-- product_id: integer (nullable = true)\n",
      " |-- category_id: long (nullable = true)\n",
      " |-- category_code: string (nullable = false)\n",
      " |-- brand: string (nullable = false)\n",
      " |-- price: float (nullable = true)\n",
      " |-- user_id: integer (nullable = true)\n",
      " |-- user_session: string (nullable = true)\n",
      " |-- parent_category: string (nullable = true)\n",
      " |-- subcategory: string (nullable = false)\n",
      " |-- price_bucket: string (nullable = false)\n",
      " |-- event_time_ts: timestamp (nullable = true)\n",
      " |-- day_of_week: integer (nullable = true)\n",
      " |-- is_weekend: boolean (nullable = false)\n",
      "\n"
     ]
    }
   ],
   "source": [
    "# Ya que tenemos valores limpios y derivados\n",
    "# Escoger el sample size de la población\n",
    "df.printSchema()"
   ]
  },
  {
   "cell_type": "code",
   "execution_count": null,
   "id": "49090fa1-80e9-406d-963f-71256d388ea4",
   "metadata": {},
   "outputs": [],
   "source": []
  }
 ],
 "metadata": {
  "kernelspec": {
   "display_name": "Python 3 (ipykernel)",
   "language": "python",
   "name": "python3"
  },
  "language_info": {
   "codemirror_mode": {
    "name": "ipython",
    "version": 3
   },
   "file_extension": ".py",
   "mimetype": "text/x-python",
   "name": "python",
   "nbconvert_exporter": "python",
   "pygments_lexer": "ipython3",
   "version": "3.12.9"
  }
 },
 "nbformat": 4,
 "nbformat_minor": 5
}
